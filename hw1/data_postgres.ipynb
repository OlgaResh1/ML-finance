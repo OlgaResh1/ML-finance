{
 "cells": [
  {
   "cell_type": "code",
   "execution_count": 4,
   "metadata": {},
   "outputs": [],
   "source": [
    "import pandas as pd\n",
    "import psycopg2"
   ]
  },
  {
   "cell_type": "code",
   "execution_count": null,
   "metadata": {},
   "outputs": [],
   "source": [
    "import os\n",
    "\n",
    "DB_NAME = os.getenv(\"DB_NAME\", \"PDATA\")\n",
    "DB_USER = os.getenv(\"DB_USER\", \"postgres\")\n",
    "DB_PASS = os.getenv(\"DB_PASSWORD\", \"postgres\")\n",
    "DB_HOST = os.getenv(\"DB_HOST\", \"localhost\")\n",
    "DB_POST = os.getenv(\"DB_PORT\", \"5432\")"
   ]
  },
  {
   "cell_type": "code",
   "execution_count": null,
   "metadata": {},
   "outputs": [],
   "source": [
    "def save_to_postgres(df, table_name='stock_data'):\n",
    "    db_config = {\n",
    "        'dbname': DB_NAME,\n",
    "        'user': DB_USER,\n",
    "        'password': DB_PASS,\n",
    "        'host': DB_HOST,\n",
    "        'port': DB_POST\n",
    "    }\n",
    "    conn = psycopg2.connect(**db_config)\n",
    "    cursor = conn.cursor()\n",
    "    create_table_query = f\"\"\"\n",
    "    CREATE TABLE IF NOT EXISTS {table_name} (\n",
    "        date DATE,\n",
    "        open FLOAT,\n",
    "        high FLOAT,\n",
    "        low FLOAT,\n",
    "        close FLOAT,\n",
    "        volume FLOAT\n",
    "    );\n",
    "    \"\"\"\n",
    "    cursor.execute(create_table_query)\n",
    "    conn.commit()\n",
    "    for _, row in df.iterrows():\n",
    "        insert_query = f\"\"\"\n",
    "        INSERT INTO {table_name} (date, open, high, low, close, volume)\n",
    "        VALUES (%s, %s, %s, %s, %s, %s);\n",
    "        \"\"\"\n",
    "        cursor.execute(insert_query, (row['date'], row['open'], row['high'], row['low'], row['close'], row['volume']))\n",
    "    conn.commit()\n",
    "    cursor.close()\n",
    "    conn.close()\n",
    "    print(f\"Data saved to PostgreSQL table {table_name}\")"
   ]
  },
  {
   "cell_type": "code",
   "execution_count": null,
   "metadata": {},
   "outputs": [],
   "source": [
    "\n",
    "def read_from_postgres(table_name='stock_data'):\n",
    "    db_config = {\n",
    "        'dbname': DB_NAME,\n",
    "        'user': DB_USER,\n",
    "        'password': DB_PASS,\n",
    "        'host': DB_HOST,\n",
    "        'port': DB_POST\n",
    "    }\n",
    "    conn = psycopg2.connect(**db_config)\n",
    "    query = f\"SELECT * FROM {table_name};\"\n",
    "    df = pd.read_sql_query(query, conn)\n",
    "    conn.close()\n",
    "    print(f\"Data read from PostgreSQL table {table_name}\")\n",
    "    return df"
   ]
  }
 ],
 "metadata": {
  "kernelspec": {
   "display_name": "base",
   "language": "python",
   "name": "python3"
  },
  "language_info": {
   "codemirror_mode": {
    "name": "ipython",
    "version": 3
   },
   "file_extension": ".py",
   "mimetype": "text/x-python",
   "name": "python",
   "nbconvert_exporter": "python",
   "pygments_lexer": "ipython3",
   "version": "3.12.2"
  }
 },
 "nbformat": 4,
 "nbformat_minor": 2
}
