{
 "cells": [
  {
   "cell_type": "code",
   "execution_count": 89,
   "metadata": {},
   "outputs": [],
   "source": [
    "import requests\n",
    "import pandas as pd\n",
    "import plotly.express as px\n",
    "import yfinance as yf\n",
    "\n",
    "from datetime import datetime, timedelta\n",
    "from summarytools import dfSummary"
   ]
  },
  {
   "cell_type": "code",
   "execution_count": 86,
   "metadata": {},
   "outputs": [],
   "source": [
    "%run ./fetch_moex.ipynb\n",
    "%run ./fetch_yfinance.ipynb\n",
    "%run ./plot_data.ipynb\n",
    "%run ./data_csv.ipynb"
   ]
  },
  {
   "cell_type": "code",
   "execution_count": 60,
   "metadata": {},
   "outputs": [],
   "source": []
  },
  {
   "cell_type": "code",
   "execution_count": 80,
   "metadata": {},
   "outputs": [],
   "source": [
    "end_date = datetime.today()\n",
    "start_date = end_date - timedelta(days=100)\n",
    "\n",
    "start_date_str = start_date.strftime('%Y-%m-%d')\n",
    "end_date_str = end_date.strftime('%Y-%m-%d')\n",
    "\n",
    "sber_df = fetch_moex_data('SBER', start_date_str, end_date_str)\n",
    "\n",
    "sber_df\n"
   ]
  },
  {
   "cell_type": "code",
   "execution_count": 81,
   "metadata": {},
   "outputs": [
    {
     "name": "stdout",
     "output_type": "stream",
     "text": [
      "<class 'pandas.core.frame.DataFrame'>\n",
      "RangeIndex: 71 entries, 0 to 70\n",
      "Data columns (total 23 columns):\n",
      " #   Column                   Non-Null Count  Dtype         \n",
      "---  ------                   --------------  -----         \n",
      " 0   boardid                  71 non-null     object        \n",
      " 1   date                     71 non-null     datetime64[ns]\n",
      " 2   shortname                71 non-null     object        \n",
      " 3   secid                    71 non-null     object        \n",
      " 4   numtrades                71 non-null     int64         \n",
      " 5   value                    71 non-null     float64       \n",
      " 6   open                     71 non-null     float64       \n",
      " 7   low                      71 non-null     float64       \n",
      " 8   high                     71 non-null     float64       \n",
      " 9   legalcloseprice          71 non-null     float64       \n",
      " 10  waprice                  71 non-null     float64       \n",
      " 11  close                    71 non-null     float64       \n",
      " 12  volume                   71 non-null     int64         \n",
      " 13  marketprice2             71 non-null     float64       \n",
      " 14  marketprice3             71 non-null     float64       \n",
      " 15  admittedquote            0 non-null      object        \n",
      " 16  mp2valtrd                71 non-null     float64       \n",
      " 17  marketprice3tradesvalue  71 non-null     float64       \n",
      " 18  admittedvalue            0 non-null      object        \n",
      " 19  waval                    71 non-null     int64         \n",
      " 20  tradingsession           71 non-null     int64         \n",
      " 21  currencyid               71 non-null     object        \n",
      " 22  trendclspr               71 non-null     float64       \n",
      "dtypes: datetime64[ns](1), float64(12), int64(4), object(6)\n",
      "memory usage: 12.9+ KB\n"
     ]
    }
   ],
   "source": [
    "sber_df.info()"
   ]
  },
  {
   "cell_type": "code",
   "execution_count": 63,
   "metadata": {},
   "outputs": [
    {
     "data": {
      "text/html": [
       "<div>\n",
       "<style scoped>\n",
       "    .dataframe tbody tr th:only-of-type {\n",
       "        vertical-align: middle;\n",
       "    }\n",
       "\n",
       "    .dataframe tbody tr th {\n",
       "        vertical-align: top;\n",
       "    }\n",
       "\n",
       "    .dataframe thead th {\n",
       "        text-align: right;\n",
       "    }\n",
       "</style>\n",
       "<table border=\"1\" class=\"dataframe\">\n",
       "  <thead>\n",
       "    <tr style=\"text-align: right;\">\n",
       "      <th></th>\n",
       "      <th>date</th>\n",
       "      <th>numtrades</th>\n",
       "      <th>value</th>\n",
       "      <th>open</th>\n",
       "      <th>low</th>\n",
       "      <th>high</th>\n",
       "      <th>legalcloseprice</th>\n",
       "      <th>waprice</th>\n",
       "      <th>close</th>\n",
       "      <th>volume</th>\n",
       "      <th>marketprice2</th>\n",
       "      <th>marketprice3</th>\n",
       "      <th>mp2valtrd</th>\n",
       "      <th>marketprice3tradesvalue</th>\n",
       "      <th>waval</th>\n",
       "      <th>tradingsession</th>\n",
       "      <th>trendclspr</th>\n",
       "    </tr>\n",
       "  </thead>\n",
       "  <tbody>\n",
       "    <tr>\n",
       "      <th>count</th>\n",
       "      <td>69</td>\n",
       "      <td>69.000000</td>\n",
       "      <td>6.900000e+01</td>\n",
       "      <td>69.000000</td>\n",
       "      <td>69.000000</td>\n",
       "      <td>69.000000</td>\n",
       "      <td>69.000000</td>\n",
       "      <td>69.000000</td>\n",
       "      <td>69.000000</td>\n",
       "      <td>6.900000e+01</td>\n",
       "      <td>69.000000</td>\n",
       "      <td>69.000000</td>\n",
       "      <td>6.900000e+01</td>\n",
       "      <td>6.900000e+01</td>\n",
       "      <td>69.0</td>\n",
       "      <td>69.0</td>\n",
       "      <td>69.000000</td>\n",
       "    </tr>\n",
       "    <tr>\n",
       "      <th>mean</th>\n",
       "      <td>2024-07-13 22:57:23.478260992</td>\n",
       "      <td>108088.304348</td>\n",
       "      <td>1.231040e+10</td>\n",
       "      <td>298.792899</td>\n",
       "      <td>295.238116</td>\n",
       "      <td>301.033188</td>\n",
       "      <td>298.151449</td>\n",
       "      <td>298.203478</td>\n",
       "      <td>298.146522</td>\n",
       "      <td>4.162023e+07</td>\n",
       "      <td>298.339565</td>\n",
       "      <td>298.339565</td>\n",
       "      <td>1.075226e+10</td>\n",
       "      <td>1.075226e+10</td>\n",
       "      <td>0.0</td>\n",
       "      <td>3.0</td>\n",
       "      <td>-0.326377</td>\n",
       "    </tr>\n",
       "    <tr>\n",
       "      <th>min</th>\n",
       "      <td>2024-05-27 00:00:00</td>\n",
       "      <td>44184.000000</td>\n",
       "      <td>4.932077e+09</td>\n",
       "      <td>259.900000</td>\n",
       "      <td>254.000000</td>\n",
       "      <td>261.800000</td>\n",
       "      <td>256.950000</td>\n",
       "      <td>256.430000</td>\n",
       "      <td>254.450000</td>\n",
       "      <td>1.547619e+07</td>\n",
       "      <td>256.710000</td>\n",
       "      <td>256.710000</td>\n",
       "      <td>3.869932e+09</td>\n",
       "      <td>3.869932e+09</td>\n",
       "      <td>0.0</td>\n",
       "      <td>3.0</td>\n",
       "      <td>-6.570000</td>\n",
       "    </tr>\n",
       "    <tr>\n",
       "      <th>25%</th>\n",
       "      <td>2024-06-20 00:00:00</td>\n",
       "      <td>73252.000000</td>\n",
       "      <td>8.270536e+09</td>\n",
       "      <td>282.790000</td>\n",
       "      <td>279.620000</td>\n",
       "      <td>284.330000</td>\n",
       "      <td>282.450000</td>\n",
       "      <td>281.340000</td>\n",
       "      <td>281.440000</td>\n",
       "      <td>2.700539e+07</td>\n",
       "      <td>281.390000</td>\n",
       "      <td>281.390000</td>\n",
       "      <td>7.186769e+09</td>\n",
       "      <td>7.186769e+09</td>\n",
       "      <td>0.0</td>\n",
       "      <td>3.0</td>\n",
       "      <td>-1.040000</td>\n",
       "    </tr>\n",
       "    <tr>\n",
       "      <th>50%</th>\n",
       "      <td>2024-07-15 00:00:00</td>\n",
       "      <td>90481.000000</td>\n",
       "      <td>1.039639e+10</td>\n",
       "      <td>295.690000</td>\n",
       "      <td>293.200000</td>\n",
       "      <td>297.300000</td>\n",
       "      <td>295.310000</td>\n",
       "      <td>295.680000</td>\n",
       "      <td>295.690000</td>\n",
       "      <td>3.480225e+07</td>\n",
       "      <td>295.630000</td>\n",
       "      <td>295.630000</td>\n",
       "      <td>8.841522e+09</td>\n",
       "      <td>8.841522e+09</td>\n",
       "      <td>0.0</td>\n",
       "      <td>3.0</td>\n",
       "      <td>-0.240000</td>\n",
       "    </tr>\n",
       "    <tr>\n",
       "      <th>75%</th>\n",
       "      <td>2024-08-07 00:00:00</td>\n",
       "      <td>124105.000000</td>\n",
       "      <td>1.415728e+10</td>\n",
       "      <td>317.650000</td>\n",
       "      <td>315.500000</td>\n",
       "      <td>320.400000</td>\n",
       "      <td>317.780000</td>\n",
       "      <td>318.140000</td>\n",
       "      <td>317.650000</td>\n",
       "      <td>4.790753e+07</td>\n",
       "      <td>318.070000</td>\n",
       "      <td>318.070000</td>\n",
       "      <td>1.262812e+10</td>\n",
       "      <td>1.262812e+10</td>\n",
       "      <td>0.0</td>\n",
       "      <td>3.0</td>\n",
       "      <td>0.440000</td>\n",
       "    </tr>\n",
       "    <tr>\n",
       "      <th>max</th>\n",
       "      <td>2024-08-30 00:00:00</td>\n",
       "      <td>524131.000000</td>\n",
       "      <td>4.873832e+10</td>\n",
       "      <td>328.580000</td>\n",
       "      <td>327.000000</td>\n",
       "      <td>330.450000</td>\n",
       "      <td>328.780000</td>\n",
       "      <td>329.160000</td>\n",
       "      <td>328.370000</td>\n",
       "      <td>1.680306e+08</td>\n",
       "      <td>329.280000</td>\n",
       "      <td>329.280000</td>\n",
       "      <td>4.598114e+10</td>\n",
       "      <td>4.598114e+10</td>\n",
       "      <td>0.0</td>\n",
       "      <td>3.0</td>\n",
       "      <td>2.270000</td>\n",
       "    </tr>\n",
       "    <tr>\n",
       "      <th>std</th>\n",
       "      <td>NaN</td>\n",
       "      <td>64786.067572</td>\n",
       "      <td>6.684950e+09</td>\n",
       "      <td>21.176829</td>\n",
       "      <td>21.787729</td>\n",
       "      <td>21.370959</td>\n",
       "      <td>21.762293</td>\n",
       "      <td>21.681877</td>\n",
       "      <td>21.892931</td>\n",
       "      <td>2.317134e+07</td>\n",
       "      <td>21.644872</td>\n",
       "      <td>21.644872</td>\n",
       "      <td>6.175040e+09</td>\n",
       "      <td>6.175040e+09</td>\n",
       "      <td>0.0</td>\n",
       "      <td>0.0</td>\n",
       "      <td>1.404157</td>\n",
       "    </tr>\n",
       "  </tbody>\n",
       "</table>\n",
       "</div>"
      ],
      "text/plain": [
       "                                date      numtrades         value        open  \\\n",
       "count                             69      69.000000  6.900000e+01   69.000000   \n",
       "mean   2024-07-13 22:57:23.478260992  108088.304348  1.231040e+10  298.792899   \n",
       "min              2024-05-27 00:00:00   44184.000000  4.932077e+09  259.900000   \n",
       "25%              2024-06-20 00:00:00   73252.000000  8.270536e+09  282.790000   \n",
       "50%              2024-07-15 00:00:00   90481.000000  1.039639e+10  295.690000   \n",
       "75%              2024-08-07 00:00:00  124105.000000  1.415728e+10  317.650000   \n",
       "max              2024-08-30 00:00:00  524131.000000  4.873832e+10  328.580000   \n",
       "std                              NaN   64786.067572  6.684950e+09   21.176829   \n",
       "\n",
       "              low        high  legalcloseprice     waprice       close  \\\n",
       "count   69.000000   69.000000        69.000000   69.000000   69.000000   \n",
       "mean   295.238116  301.033188       298.151449  298.203478  298.146522   \n",
       "min    254.000000  261.800000       256.950000  256.430000  254.450000   \n",
       "25%    279.620000  284.330000       282.450000  281.340000  281.440000   \n",
       "50%    293.200000  297.300000       295.310000  295.680000  295.690000   \n",
       "75%    315.500000  320.400000       317.780000  318.140000  317.650000   \n",
       "max    327.000000  330.450000       328.780000  329.160000  328.370000   \n",
       "std     21.787729   21.370959        21.762293   21.681877   21.892931   \n",
       "\n",
       "             volume  marketprice2  marketprice3     mp2valtrd  \\\n",
       "count  6.900000e+01     69.000000     69.000000  6.900000e+01   \n",
       "mean   4.162023e+07    298.339565    298.339565  1.075226e+10   \n",
       "min    1.547619e+07    256.710000    256.710000  3.869932e+09   \n",
       "25%    2.700539e+07    281.390000    281.390000  7.186769e+09   \n",
       "50%    3.480225e+07    295.630000    295.630000  8.841522e+09   \n",
       "75%    4.790753e+07    318.070000    318.070000  1.262812e+10   \n",
       "max    1.680306e+08    329.280000    329.280000  4.598114e+10   \n",
       "std    2.317134e+07     21.644872     21.644872  6.175040e+09   \n",
       "\n",
       "       marketprice3tradesvalue  waval  tradingsession  trendclspr  \n",
       "count             6.900000e+01   69.0            69.0   69.000000  \n",
       "mean              1.075226e+10    0.0             3.0   -0.326377  \n",
       "min               3.869932e+09    0.0             3.0   -6.570000  \n",
       "25%               7.186769e+09    0.0             3.0   -1.040000  \n",
       "50%               8.841522e+09    0.0             3.0   -0.240000  \n",
       "75%               1.262812e+10    0.0             3.0    0.440000  \n",
       "max               4.598114e+10    0.0             3.0    2.270000  \n",
       "std               6.175040e+09    0.0             0.0    1.404157  "
      ]
     },
     "execution_count": 63,
     "metadata": {},
     "output_type": "execute_result"
    }
   ],
   "source": [
    "sber_df.describe()"
   ]
  },
  {
   "cell_type": "code",
   "execution_count": 78,
   "metadata": {},
   "outputs": [
    {
     "data": {
      "application/vnd.plotly.v1+json": {
       "config": {
        "plotlyServerURL": "https://plot.ly"
       },
       "data": [
        {
         "close": [
          317.09,
          318.22,
          320.38,
          316.63,
          313.11,
          310.95,
          316.49,
          314.72,
          313.08,
          319.9,
          317.28,
          317.8,
          317.71,
          319.35,
          317.65,
          314.34,
          310.7,
          314.15,
          314.14,
          317.25,
          319.8,
          324.55,
          327.16,
          327.15,
          327.1,
          328.37,
          328.2,
          324.66,
          325,
          324.07,
          319.99,
          316.68,
          295.87,
          292.21,
          284.38,
          285.25,
          284.68,
          289.83,
          289.9,
          294.71,
          294.39,
          295.69,
          296.37,
          293.3,
          286.58,
          290,
          289.3,
          287.21,
          286.04,
          275.49,
          279.4,
          282.2,
          281.09,
          281.44,
          280.74,
          283.92,
          280.32,
          278.01,
          274.6,
          268.17,
          266.2,
          266.93,
          261.6,
          259.5,
          265.39,
          260.5,
          262.47,
          260.31,
          254.45
         ],
         "high": [
          321.95,
          320.9,
          320.4,
          321.55,
          318.49,
          315.5,
          316.5,
          318.28,
          316.45,
          320.64,
          321.98,
          319.84,
          317.82,
          320.7,
          320.45,
          318,
          314.78,
          314.72,
          316,
          319,
          319.89,
          324.56,
          327.83,
          329.3,
          329,
          328.87,
          330.45,
          329.57,
          327,
          327.44,
          325.33,
          320.3,
          296.98,
          297.48,
          293.86,
          285.69,
          289.96,
          289.99,
          292.58,
          294.95,
          295.48,
          296.67,
          297.3,
          300,
          293,
          291.99,
          291.2,
          290.69,
          287.99,
          283.46,
          281.16,
          283.27,
          285.42,
          282.67,
          281.5,
          284.33,
          284.7,
          280.85,
          279,
          275.56,
          269.49,
          267.8,
          268.5,
          262.8,
          266.95,
          266.07,
          262.47,
          264.19,
          261.8
         ],
         "low": [
          315.5,
          315.82,
          315.92,
          316,
          309.8,
          305,
          308.8,
          313.85,
          311.15,
          312.73,
          315.21,
          315.88,
          304.14,
          316.2,
          316.85,
          313.02,
          307.51,
          306.02,
          312.6,
          314.14,
          316.28,
          319.8,
          322.63,
          325.8,
          326.25,
          326.82,
          327,
          323.81,
          321.01,
          323.74,
          317.5,
          314.3,
          285.22,
          290.97,
          283.5,
          276.7,
          283.23,
          282.73,
          289.2,
          291,
          293.36,
          293.2,
          294.2,
          292.67,
          286,
          284.32,
          288.01,
          287.04,
          284.37,
          275.17,
          276.35,
          277.21,
          280,
          279.62,
          278.03,
          280.42,
          280.12,
          276.73,
          274.32,
          265.02,
          263.36,
          263.86,
          260.15,
          255.56,
          261.54,
          259.82,
          254.99,
          258.36,
          254
         ],
         "open": [
          321.01,
          317.5,
          318.25,
          320.91,
          316,
          313.5,
          310.98,
          316.63,
          314.7,
          313.8,
          320.8,
          317.5,
          305.7,
          317.8,
          320,
          317.65,
          314.38,
          310.7,
          315,
          314.7,
          317.5,
          320.1,
          324.8,
          327.87,
          327.64,
          327.35,
          328.58,
          328.39,
          324.71,
          325.76,
          324.3,
          319,
          289.96,
          296,
          293,
          284.49,
          285.84,
          284.68,
          290.67,
          291,
          295.47,
          294.39,
          295.69,
          296.4,
          293,
          286.5,
          290.47,
          289.87,
          287.21,
          282.79,
          277.01,
          280,
          283.4,
          281,
          280.01,
          281.05,
          284.3,
          280.5,
          278.05,
          275,
          268.35,
          266.2,
          266.93,
          261.61,
          263.55,
          265.83,
          259.9,
          262.58,
          260.5
         ],
         "type": "candlestick",
         "x": [
          "2024-05-27T00:00:00",
          "2024-05-28T00:00:00",
          "2024-05-29T00:00:00",
          "2024-05-30T00:00:00",
          "2024-05-31T00:00:00",
          "2024-06-03T00:00:00",
          "2024-06-04T00:00:00",
          "2024-06-05T00:00:00",
          "2024-06-06T00:00:00",
          "2024-06-07T00:00:00",
          "2024-06-10T00:00:00",
          "2024-06-11T00:00:00",
          "2024-06-13T00:00:00",
          "2024-06-14T00:00:00",
          "2024-06-17T00:00:00",
          "2024-06-18T00:00:00",
          "2024-06-19T00:00:00",
          "2024-06-20T00:00:00",
          "2024-06-21T00:00:00",
          "2024-06-24T00:00:00",
          "2024-06-25T00:00:00",
          "2024-06-26T00:00:00",
          "2024-06-27T00:00:00",
          "2024-06-28T00:00:00",
          "2024-07-01T00:00:00",
          "2024-07-02T00:00:00",
          "2024-07-03T00:00:00",
          "2024-07-04T00:00:00",
          "2024-07-05T00:00:00",
          "2024-07-08T00:00:00",
          "2024-07-09T00:00:00",
          "2024-07-10T00:00:00",
          "2024-07-11T00:00:00",
          "2024-07-12T00:00:00",
          "2024-07-15T00:00:00",
          "2024-07-16T00:00:00",
          "2024-07-17T00:00:00",
          "2024-07-18T00:00:00",
          "2024-07-19T00:00:00",
          "2024-07-22T00:00:00",
          "2024-07-23T00:00:00",
          "2024-07-24T00:00:00",
          "2024-07-25T00:00:00",
          "2024-07-26T00:00:00",
          "2024-07-29T00:00:00",
          "2024-07-30T00:00:00",
          "2024-07-31T00:00:00",
          "2024-08-01T00:00:00",
          "2024-08-02T00:00:00",
          "2024-08-05T00:00:00",
          "2024-08-06T00:00:00",
          "2024-08-07T00:00:00",
          "2024-08-08T00:00:00",
          "2024-08-09T00:00:00",
          "2024-08-12T00:00:00",
          "2024-08-13T00:00:00",
          "2024-08-14T00:00:00",
          "2024-08-15T00:00:00",
          "2024-08-16T00:00:00",
          "2024-08-19T00:00:00",
          "2024-08-20T00:00:00",
          "2024-08-21T00:00:00",
          "2024-08-22T00:00:00",
          "2024-08-23T00:00:00",
          "2024-08-26T00:00:00",
          "2024-08-27T00:00:00",
          "2024-08-28T00:00:00",
          "2024-08-29T00:00:00",
          "2024-08-30T00:00:00"
         ]
        }
       ],
       "layout": {
        "template": {
         "data": {
          "bar": [
           {
            "error_x": {
             "color": "#2a3f5f"
            },
            "error_y": {
             "color": "#2a3f5f"
            },
            "marker": {
             "line": {
              "color": "#E5ECF6",
              "width": 0.5
             },
             "pattern": {
              "fillmode": "overlay",
              "size": 10,
              "solidity": 0.2
             }
            },
            "type": "bar"
           }
          ],
          "barpolar": [
           {
            "marker": {
             "line": {
              "color": "#E5ECF6",
              "width": 0.5
             },
             "pattern": {
              "fillmode": "overlay",
              "size": 10,
              "solidity": 0.2
             }
            },
            "type": "barpolar"
           }
          ],
          "carpet": [
           {
            "aaxis": {
             "endlinecolor": "#2a3f5f",
             "gridcolor": "white",
             "linecolor": "white",
             "minorgridcolor": "white",
             "startlinecolor": "#2a3f5f"
            },
            "baxis": {
             "endlinecolor": "#2a3f5f",
             "gridcolor": "white",
             "linecolor": "white",
             "minorgridcolor": "white",
             "startlinecolor": "#2a3f5f"
            },
            "type": "carpet"
           }
          ],
          "choropleth": [
           {
            "colorbar": {
             "outlinewidth": 0,
             "ticks": ""
            },
            "type": "choropleth"
           }
          ],
          "contour": [
           {
            "colorbar": {
             "outlinewidth": 0,
             "ticks": ""
            },
            "colorscale": [
             [
              0,
              "#0d0887"
             ],
             [
              0.1111111111111111,
              "#46039f"
             ],
             [
              0.2222222222222222,
              "#7201a8"
             ],
             [
              0.3333333333333333,
              "#9c179e"
             ],
             [
              0.4444444444444444,
              "#bd3786"
             ],
             [
              0.5555555555555556,
              "#d8576b"
             ],
             [
              0.6666666666666666,
              "#ed7953"
             ],
             [
              0.7777777777777778,
              "#fb9f3a"
             ],
             [
              0.8888888888888888,
              "#fdca26"
             ],
             [
              1,
              "#f0f921"
             ]
            ],
            "type": "contour"
           }
          ],
          "contourcarpet": [
           {
            "colorbar": {
             "outlinewidth": 0,
             "ticks": ""
            },
            "type": "contourcarpet"
           }
          ],
          "heatmap": [
           {
            "colorbar": {
             "outlinewidth": 0,
             "ticks": ""
            },
            "colorscale": [
             [
              0,
              "#0d0887"
             ],
             [
              0.1111111111111111,
              "#46039f"
             ],
             [
              0.2222222222222222,
              "#7201a8"
             ],
             [
              0.3333333333333333,
              "#9c179e"
             ],
             [
              0.4444444444444444,
              "#bd3786"
             ],
             [
              0.5555555555555556,
              "#d8576b"
             ],
             [
              0.6666666666666666,
              "#ed7953"
             ],
             [
              0.7777777777777778,
              "#fb9f3a"
             ],
             [
              0.8888888888888888,
              "#fdca26"
             ],
             [
              1,
              "#f0f921"
             ]
            ],
            "type": "heatmap"
           }
          ],
          "heatmapgl": [
           {
            "colorbar": {
             "outlinewidth": 0,
             "ticks": ""
            },
            "colorscale": [
             [
              0,
              "#0d0887"
             ],
             [
              0.1111111111111111,
              "#46039f"
             ],
             [
              0.2222222222222222,
              "#7201a8"
             ],
             [
              0.3333333333333333,
              "#9c179e"
             ],
             [
              0.4444444444444444,
              "#bd3786"
             ],
             [
              0.5555555555555556,
              "#d8576b"
             ],
             [
              0.6666666666666666,
              "#ed7953"
             ],
             [
              0.7777777777777778,
              "#fb9f3a"
             ],
             [
              0.8888888888888888,
              "#fdca26"
             ],
             [
              1,
              "#f0f921"
             ]
            ],
            "type": "heatmapgl"
           }
          ],
          "histogram": [
           {
            "marker": {
             "pattern": {
              "fillmode": "overlay",
              "size": 10,
              "solidity": 0.2
             }
            },
            "type": "histogram"
           }
          ],
          "histogram2d": [
           {
            "colorbar": {
             "outlinewidth": 0,
             "ticks": ""
            },
            "colorscale": [
             [
              0,
              "#0d0887"
             ],
             [
              0.1111111111111111,
              "#46039f"
             ],
             [
              0.2222222222222222,
              "#7201a8"
             ],
             [
              0.3333333333333333,
              "#9c179e"
             ],
             [
              0.4444444444444444,
              "#bd3786"
             ],
             [
              0.5555555555555556,
              "#d8576b"
             ],
             [
              0.6666666666666666,
              "#ed7953"
             ],
             [
              0.7777777777777778,
              "#fb9f3a"
             ],
             [
              0.8888888888888888,
              "#fdca26"
             ],
             [
              1,
              "#f0f921"
             ]
            ],
            "type": "histogram2d"
           }
          ],
          "histogram2dcontour": [
           {
            "colorbar": {
             "outlinewidth": 0,
             "ticks": ""
            },
            "colorscale": [
             [
              0,
              "#0d0887"
             ],
             [
              0.1111111111111111,
              "#46039f"
             ],
             [
              0.2222222222222222,
              "#7201a8"
             ],
             [
              0.3333333333333333,
              "#9c179e"
             ],
             [
              0.4444444444444444,
              "#bd3786"
             ],
             [
              0.5555555555555556,
              "#d8576b"
             ],
             [
              0.6666666666666666,
              "#ed7953"
             ],
             [
              0.7777777777777778,
              "#fb9f3a"
             ],
             [
              0.8888888888888888,
              "#fdca26"
             ],
             [
              1,
              "#f0f921"
             ]
            ],
            "type": "histogram2dcontour"
           }
          ],
          "mesh3d": [
           {
            "colorbar": {
             "outlinewidth": 0,
             "ticks": ""
            },
            "type": "mesh3d"
           }
          ],
          "parcoords": [
           {
            "line": {
             "colorbar": {
              "outlinewidth": 0,
              "ticks": ""
             }
            },
            "type": "parcoords"
           }
          ],
          "pie": [
           {
            "automargin": true,
            "type": "pie"
           }
          ],
          "scatter": [
           {
            "fillpattern": {
             "fillmode": "overlay",
             "size": 10,
             "solidity": 0.2
            },
            "type": "scatter"
           }
          ],
          "scatter3d": [
           {
            "line": {
             "colorbar": {
              "outlinewidth": 0,
              "ticks": ""
             }
            },
            "marker": {
             "colorbar": {
              "outlinewidth": 0,
              "ticks": ""
             }
            },
            "type": "scatter3d"
           }
          ],
          "scattercarpet": [
           {
            "marker": {
             "colorbar": {
              "outlinewidth": 0,
              "ticks": ""
             }
            },
            "type": "scattercarpet"
           }
          ],
          "scattergeo": [
           {
            "marker": {
             "colorbar": {
              "outlinewidth": 0,
              "ticks": ""
             }
            },
            "type": "scattergeo"
           }
          ],
          "scattergl": [
           {
            "marker": {
             "colorbar": {
              "outlinewidth": 0,
              "ticks": ""
             }
            },
            "type": "scattergl"
           }
          ],
          "scattermapbox": [
           {
            "marker": {
             "colorbar": {
              "outlinewidth": 0,
              "ticks": ""
             }
            },
            "type": "scattermapbox"
           }
          ],
          "scatterpolar": [
           {
            "marker": {
             "colorbar": {
              "outlinewidth": 0,
              "ticks": ""
             }
            },
            "type": "scatterpolar"
           }
          ],
          "scatterpolargl": [
           {
            "marker": {
             "colorbar": {
              "outlinewidth": 0,
              "ticks": ""
             }
            },
            "type": "scatterpolargl"
           }
          ],
          "scatterternary": [
           {
            "marker": {
             "colorbar": {
              "outlinewidth": 0,
              "ticks": ""
             }
            },
            "type": "scatterternary"
           }
          ],
          "surface": [
           {
            "colorbar": {
             "outlinewidth": 0,
             "ticks": ""
            },
            "colorscale": [
             [
              0,
              "#0d0887"
             ],
             [
              0.1111111111111111,
              "#46039f"
             ],
             [
              0.2222222222222222,
              "#7201a8"
             ],
             [
              0.3333333333333333,
              "#9c179e"
             ],
             [
              0.4444444444444444,
              "#bd3786"
             ],
             [
              0.5555555555555556,
              "#d8576b"
             ],
             [
              0.6666666666666666,
              "#ed7953"
             ],
             [
              0.7777777777777778,
              "#fb9f3a"
             ],
             [
              0.8888888888888888,
              "#fdca26"
             ],
             [
              1,
              "#f0f921"
             ]
            ],
            "type": "surface"
           }
          ],
          "table": [
           {
            "cells": {
             "fill": {
              "color": "#EBF0F8"
             },
             "line": {
              "color": "white"
             }
            },
            "header": {
             "fill": {
              "color": "#C8D4E3"
             },
             "line": {
              "color": "white"
             }
            },
            "type": "table"
           }
          ]
         },
         "layout": {
          "annotationdefaults": {
           "arrowcolor": "#2a3f5f",
           "arrowhead": 0,
           "arrowwidth": 1
          },
          "autotypenumbers": "strict",
          "coloraxis": {
           "colorbar": {
            "outlinewidth": 0,
            "ticks": ""
           }
          },
          "colorscale": {
           "diverging": [
            [
             0,
             "#8e0152"
            ],
            [
             0.1,
             "#c51b7d"
            ],
            [
             0.2,
             "#de77ae"
            ],
            [
             0.3,
             "#f1b6da"
            ],
            [
             0.4,
             "#fde0ef"
            ],
            [
             0.5,
             "#f7f7f7"
            ],
            [
             0.6,
             "#e6f5d0"
            ],
            [
             0.7,
             "#b8e186"
            ],
            [
             0.8,
             "#7fbc41"
            ],
            [
             0.9,
             "#4d9221"
            ],
            [
             1,
             "#276419"
            ]
           ],
           "sequential": [
            [
             0,
             "#0d0887"
            ],
            [
             0.1111111111111111,
             "#46039f"
            ],
            [
             0.2222222222222222,
             "#7201a8"
            ],
            [
             0.3333333333333333,
             "#9c179e"
            ],
            [
             0.4444444444444444,
             "#bd3786"
            ],
            [
             0.5555555555555556,
             "#d8576b"
            ],
            [
             0.6666666666666666,
             "#ed7953"
            ],
            [
             0.7777777777777778,
             "#fb9f3a"
            ],
            [
             0.8888888888888888,
             "#fdca26"
            ],
            [
             1,
             "#f0f921"
            ]
           ],
           "sequentialminus": [
            [
             0,
             "#0d0887"
            ],
            [
             0.1111111111111111,
             "#46039f"
            ],
            [
             0.2222222222222222,
             "#7201a8"
            ],
            [
             0.3333333333333333,
             "#9c179e"
            ],
            [
             0.4444444444444444,
             "#bd3786"
            ],
            [
             0.5555555555555556,
             "#d8576b"
            ],
            [
             0.6666666666666666,
             "#ed7953"
            ],
            [
             0.7777777777777778,
             "#fb9f3a"
            ],
            [
             0.8888888888888888,
             "#fdca26"
            ],
            [
             1,
             "#f0f921"
            ]
           ]
          },
          "colorway": [
           "#636efa",
           "#EF553B",
           "#00cc96",
           "#ab63fa",
           "#FFA15A",
           "#19d3f3",
           "#FF6692",
           "#B6E880",
           "#FF97FF",
           "#FECB52"
          ],
          "font": {
           "color": "#2a3f5f"
          },
          "geo": {
           "bgcolor": "white",
           "lakecolor": "white",
           "landcolor": "#E5ECF6",
           "showlakes": true,
           "showland": true,
           "subunitcolor": "white"
          },
          "hoverlabel": {
           "align": "left"
          },
          "hovermode": "closest",
          "mapbox": {
           "style": "light"
          },
          "paper_bgcolor": "white",
          "plot_bgcolor": "#E5ECF6",
          "polar": {
           "angularaxis": {
            "gridcolor": "white",
            "linecolor": "white",
            "ticks": ""
           },
           "bgcolor": "#E5ECF6",
           "radialaxis": {
            "gridcolor": "white",
            "linecolor": "white",
            "ticks": ""
           }
          },
          "scene": {
           "xaxis": {
            "backgroundcolor": "#E5ECF6",
            "gridcolor": "white",
            "gridwidth": 2,
            "linecolor": "white",
            "showbackground": true,
            "ticks": "",
            "zerolinecolor": "white"
           },
           "yaxis": {
            "backgroundcolor": "#E5ECF6",
            "gridcolor": "white",
            "gridwidth": 2,
            "linecolor": "white",
            "showbackground": true,
            "ticks": "",
            "zerolinecolor": "white"
           },
           "zaxis": {
            "backgroundcolor": "#E5ECF6",
            "gridcolor": "white",
            "gridwidth": 2,
            "linecolor": "white",
            "showbackground": true,
            "ticks": "",
            "zerolinecolor": "white"
           }
          },
          "shapedefaults": {
           "line": {
            "color": "#2a3f5f"
           }
          },
          "ternary": {
           "aaxis": {
            "gridcolor": "white",
            "linecolor": "white",
            "ticks": ""
           },
           "baxis": {
            "gridcolor": "white",
            "linecolor": "white",
            "ticks": ""
           },
           "bgcolor": "#E5ECF6",
           "caxis": {
            "gridcolor": "white",
            "linecolor": "white",
            "ticks": ""
           }
          },
          "title": {
           "x": 0.05
          },
          "xaxis": {
           "automargin": true,
           "gridcolor": "white",
           "linecolor": "white",
           "ticks": "",
           "title": {
            "standoff": 15
           },
           "zerolinecolor": "white",
           "zerolinewidth": 2
          },
          "yaxis": {
           "automargin": true,
           "gridcolor": "white",
           "linecolor": "white",
           "ticks": "",
           "title": {
            "standoff": 15
           },
           "zerolinecolor": "white",
           "zerolinewidth": 2
          }
         }
        },
        "title": {
         "text": "SBER"
        },
        "xaxis": {
         "title": {
          "text": "Date"
         }
        },
        "yaxis": {
         "title": {
          "text": "Closing Price (RUB)"
         }
        }
       }
      },
      "text/html": [
       "<div>                            <div id=\"a7282b13-fbd1-474c-bac7-837c39a15511\" class=\"plotly-graph-div\" style=\"height:525px; width:100%;\"></div>            <script type=\"text/javascript\">                require([\"plotly\"], function(Plotly) {                    window.PLOTLYENV=window.PLOTLYENV || {};                                    if (document.getElementById(\"a7282b13-fbd1-474c-bac7-837c39a15511\")) {                    Plotly.newPlot(                        \"a7282b13-fbd1-474c-bac7-837c39a15511\",                        [{\"close\":[317.09,318.22,320.38,316.63,313.11,310.95,316.49,314.72,313.08,319.9,317.28,317.8,317.71,319.35,317.65,314.34,310.7,314.15,314.14,317.25,319.8,324.55,327.16,327.15,327.1,328.37,328.2,324.66,325.0,324.07,319.99,316.68,295.87,292.21,284.38,285.25,284.68,289.83,289.9,294.71,294.39,295.69,296.37,293.3,286.58,290.0,289.3,287.21,286.04,275.49,279.4,282.2,281.09,281.44,280.74,283.92,280.32,278.01,274.6,268.17,266.2,266.93,261.6,259.5,265.39,260.5,262.47,260.31,254.45],\"high\":[321.95,320.9,320.4,321.55,318.49,315.5,316.5,318.28,316.45,320.64,321.98,319.84,317.82,320.7,320.45,318.0,314.78,314.72,316.0,319.0,319.89,324.56,327.83,329.3,329.0,328.87,330.45,329.57,327.0,327.44,325.33,320.3,296.98,297.48,293.86,285.69,289.96,289.99,292.58,294.95,295.48,296.67,297.3,300.0,293.0,291.99,291.2,290.69,287.99,283.46,281.16,283.27,285.42,282.67,281.5,284.33,284.7,280.85,279.0,275.56,269.49,267.8,268.5,262.8,266.95,266.07,262.47,264.19,261.8],\"low\":[315.5,315.82,315.92,316.0,309.8,305.0,308.8,313.85,311.15,312.73,315.21,315.88,304.14,316.2,316.85,313.02,307.51,306.02,312.6,314.14,316.28,319.8,322.63,325.8,326.25,326.82,327.0,323.81,321.01,323.74,317.5,314.3,285.22,290.97,283.5,276.7,283.23,282.73,289.2,291.0,293.36,293.2,294.2,292.67,286.0,284.32,288.01,287.04,284.37,275.17,276.35,277.21,280.0,279.62,278.03,280.42,280.12,276.73,274.32,265.02,263.36,263.86,260.15,255.56,261.54,259.82,254.99,258.36,254.0],\"open\":[321.01,317.5,318.25,320.91,316.0,313.5,310.98,316.63,314.7,313.8,320.8,317.5,305.7,317.8,320.0,317.65,314.38,310.7,315.0,314.7,317.5,320.1,324.8,327.87,327.64,327.35,328.58,328.39,324.71,325.76,324.3,319.0,289.96,296.0,293.0,284.49,285.84,284.68,290.67,291.0,295.47,294.39,295.69,296.4,293.0,286.5,290.47,289.87,287.21,282.79,277.01,280.0,283.4,281.0,280.01,281.05,284.3,280.5,278.05,275.0,268.35,266.2,266.93,261.61,263.55,265.83,259.9,262.58,260.5],\"x\":[\"2024-05-27T00:00:00\",\"2024-05-28T00:00:00\",\"2024-05-29T00:00:00\",\"2024-05-30T00:00:00\",\"2024-05-31T00:00:00\",\"2024-06-03T00:00:00\",\"2024-06-04T00:00:00\",\"2024-06-05T00:00:00\",\"2024-06-06T00:00:00\",\"2024-06-07T00:00:00\",\"2024-06-10T00:00:00\",\"2024-06-11T00:00:00\",\"2024-06-13T00:00:00\",\"2024-06-14T00:00:00\",\"2024-06-17T00:00:00\",\"2024-06-18T00:00:00\",\"2024-06-19T00:00:00\",\"2024-06-20T00:00:00\",\"2024-06-21T00:00:00\",\"2024-06-24T00:00:00\",\"2024-06-25T00:00:00\",\"2024-06-26T00:00:00\",\"2024-06-27T00:00:00\",\"2024-06-28T00:00:00\",\"2024-07-01T00:00:00\",\"2024-07-02T00:00:00\",\"2024-07-03T00:00:00\",\"2024-07-04T00:00:00\",\"2024-07-05T00:00:00\",\"2024-07-08T00:00:00\",\"2024-07-09T00:00:00\",\"2024-07-10T00:00:00\",\"2024-07-11T00:00:00\",\"2024-07-12T00:00:00\",\"2024-07-15T00:00:00\",\"2024-07-16T00:00:00\",\"2024-07-17T00:00:00\",\"2024-07-18T00:00:00\",\"2024-07-19T00:00:00\",\"2024-07-22T00:00:00\",\"2024-07-23T00:00:00\",\"2024-07-24T00:00:00\",\"2024-07-25T00:00:00\",\"2024-07-26T00:00:00\",\"2024-07-29T00:00:00\",\"2024-07-30T00:00:00\",\"2024-07-31T00:00:00\",\"2024-08-01T00:00:00\",\"2024-08-02T00:00:00\",\"2024-08-05T00:00:00\",\"2024-08-06T00:00:00\",\"2024-08-07T00:00:00\",\"2024-08-08T00:00:00\",\"2024-08-09T00:00:00\",\"2024-08-12T00:00:00\",\"2024-08-13T00:00:00\",\"2024-08-14T00:00:00\",\"2024-08-15T00:00:00\",\"2024-08-16T00:00:00\",\"2024-08-19T00:00:00\",\"2024-08-20T00:00:00\",\"2024-08-21T00:00:00\",\"2024-08-22T00:00:00\",\"2024-08-23T00:00:00\",\"2024-08-26T00:00:00\",\"2024-08-27T00:00:00\",\"2024-08-28T00:00:00\",\"2024-08-29T00:00:00\",\"2024-08-30T00:00:00\"],\"type\":\"candlestick\"}],                        {\"template\":{\"data\":{\"histogram2dcontour\":[{\"type\":\"histogram2dcontour\",\"colorbar\":{\"outlinewidth\":0,\"ticks\":\"\"},\"colorscale\":[[0.0,\"#0d0887\"],[0.1111111111111111,\"#46039f\"],[0.2222222222222222,\"#7201a8\"],[0.3333333333333333,\"#9c179e\"],[0.4444444444444444,\"#bd3786\"],[0.5555555555555556,\"#d8576b\"],[0.6666666666666666,\"#ed7953\"],[0.7777777777777778,\"#fb9f3a\"],[0.8888888888888888,\"#fdca26\"],[1.0,\"#f0f921\"]]}],\"choropleth\":[{\"type\":\"choropleth\",\"colorbar\":{\"outlinewidth\":0,\"ticks\":\"\"}}],\"histogram2d\":[{\"type\":\"histogram2d\",\"colorbar\":{\"outlinewidth\":0,\"ticks\":\"\"},\"colorscale\":[[0.0,\"#0d0887\"],[0.1111111111111111,\"#46039f\"],[0.2222222222222222,\"#7201a8\"],[0.3333333333333333,\"#9c179e\"],[0.4444444444444444,\"#bd3786\"],[0.5555555555555556,\"#d8576b\"],[0.6666666666666666,\"#ed7953\"],[0.7777777777777778,\"#fb9f3a\"],[0.8888888888888888,\"#fdca26\"],[1.0,\"#f0f921\"]]}],\"heatmap\":[{\"type\":\"heatmap\",\"colorbar\":{\"outlinewidth\":0,\"ticks\":\"\"},\"colorscale\":[[0.0,\"#0d0887\"],[0.1111111111111111,\"#46039f\"],[0.2222222222222222,\"#7201a8\"],[0.3333333333333333,\"#9c179e\"],[0.4444444444444444,\"#bd3786\"],[0.5555555555555556,\"#d8576b\"],[0.6666666666666666,\"#ed7953\"],[0.7777777777777778,\"#fb9f3a\"],[0.8888888888888888,\"#fdca26\"],[1.0,\"#f0f921\"]]}],\"heatmapgl\":[{\"type\":\"heatmapgl\",\"colorbar\":{\"outlinewidth\":0,\"ticks\":\"\"},\"colorscale\":[[0.0,\"#0d0887\"],[0.1111111111111111,\"#46039f\"],[0.2222222222222222,\"#7201a8\"],[0.3333333333333333,\"#9c179e\"],[0.4444444444444444,\"#bd3786\"],[0.5555555555555556,\"#d8576b\"],[0.6666666666666666,\"#ed7953\"],[0.7777777777777778,\"#fb9f3a\"],[0.8888888888888888,\"#fdca26\"],[1.0,\"#f0f921\"]]}],\"contourcarpet\":[{\"type\":\"contourcarpet\",\"colorbar\":{\"outlinewidth\":0,\"ticks\":\"\"}}],\"contour\":[{\"type\":\"contour\",\"colorbar\":{\"outlinewidth\":0,\"ticks\":\"\"},\"colorscale\":[[0.0,\"#0d0887\"],[0.1111111111111111,\"#46039f\"],[0.2222222222222222,\"#7201a8\"],[0.3333333333333333,\"#9c179e\"],[0.4444444444444444,\"#bd3786\"],[0.5555555555555556,\"#d8576b\"],[0.6666666666666666,\"#ed7953\"],[0.7777777777777778,\"#fb9f3a\"],[0.8888888888888888,\"#fdca26\"],[1.0,\"#f0f921\"]]}],\"surface\":[{\"type\":\"surface\",\"colorbar\":{\"outlinewidth\":0,\"ticks\":\"\"},\"colorscale\":[[0.0,\"#0d0887\"],[0.1111111111111111,\"#46039f\"],[0.2222222222222222,\"#7201a8\"],[0.3333333333333333,\"#9c179e\"],[0.4444444444444444,\"#bd3786\"],[0.5555555555555556,\"#d8576b\"],[0.6666666666666666,\"#ed7953\"],[0.7777777777777778,\"#fb9f3a\"],[0.8888888888888888,\"#fdca26\"],[1.0,\"#f0f921\"]]}],\"mesh3d\":[{\"type\":\"mesh3d\",\"colorbar\":{\"outlinewidth\":0,\"ticks\":\"\"}}],\"scatter\":[{\"fillpattern\":{\"fillmode\":\"overlay\",\"size\":10,\"solidity\":0.2},\"type\":\"scatter\"}],\"parcoords\":[{\"type\":\"parcoords\",\"line\":{\"colorbar\":{\"outlinewidth\":0,\"ticks\":\"\"}}}],\"scatterpolargl\":[{\"type\":\"scatterpolargl\",\"marker\":{\"colorbar\":{\"outlinewidth\":0,\"ticks\":\"\"}}}],\"bar\":[{\"error_x\":{\"color\":\"#2a3f5f\"},\"error_y\":{\"color\":\"#2a3f5f\"},\"marker\":{\"line\":{\"color\":\"#E5ECF6\",\"width\":0.5},\"pattern\":{\"fillmode\":\"overlay\",\"size\":10,\"solidity\":0.2}},\"type\":\"bar\"}],\"scattergeo\":[{\"type\":\"scattergeo\",\"marker\":{\"colorbar\":{\"outlinewidth\":0,\"ticks\":\"\"}}}],\"scatterpolar\":[{\"type\":\"scatterpolar\",\"marker\":{\"colorbar\":{\"outlinewidth\":0,\"ticks\":\"\"}}}],\"histogram\":[{\"marker\":{\"pattern\":{\"fillmode\":\"overlay\",\"size\":10,\"solidity\":0.2}},\"type\":\"histogram\"}],\"scattergl\":[{\"type\":\"scattergl\",\"marker\":{\"colorbar\":{\"outlinewidth\":0,\"ticks\":\"\"}}}],\"scatter3d\":[{\"type\":\"scatter3d\",\"line\":{\"colorbar\":{\"outlinewidth\":0,\"ticks\":\"\"}},\"marker\":{\"colorbar\":{\"outlinewidth\":0,\"ticks\":\"\"}}}],\"scattermapbox\":[{\"type\":\"scattermapbox\",\"marker\":{\"colorbar\":{\"outlinewidth\":0,\"ticks\":\"\"}}}],\"scatterternary\":[{\"type\":\"scatterternary\",\"marker\":{\"colorbar\":{\"outlinewidth\":0,\"ticks\":\"\"}}}],\"scattercarpet\":[{\"type\":\"scattercarpet\",\"marker\":{\"colorbar\":{\"outlinewidth\":0,\"ticks\":\"\"}}}],\"carpet\":[{\"aaxis\":{\"endlinecolor\":\"#2a3f5f\",\"gridcolor\":\"white\",\"linecolor\":\"white\",\"minorgridcolor\":\"white\",\"startlinecolor\":\"#2a3f5f\"},\"baxis\":{\"endlinecolor\":\"#2a3f5f\",\"gridcolor\":\"white\",\"linecolor\":\"white\",\"minorgridcolor\":\"white\",\"startlinecolor\":\"#2a3f5f\"},\"type\":\"carpet\"}],\"table\":[{\"cells\":{\"fill\":{\"color\":\"#EBF0F8\"},\"line\":{\"color\":\"white\"}},\"header\":{\"fill\":{\"color\":\"#C8D4E3\"},\"line\":{\"color\":\"white\"}},\"type\":\"table\"}],\"barpolar\":[{\"marker\":{\"line\":{\"color\":\"#E5ECF6\",\"width\":0.5},\"pattern\":{\"fillmode\":\"overlay\",\"size\":10,\"solidity\":0.2}},\"type\":\"barpolar\"}],\"pie\":[{\"automargin\":true,\"type\":\"pie\"}]},\"layout\":{\"autotypenumbers\":\"strict\",\"colorway\":[\"#636efa\",\"#EF553B\",\"#00cc96\",\"#ab63fa\",\"#FFA15A\",\"#19d3f3\",\"#FF6692\",\"#B6E880\",\"#FF97FF\",\"#FECB52\"],\"font\":{\"color\":\"#2a3f5f\"},\"hovermode\":\"closest\",\"hoverlabel\":{\"align\":\"left\"},\"paper_bgcolor\":\"white\",\"plot_bgcolor\":\"#E5ECF6\",\"polar\":{\"bgcolor\":\"#E5ECF6\",\"angularaxis\":{\"gridcolor\":\"white\",\"linecolor\":\"white\",\"ticks\":\"\"},\"radialaxis\":{\"gridcolor\":\"white\",\"linecolor\":\"white\",\"ticks\":\"\"}},\"ternary\":{\"bgcolor\":\"#E5ECF6\",\"aaxis\":{\"gridcolor\":\"white\",\"linecolor\":\"white\",\"ticks\":\"\"},\"baxis\":{\"gridcolor\":\"white\",\"linecolor\":\"white\",\"ticks\":\"\"},\"caxis\":{\"gridcolor\":\"white\",\"linecolor\":\"white\",\"ticks\":\"\"}},\"coloraxis\":{\"colorbar\":{\"outlinewidth\":0,\"ticks\":\"\"}},\"colorscale\":{\"sequential\":[[0.0,\"#0d0887\"],[0.1111111111111111,\"#46039f\"],[0.2222222222222222,\"#7201a8\"],[0.3333333333333333,\"#9c179e\"],[0.4444444444444444,\"#bd3786\"],[0.5555555555555556,\"#d8576b\"],[0.6666666666666666,\"#ed7953\"],[0.7777777777777778,\"#fb9f3a\"],[0.8888888888888888,\"#fdca26\"],[1.0,\"#f0f921\"]],\"sequentialminus\":[[0.0,\"#0d0887\"],[0.1111111111111111,\"#46039f\"],[0.2222222222222222,\"#7201a8\"],[0.3333333333333333,\"#9c179e\"],[0.4444444444444444,\"#bd3786\"],[0.5555555555555556,\"#d8576b\"],[0.6666666666666666,\"#ed7953\"],[0.7777777777777778,\"#fb9f3a\"],[0.8888888888888888,\"#fdca26\"],[1.0,\"#f0f921\"]],\"diverging\":[[0,\"#8e0152\"],[0.1,\"#c51b7d\"],[0.2,\"#de77ae\"],[0.3,\"#f1b6da\"],[0.4,\"#fde0ef\"],[0.5,\"#f7f7f7\"],[0.6,\"#e6f5d0\"],[0.7,\"#b8e186\"],[0.8,\"#7fbc41\"],[0.9,\"#4d9221\"],[1,\"#276419\"]]},\"xaxis\":{\"gridcolor\":\"white\",\"linecolor\":\"white\",\"ticks\":\"\",\"title\":{\"standoff\":15},\"zerolinecolor\":\"white\",\"automargin\":true,\"zerolinewidth\":2},\"yaxis\":{\"gridcolor\":\"white\",\"linecolor\":\"white\",\"ticks\":\"\",\"title\":{\"standoff\":15},\"zerolinecolor\":\"white\",\"automargin\":true,\"zerolinewidth\":2},\"scene\":{\"xaxis\":{\"backgroundcolor\":\"#E5ECF6\",\"gridcolor\":\"white\",\"linecolor\":\"white\",\"showbackground\":true,\"ticks\":\"\",\"zerolinecolor\":\"white\",\"gridwidth\":2},\"yaxis\":{\"backgroundcolor\":\"#E5ECF6\",\"gridcolor\":\"white\",\"linecolor\":\"white\",\"showbackground\":true,\"ticks\":\"\",\"zerolinecolor\":\"white\",\"gridwidth\":2},\"zaxis\":{\"backgroundcolor\":\"#E5ECF6\",\"gridcolor\":\"white\",\"linecolor\":\"white\",\"showbackground\":true,\"ticks\":\"\",\"zerolinecolor\":\"white\",\"gridwidth\":2}},\"shapedefaults\":{\"line\":{\"color\":\"#2a3f5f\"}},\"annotationdefaults\":{\"arrowcolor\":\"#2a3f5f\",\"arrowhead\":0,\"arrowwidth\":1},\"geo\":{\"bgcolor\":\"white\",\"landcolor\":\"#E5ECF6\",\"subunitcolor\":\"white\",\"showland\":true,\"showlakes\":true,\"lakecolor\":\"white\"},\"title\":{\"x\":0.05},\"mapbox\":{\"style\":\"light\"}}},\"title\":{\"text\":\"SBER\"},\"xaxis\":{\"title\":{\"text\":\"Date\"}},\"yaxis\":{\"title\":{\"text\":\"Closing Price (RUB)\"}}},                        {\"responsive\": true}                    ).then(function(){\n",
       "                            \n",
       "var gd = document.getElementById('a7282b13-fbd1-474c-bac7-837c39a15511');\n",
       "var x = new MutationObserver(function (mutations, observer) {{\n",
       "        var display = window.getComputedStyle(gd).display;\n",
       "        if (!display || display === 'none') {{\n",
       "            console.log([gd, 'removed!']);\n",
       "            Plotly.purge(gd);\n",
       "            observer.disconnect();\n",
       "        }}\n",
       "}});\n",
       "\n",
       "// Listen for the removal of the full notebook cells\n",
       "var notebookContainer = gd.closest('#notebook-container');\n",
       "if (notebookContainer) {{\n",
       "    x.observe(notebookContainer, {childList: true});\n",
       "}}\n",
       "\n",
       "// Listen for the clearing of the current output cell\n",
       "var outputEl = gd.closest('.output');\n",
       "if (outputEl) {{\n",
       "    x.observe(outputEl, {childList: true});\n",
       "}}\n",
       "\n",
       "                        })                };                });            </script>        </div>"
      ]
     },
     "metadata": {},
     "output_type": "display_data"
    }
   ],
   "source": [
    "plot_candle_chart(sber_df, title='SBER', y_title='Closing Price (RUB)')\n",
    "\n"
   ]
  },
  {
   "cell_type": "code",
   "execution_count": null,
   "metadata": {},
   "outputs": [],
   "source": [
    "save_to_csv(sber_df, 'sber.csv')"
   ]
  },
  {
   "cell_type": "code",
   "execution_count": 82,
   "metadata": {},
   "outputs": [],
   "source": [
    "sber_df.dropna()"
   ]
  },
  {
   "cell_type": "code",
   "execution_count": 21,
   "metadata": {},
   "outputs": [
    {
     "data": {
      "text/html": [
       "<div>\n",
       "<style scoped>\n",
       "    .dataframe tbody tr th:only-of-type {\n",
       "        vertical-align: middle;\n",
       "    }\n",
       "\n",
       "    .dataframe tbody tr th {\n",
       "        vertical-align: top;\n",
       "    }\n",
       "\n",
       "    .dataframe thead th {\n",
       "        text-align: right;\n",
       "    }\n",
       "</style>\n",
       "<table border=\"1\" class=\"dataframe\">\n",
       "  <thead>\n",
       "    <tr style=\"text-align: right;\">\n",
       "      <th></th>\n",
       "      <th>open</th>\n",
       "      <th>high</th>\n",
       "      <th>low</th>\n",
       "      <th>close</th>\n",
       "      <th>volume</th>\n",
       "      <th>dividends</th>\n",
       "      <th>stock splits</th>\n",
       "      <th>date</th>\n",
       "    </tr>\n",
       "    <tr>\n",
       "      <th>Date</th>\n",
       "      <th></th>\n",
       "      <th></th>\n",
       "      <th></th>\n",
       "      <th></th>\n",
       "      <th></th>\n",
       "      <th></th>\n",
       "      <th></th>\n",
       "      <th></th>\n",
       "    </tr>\n",
       "  </thead>\n",
       "  <tbody>\n",
       "    <tr>\n",
       "      <th>2023-09-03 00:00:00+00:00</th>\n",
       "      <td>25869.472656</td>\n",
       "      <td>26087.148438</td>\n",
       "      <td>25817.031250</td>\n",
       "      <td>25969.566406</td>\n",
       "      <td>8962524523</td>\n",
       "      <td>0.0</td>\n",
       "      <td>0.0</td>\n",
       "      <td>2023-09-03 00:00:00+00:00</td>\n",
       "    </tr>\n",
       "    <tr>\n",
       "      <th>2023-09-04 00:00:00+00:00</th>\n",
       "      <td>25968.169922</td>\n",
       "      <td>26081.525391</td>\n",
       "      <td>25657.025391</td>\n",
       "      <td>25812.416016</td>\n",
       "      <td>10680635106</td>\n",
       "      <td>0.0</td>\n",
       "      <td>0.0</td>\n",
       "      <td>2023-09-04 00:00:00+00:00</td>\n",
       "    </tr>\n",
       "    <tr>\n",
       "      <th>2023-09-05 00:00:00+00:00</th>\n",
       "      <td>25814.957031</td>\n",
       "      <td>25858.375000</td>\n",
       "      <td>25589.988281</td>\n",
       "      <td>25779.982422</td>\n",
       "      <td>11094740040</td>\n",
       "      <td>0.0</td>\n",
       "      <td>0.0</td>\n",
       "      <td>2023-09-05 00:00:00+00:00</td>\n",
       "    </tr>\n",
       "    <tr>\n",
       "      <th>2023-09-06 00:00:00+00:00</th>\n",
       "      <td>25783.931641</td>\n",
       "      <td>25953.015625</td>\n",
       "      <td>25404.359375</td>\n",
       "      <td>25753.236328</td>\n",
       "      <td>12752705327</td>\n",
       "      <td>0.0</td>\n",
       "      <td>0.0</td>\n",
       "      <td>2023-09-06 00:00:00+00:00</td>\n",
       "    </tr>\n",
       "    <tr>\n",
       "      <th>2023-09-07 00:00:00+00:00</th>\n",
       "      <td>25748.312500</td>\n",
       "      <td>26409.302734</td>\n",
       "      <td>25608.201172</td>\n",
       "      <td>26240.195312</td>\n",
       "      <td>11088307100</td>\n",
       "      <td>0.0</td>\n",
       "      <td>0.0</td>\n",
       "      <td>2023-09-07 00:00:00+00:00</td>\n",
       "    </tr>\n",
       "    <tr>\n",
       "      <th>...</th>\n",
       "      <td>...</td>\n",
       "      <td>...</td>\n",
       "      <td>...</td>\n",
       "      <td>...</td>\n",
       "      <td>...</td>\n",
       "      <td>...</td>\n",
       "      <td>...</td>\n",
       "      <td>...</td>\n",
       "    </tr>\n",
       "    <tr>\n",
       "      <th>2024-08-28 00:00:00+00:00</th>\n",
       "      <td>59507.925781</td>\n",
       "      <td>60236.449219</td>\n",
       "      <td>57890.675781</td>\n",
       "      <td>59027.625000</td>\n",
       "      <td>40289564698</td>\n",
       "      <td>0.0</td>\n",
       "      <td>0.0</td>\n",
       "      <td>2024-08-28 00:00:00+00:00</td>\n",
       "    </tr>\n",
       "    <tr>\n",
       "      <th>2024-08-29 00:00:00+00:00</th>\n",
       "      <td>59027.468750</td>\n",
       "      <td>61184.082031</td>\n",
       "      <td>58786.226562</td>\n",
       "      <td>59388.179688</td>\n",
       "      <td>32224990582</td>\n",
       "      <td>0.0</td>\n",
       "      <td>0.0</td>\n",
       "      <td>2024-08-29 00:00:00+00:00</td>\n",
       "    </tr>\n",
       "    <tr>\n",
       "      <th>2024-08-30 00:00:00+00:00</th>\n",
       "      <td>59388.601562</td>\n",
       "      <td>59896.886719</td>\n",
       "      <td>57768.531250</td>\n",
       "      <td>59119.476562</td>\n",
       "      <td>32292756405</td>\n",
       "      <td>0.0</td>\n",
       "      <td>0.0</td>\n",
       "      <td>2024-08-30 00:00:00+00:00</td>\n",
       "    </tr>\n",
       "    <tr>\n",
       "      <th>2024-08-31 00:00:00+00:00</th>\n",
       "      <td>59117.480469</td>\n",
       "      <td>59432.593750</td>\n",
       "      <td>58768.785156</td>\n",
       "      <td>58969.898438</td>\n",
       "      <td>12403470760</td>\n",
       "      <td>0.0</td>\n",
       "      <td>0.0</td>\n",
       "      <td>2024-08-31 00:00:00+00:00</td>\n",
       "    </tr>\n",
       "    <tr>\n",
       "      <th>2024-09-01 00:00:00+00:00</th>\n",
       "      <td>58969.800781</td>\n",
       "      <td>59062.070312</td>\n",
       "      <td>57217.824219</td>\n",
       "      <td>57325.488281</td>\n",
       "      <td>24592449997</td>\n",
       "      <td>0.0</td>\n",
       "      <td>0.0</td>\n",
       "      <td>2024-09-01 00:00:00+00:00</td>\n",
       "    </tr>\n",
       "  </tbody>\n",
       "</table>\n",
       "<p>365 rows × 8 columns</p>\n",
       "</div>"
      ],
      "text/plain": [
       "                                   open          high           low  \\\n",
       "Date                                                                  \n",
       "2023-09-03 00:00:00+00:00  25869.472656  26087.148438  25817.031250   \n",
       "2023-09-04 00:00:00+00:00  25968.169922  26081.525391  25657.025391   \n",
       "2023-09-05 00:00:00+00:00  25814.957031  25858.375000  25589.988281   \n",
       "2023-09-06 00:00:00+00:00  25783.931641  25953.015625  25404.359375   \n",
       "2023-09-07 00:00:00+00:00  25748.312500  26409.302734  25608.201172   \n",
       "...                                 ...           ...           ...   \n",
       "2024-08-28 00:00:00+00:00  59507.925781  60236.449219  57890.675781   \n",
       "2024-08-29 00:00:00+00:00  59027.468750  61184.082031  58786.226562   \n",
       "2024-08-30 00:00:00+00:00  59388.601562  59896.886719  57768.531250   \n",
       "2024-08-31 00:00:00+00:00  59117.480469  59432.593750  58768.785156   \n",
       "2024-09-01 00:00:00+00:00  58969.800781  59062.070312  57217.824219   \n",
       "\n",
       "                                  close       volume  dividends  stock splits  \\\n",
       "Date                                                                            \n",
       "2023-09-03 00:00:00+00:00  25969.566406   8962524523        0.0           0.0   \n",
       "2023-09-04 00:00:00+00:00  25812.416016  10680635106        0.0           0.0   \n",
       "2023-09-05 00:00:00+00:00  25779.982422  11094740040        0.0           0.0   \n",
       "2023-09-06 00:00:00+00:00  25753.236328  12752705327        0.0           0.0   \n",
       "2023-09-07 00:00:00+00:00  26240.195312  11088307100        0.0           0.0   \n",
       "...                                 ...          ...        ...           ...   \n",
       "2024-08-28 00:00:00+00:00  59027.625000  40289564698        0.0           0.0   \n",
       "2024-08-29 00:00:00+00:00  59388.179688  32224990582        0.0           0.0   \n",
       "2024-08-30 00:00:00+00:00  59119.476562  32292756405        0.0           0.0   \n",
       "2024-08-31 00:00:00+00:00  58969.898438  12403470760        0.0           0.0   \n",
       "2024-09-01 00:00:00+00:00  57325.488281  24592449997        0.0           0.0   \n",
       "\n",
       "                                               date  \n",
       "Date                                                 \n",
       "2023-09-03 00:00:00+00:00 2023-09-03 00:00:00+00:00  \n",
       "2023-09-04 00:00:00+00:00 2023-09-04 00:00:00+00:00  \n",
       "2023-09-05 00:00:00+00:00 2023-09-05 00:00:00+00:00  \n",
       "2023-09-06 00:00:00+00:00 2023-09-06 00:00:00+00:00  \n",
       "2023-09-07 00:00:00+00:00 2023-09-07 00:00:00+00:00  \n",
       "...                                             ...  \n",
       "2024-08-28 00:00:00+00:00 2024-08-28 00:00:00+00:00  \n",
       "2024-08-29 00:00:00+00:00 2024-08-29 00:00:00+00:00  \n",
       "2024-08-30 00:00:00+00:00 2024-08-30 00:00:00+00:00  \n",
       "2024-08-31 00:00:00+00:00 2024-08-31 00:00:00+00:00  \n",
       "2024-09-01 00:00:00+00:00 2024-09-01 00:00:00+00:00  \n",
       "\n",
       "[365 rows x 8 columns]"
      ]
     },
     "execution_count": 21,
     "metadata": {},
     "output_type": "execute_result"
    }
   ],
   "source": [
    "end_date = datetime.today()\n",
    "start_date = end_date - timedelta(days=365)\n",
    "\n",
    "start_date_str = start_date.strftime('%Y-%m-%d')\n",
    "end_date_str = end_date.strftime('%Y-%m-%d')\n",
    "\n",
    "btc_df = fetch_yfinance_data('BTC-USD',start_date_str, end_date_str)\n",
    "btc_df"
   ]
  },
  {
   "cell_type": "code",
   "execution_count": 22,
   "metadata": {},
   "outputs": [
    {
     "name": "stdout",
     "output_type": "stream",
     "text": [
      "<class 'pandas.core.frame.DataFrame'>\n",
      "DatetimeIndex: 365 entries, 2023-09-03 00:00:00+00:00 to 2024-09-01 00:00:00+00:00\n",
      "Data columns (total 8 columns):\n",
      " #   Column        Non-Null Count  Dtype              \n",
      "---  ------        --------------  -----              \n",
      " 0   open          365 non-null    float64            \n",
      " 1   high          365 non-null    float64            \n",
      " 2   low           365 non-null    float64            \n",
      " 3   close         365 non-null    float64            \n",
      " 4   volume        365 non-null    int64              \n",
      " 5   dividends     365 non-null    float64            \n",
      " 6   stock splits  365 non-null    float64            \n",
      " 7   date          365 non-null    datetime64[ns, UTC]\n",
      "dtypes: datetime64[ns, UTC](1), float64(6), int64(1)\n",
      "memory usage: 25.7 KB\n"
     ]
    }
   ],
   "source": [
    "btc_df.info()"
   ]
  },
  {
   "cell_type": "code",
   "execution_count": null,
   "metadata": {},
   "outputs": [],
   "source": [
    "btc_df.dropna()"
   ]
  },
  {
   "cell_type": "code",
   "execution_count": 84,
   "metadata": {},
   "outputs": [
    {
     "data": {
      "text/html": [
       "<div>\n",
       "<style scoped>\n",
       "    .dataframe tbody tr th:only-of-type {\n",
       "        vertical-align: middle;\n",
       "    }\n",
       "\n",
       "    .dataframe tbody tr th {\n",
       "        vertical-align: top;\n",
       "    }\n",
       "\n",
       "    .dataframe thead th {\n",
       "        text-align: right;\n",
       "    }\n",
       "</style>\n",
       "<table border=\"1\" class=\"dataframe\">\n",
       "  <thead>\n",
       "    <tr style=\"text-align: right;\">\n",
       "      <th></th>\n",
       "      <th>open</th>\n",
       "      <th>high</th>\n",
       "      <th>low</th>\n",
       "      <th>close</th>\n",
       "      <th>volume</th>\n",
       "      <th>dividends</th>\n",
       "      <th>stock splits</th>\n",
       "    </tr>\n",
       "  </thead>\n",
       "  <tbody>\n",
       "    <tr>\n",
       "      <th>count</th>\n",
       "      <td>365.000000</td>\n",
       "      <td>365.000000</td>\n",
       "      <td>365.000000</td>\n",
       "      <td>365.000000</td>\n",
       "      <td>3.650000e+02</td>\n",
       "      <td>365.0</td>\n",
       "      <td>365.0</td>\n",
       "    </tr>\n",
       "    <tr>\n",
       "      <th>mean</th>\n",
       "      <td>24244.793301</td>\n",
       "      <td>24610.842541</td>\n",
       "      <td>23903.206138</td>\n",
       "      <td>24265.906341</td>\n",
       "      <td>2.086682e+10</td>\n",
       "      <td>0.0</td>\n",
       "      <td>0.0</td>\n",
       "    </tr>\n",
       "    <tr>\n",
       "      <th>std</th>\n",
       "      <td>4668.911896</td>\n",
       "      <td>4738.827877</td>\n",
       "      <td>4608.840612</td>\n",
       "      <td>4665.777573</td>\n",
       "      <td>1.280678e+10</td>\n",
       "      <td>0.0</td>\n",
       "      <td>0.0</td>\n",
       "    </tr>\n",
       "    <tr>\n",
       "      <th>min</th>\n",
       "      <td>15782.300781</td>\n",
       "      <td>16253.047852</td>\n",
       "      <td>15599.046875</td>\n",
       "      <td>15787.284180</td>\n",
       "      <td>5.331173e+09</td>\n",
       "      <td>0.0</td>\n",
       "      <td>0.0</td>\n",
       "    </tr>\n",
       "    <tr>\n",
       "      <th>25%</th>\n",
       "      <td>20161.039062</td>\n",
       "      <td>20382.095703</td>\n",
       "      <td>19801.800781</td>\n",
       "      <td>20160.716797</td>\n",
       "      <td>1.278545e+10</td>\n",
       "      <td>0.0</td>\n",
       "      <td>0.0</td>\n",
       "    </tr>\n",
       "    <tr>\n",
       "      <th>50%</th>\n",
       "      <td>25905.425781</td>\n",
       "      <td>26203.439453</td>\n",
       "      <td>25640.261719</td>\n",
       "      <td>25918.728516</td>\n",
       "      <td>1.754446e+10</td>\n",
       "      <td>0.0</td>\n",
       "      <td>0.0</td>\n",
       "    </tr>\n",
       "    <tr>\n",
       "      <th>75%</th>\n",
       "      <td>28075.591797</td>\n",
       "      <td>28518.958984</td>\n",
       "      <td>27445.046875</td>\n",
       "      <td>28085.646484</td>\n",
       "      <td>2.635784e+10</td>\n",
       "      <td>0.0</td>\n",
       "      <td>0.0</td>\n",
       "    </tr>\n",
       "    <tr>\n",
       "      <th>max</th>\n",
       "      <td>31474.720703</td>\n",
       "      <td>31814.515625</td>\n",
       "      <td>30659.355469</td>\n",
       "      <td>31476.048828</td>\n",
       "      <td>1.189925e+11</td>\n",
       "      <td>0.0</td>\n",
       "      <td>0.0</td>\n",
       "    </tr>\n",
       "  </tbody>\n",
       "</table>\n",
       "</div>"
      ],
      "text/plain": [
       "               open          high           low         close        volume  \\\n",
       "count    365.000000    365.000000    365.000000    365.000000  3.650000e+02   \n",
       "mean   24244.793301  24610.842541  23903.206138  24265.906341  2.086682e+10   \n",
       "std     4668.911896   4738.827877   4608.840612   4665.777573  1.280678e+10   \n",
       "min    15782.300781  16253.047852  15599.046875  15787.284180  5.331173e+09   \n",
       "25%    20161.039062  20382.095703  19801.800781  20160.716797  1.278545e+10   \n",
       "50%    25905.425781  26203.439453  25640.261719  25918.728516  1.754446e+10   \n",
       "75%    28075.591797  28518.958984  27445.046875  28085.646484  2.635784e+10   \n",
       "max    31474.720703  31814.515625  30659.355469  31476.048828  1.189925e+11   \n",
       "\n",
       "       dividends  stock splits  \n",
       "count      365.0         365.0  \n",
       "mean         0.0           0.0  \n",
       "std          0.0           0.0  \n",
       "min          0.0           0.0  \n",
       "25%          0.0           0.0  \n",
       "50%          0.0           0.0  \n",
       "75%          0.0           0.0  \n",
       "max          0.0           0.0  "
      ]
     },
     "execution_count": 84,
     "metadata": {},
     "output_type": "execute_result"
    }
   ],
   "source": [
    "btc_df.describe()"
   ]
  },
  {
   "cell_type": "code",
   "execution_count": 90,
   "metadata": {},
   "outputs": [
    {
     "data": {
      "text/html": [
       "<style type=\"text/css\">\n",
       "#T_f8a80 thead>tr>th {\n",
       "  text-align: left;\n",
       "}\n",
       "#T_f8a80_row0_col0, #T_f8a80_row1_col0, #T_f8a80_row2_col0, #T_f8a80_row3_col0, #T_f8a80_row4_col0, #T_f8a80_row5_col0, #T_f8a80_row6_col0, #T_f8a80_row7_col0 {\n",
       "  text-align: left;\n",
       "  font-size: 12px;\n",
       "  vertical-align: middle;\n",
       "  width: 5%;\n",
       "  max-width: 50px;\n",
       "  min-width: 20px;\n",
       "}\n",
       "#T_f8a80_row0_col1, #T_f8a80_row1_col1, #T_f8a80_row2_col1, #T_f8a80_row3_col1, #T_f8a80_row4_col1, #T_f8a80_row5_col1, #T_f8a80_row6_col1, #T_f8a80_row7_col1 {\n",
       "  text-align: left;\n",
       "  font-size: 12px;\n",
       "  vertical-align: middle;\n",
       "  width: 15%;\n",
       "  max-width: 200px;\n",
       "  min-width: 100px;\n",
       "  word-break: break-word;\n",
       "}\n",
       "#T_f8a80_row0_col2, #T_f8a80_row1_col2, #T_f8a80_row2_col2, #T_f8a80_row3_col2, #T_f8a80_row4_col2, #T_f8a80_row5_col2, #T_f8a80_row6_col2, #T_f8a80_row7_col2 {\n",
       "  text-align: left;\n",
       "  font-size: 12px;\n",
       "  vertical-align: middle;\n",
       "  width: 30%;\n",
       "  min-width: 100px;\n",
       "}\n",
       "#T_f8a80_row0_col3, #T_f8a80_row1_col3, #T_f8a80_row2_col3, #T_f8a80_row3_col3, #T_f8a80_row4_col3, #T_f8a80_row5_col3, #T_f8a80_row6_col3, #T_f8a80_row7_col3 {\n",
       "  text-align: left;\n",
       "  font-size: 12px;\n",
       "  vertical-align: middle;\n",
       "  width: 25%;\n",
       "  min-width: 100px;\n",
       "}\n",
       "#T_f8a80_row0_col4, #T_f8a80_row1_col4, #T_f8a80_row2_col4, #T_f8a80_row3_col4, #T_f8a80_row4_col4, #T_f8a80_row5_col4, #T_f8a80_row6_col4, #T_f8a80_row7_col4 {\n",
       "  text-align: left;\n",
       "  font-size: 12px;\n",
       "  vertical-align: middle;\n",
       "  width: 20%;\n",
       "  min-width: 150px;\n",
       "}\n",
       "#T_f8a80_row0_col5, #T_f8a80_row1_col5, #T_f8a80_row2_col5, #T_f8a80_row3_col5, #T_f8a80_row4_col5, #T_f8a80_row5_col5, #T_f8a80_row6_col5, #T_f8a80_row7_col5 {\n",
       "  text-align: left;\n",
       "  font-size: 12px;\n",
       "  vertical-align: middle;\n",
       "  width: 10%;\n",
       "}\n",
       "</style>\n",
       "<table id=\"T_f8a80\">\n",
       "  <caption><strong>Data Frame Summary</strong><br>btc_df<br>Dimensions: 365 x 8<br>Duplicates: 0</caption>\n",
       "  <thead>\n",
       "    <tr>\n",
       "      <th id=\"T_f8a80_level0_col0\" class=\"col_heading level0 col0\" >No</th>\n",
       "      <th id=\"T_f8a80_level0_col1\" class=\"col_heading level0 col1\" >Variable</th>\n",
       "      <th id=\"T_f8a80_level0_col2\" class=\"col_heading level0 col2\" >Stats / Values</th>\n",
       "      <th id=\"T_f8a80_level0_col3\" class=\"col_heading level0 col3\" >Freqs / (% of Valid)</th>\n",
       "      <th id=\"T_f8a80_level0_col4\" class=\"col_heading level0 col4\" >Graph</th>\n",
       "      <th id=\"T_f8a80_level0_col5\" class=\"col_heading level0 col5\" >Missing</th>\n",
       "    </tr>\n",
       "  </thead>\n",
       "  <tbody>\n",
       "    <tr>\n",
       "      <td id=\"T_f8a80_row0_col0\" class=\"data row0 col0\" >1</td>\n",
       "      <td id=\"T_f8a80_row0_col1\" class=\"data row0 col1\" ><strong>open</strong><br>[float64]</td>\n",
       "      <td id=\"T_f8a80_row0_col2\" class=\"data row0 col2\" >Mean (sd) : 24244.8 (4668.9)<br>min < med < max:<br>15782.3 < 25905.4 < 31474.7<br>IQR (CV) : 7914.6 (5.2)</td>\n",
       "      <td id=\"T_f8a80_row0_col3\" class=\"data row0 col3\" >365 distinct values</td>\n",
       "      <td id=\"T_f8a80_row0_col4\" class=\"data row0 col4\" ><img src = \"data:image/png;base64, iVBORw0KGgoAAAANSUhEUgAAAKoAAABGCAYAAABc8A97AAAAOXRFWHRTb2Z0d2FyZQBNYXRwbG90bGliIHZlcnNpb24zLjguNCwgaHR0cHM6Ly9tYXRwbG90bGliLm9yZy8fJSN1AAAACXBIWXMAAA9hAAAPYQGoP6dpAAACnUlEQVR4nO3cT4riQBSA8VdjK1EhQQTdeYGBWbj0EHPYOcIsPIE3cCeIREx3MMb0qgeGwX9VlUm94vvtY2fxKXnpR5mmaQQI3beubwB4xlvXNwC/jDFDERlYXn5umubD5/34QqgRMcYMp9PpzzRNJzbXH4/HgzHmV4ixEmpcBmmaTlar1UeWZeUrF+Z5nqzX68l+vx+ICKGifVmWlbPZ7N3i0qH3m/HkYaixPvNAl7uhxvzMA10e/aJG+8wDXZ56Ro3xmQe68MIfKjD1B8ZxeE2v12vf5/2EglAD4jq8VlWV1HX9vSzL3yJi86gWLEINi/XwKiKy3W4nm81mdLlcem3cXJcINUC2w+vhcIh2eGWYggqEChUIFSoQKlRgmMIfdV33RSQ1xth+RGtLSIQKEREpiqJfVdWPxWLR6/V6L78aE2l3CYlQISIi5/P5LUmS0XK5LOfz+eHV69teQiJU/GU8HtsuIIm0uITEMAUVCBUqECpUIFSoQKhQgVChAqFCBUKFCrzwhzeOuwJ39wQIFV647go82hMIOlSOE9LDZVfgmT2BYEPt+jghviR2HHYF7u4JBBuqdHicUNdfEvwr5FBFpLPjhDhzKzDBh9olztwKB+9RoQKhQgVChQqEChUIFSoQKlQgVKgQ7XtUx02eaE9u1irKUF03eWI+uVmrKEN1PfUj5pObtYoy1C+2mzwxn9ysFcMUVIj6F7UrDoMcQ9wNhOqZyyDHEHcboXrmMsgxxN1GqC2xGeQY4m5jmIIKhAoVCBUqECpUIFSoQKhQodXXU6zawZfWQmXVDj61FiqrdvCp9f9MsWoHHximoAKhQgVChQqEChUIFSo8NfXneZ68+sGn0ykRESmKItntdqP/eb3Wv631vl2vf6avT4TVvNANNsX9AAAAAElFTkSuQmCC\"></img></td>\n",
       "      <td id=\"T_f8a80_row0_col5\" class=\"data row0 col5\" >0<br>(0.0%)</td>\n",
       "    </tr>\n",
       "    <tr>\n",
       "      <td id=\"T_f8a80_row1_col0\" class=\"data row1 col0\" >2</td>\n",
       "      <td id=\"T_f8a80_row1_col1\" class=\"data row1 col1\" ><strong>high</strong><br>[float64]</td>\n",
       "      <td id=\"T_f8a80_row1_col2\" class=\"data row1 col2\" >Mean (sd) : 24610.8 (4738.8)<br>min < med < max:<br>16253.0 < 26203.4 < 31814.5<br>IQR (CV) : 8136.9 (5.2)</td>\n",
       "      <td id=\"T_f8a80_row1_col3\" class=\"data row1 col3\" >365 distinct values</td>\n",
       "      <td id=\"T_f8a80_row1_col4\" class=\"data row1 col4\" ><img src = \"data:image/png;base64, iVBORw0KGgoAAAANSUhEUgAAAKoAAABGCAYAAABc8A97AAAAOXRFWHRTb2Z0d2FyZQBNYXRwbG90bGliIHZlcnNpb24zLjguNCwgaHR0cHM6Ly9tYXRwbG90bGliLm9yZy8fJSN1AAAACXBIWXMAAA9hAAAPYQGoP6dpAAACqklEQVR4nO3dTW7aQByG8f+UAOZDRggJdlygUhcsOUQP2yNkwQm4ATskhEDQWJiPLqpE6qJ8zGCY1zy/dex4pEeTjD0YdzqdDIjdt2dfAHCNt0s/4JxrmFnN8/y70+n04Xks8OVsqM65Rq/X+5mmadfn5Ov1eumc+0Wsj1PWieXSjFpL07Q7Ho8/Op1OdsuJV6tVMplMuovFomZmUQ6+bMo8sVz8029m1ul0sn6//9vj/A2PY15a4IyYttvt/ng8XpdtYrkqVDxG6IyY53lyOBy+1+v197JNLIQaF+9/tczMZrNZdzqdNvf7faWIi3smQo2Q779ay+Uy2hkxFPdRIYFQIYFQIYFQIYHFFL4cDoeqmaXOOd9TFPZki1BhZmbb7baa5/mP4XBYqVQqN98aMyv2yRahwszMdrvdW5IkzdFolA0Gg+Wtxxf9ZItQ8Y9Wq+X7uNyswCdbLKYggVAhgVAhgVAhgVAhgVAhgVAhgVAhgVAhgSdTuJvATS1nN7QQKu4idFPLpQ0thIq7CNnUcs2GFkLFXQVsajm7oYXFFCQQKiQQKiQQKiQQKiSw6v+Psr5nVFXUoT4rljK/Z1RVtKE+ORZeYByZaEO1CGLhBcbxiDlUMyMW/MWqHxIIFRIIFRIIFRIIFRKiX/X7CvxYRHo8Hqt3viQEKGWooR+L+Py+pizL3s3M9812uKNShhr6rs8yf1+TqlKG+sn3YxFl/r4mVSymIIFQIYFQIYFQIaHQxdSr3ssMGLfsmItWWKivei8zZNyqY36EwkJ91XuZIeNWHfMjFH4f9VXvZfqMW33MRWIxBQmECgmECgmECgmECgmECgmECgmECgmECgmECgmECgmECglXbUpZrVbJrSfebDaJmdl2u03m83nzkcer/m7V6w49/pq+/gCbI7TJkW4NCAAAAABJRU5ErkJggg==\"></img></td>\n",
       "      <td id=\"T_f8a80_row1_col5\" class=\"data row1 col5\" >0<br>(0.0%)</td>\n",
       "    </tr>\n",
       "    <tr>\n",
       "      <td id=\"T_f8a80_row2_col0\" class=\"data row2 col0\" >3</td>\n",
       "      <td id=\"T_f8a80_row2_col1\" class=\"data row2 col1\" ><strong>low</strong><br>[float64]</td>\n",
       "      <td id=\"T_f8a80_row2_col2\" class=\"data row2 col2\" >Mean (sd) : 23903.2 (4608.8)<br>min < med < max:<br>15599.0 < 25640.3 < 30659.4<br>IQR (CV) : 7643.2 (5.2)</td>\n",
       "      <td id=\"T_f8a80_row2_col3\" class=\"data row2 col3\" >365 distinct values</td>\n",
       "      <td id=\"T_f8a80_row2_col4\" class=\"data row2 col4\" ><img src = \"data:image/png;base64, iVBORw0KGgoAAAANSUhEUgAAAKoAAABGCAYAAABc8A97AAAAOXRFWHRTb2Z0d2FyZQBNYXRwbG90bGliIHZlcnNpb24zLjguNCwgaHR0cHM6Ly9tYXRwbG90bGliLm9yZy8fJSN1AAAACXBIWXMAAA9hAAAPYQGoP6dpAAACfklEQVR4nO3cQY6iQBSA4VdDa1ATiDHRnReYZBYuPcQcdo4wC0/gDdyZGIORbiIiverFLBwpqGrqkf/bV8vipykKKFPXtQCh+9H3AQBNvPV9AHDLGDMRkXHL4be6rj9cHo8rhDogxpjJYrH4nSTJvM34y+VyNsb8CTFWQh2WcZIk8+12+5GmaWEzMMuyeLfbzU+n01hECBX+pWlaLJfL9xZDJ84PxhFupqACoUIFQoUKhAoVCBUqvLzrH+oCMnT5b6hDXkCGLq/+ow52ARm6NFrwH+ICMnThZgoqECpUIFSoQKhQgVChAqFCBUKFCoQKFXjDH874fC+EUOGE7/dCCBWueH0vhFAD0/HymTwej5HL47Hl670QQg1I18tnWZZxVVU/i6L4KyLWsVRVNRKRxBjT5ue9niSEGpbWl08RkcPhMN/v99P7/R7Zjs3zfFSW5a/1eh1FUWT9211PklcINUBtL5/n87n1a5W32+0tjuPpZrMpVqvV2XZ8l5OkCULFP2az2befJE2w4A8VCBUqECpUIFSoQKhQgVChQtDLU33u0sIOMWEJNtQ+d2lhh5jwBBuq9LtLCzvEBCbkUEWk311a2CEmHNxMQQVChQqEChUIFSoQKlQgVKhAqFCBUKFC8Av+bYX8RSXsDTLU0L+ohL1Bhhr6F5WwN8hQv4T6RSXsDTrUvnSYHzM3foJQHesyP2Zu/ByhOtZlfszc+DlC9aTN/Ji58XMs+EMFQoUKhAoVvM5ReYwJV7yFymNMuOQtVB5jwiXvy1M8xoQL3ExBBUKFCoQKFQgVKhAqVGh0159lWWz7h6/Xaywikud5fDwep985Xutvaz3uruOb9PUJZeWy64IMw/IAAAAASUVORK5CYII=\"></img></td>\n",
       "      <td id=\"T_f8a80_row2_col5\" class=\"data row2 col5\" >0<br>(0.0%)</td>\n",
       "    </tr>\n",
       "    <tr>\n",
       "      <td id=\"T_f8a80_row3_col0\" class=\"data row3 col0\" >4</td>\n",
       "      <td id=\"T_f8a80_row3_col1\" class=\"data row3 col1\" ><strong>close</strong><br>[float64]</td>\n",
       "      <td id=\"T_f8a80_row3_col2\" class=\"data row3 col2\" >Mean (sd) : 24265.9 (4665.8)<br>min < med < max:<br>15787.3 < 25918.7 < 31476.0<br>IQR (CV) : 7924.9 (5.2)</td>\n",
       "      <td id=\"T_f8a80_row3_col3\" class=\"data row3 col3\" >365 distinct values</td>\n",
       "      <td id=\"T_f8a80_row3_col4\" class=\"data row3 col4\" ><img src = \"data:image/png;base64, iVBORw0KGgoAAAANSUhEUgAAAKoAAABGCAYAAABc8A97AAAAOXRFWHRTb2Z0d2FyZQBNYXRwbG90bGliIHZlcnNpb24zLjguNCwgaHR0cHM6Ly9tYXRwbG90bGliLm9yZy8fJSN1AAAACXBIWXMAAA9hAAAPYQGoP6dpAAACoUlEQVR4nO3cTY7aQBCG4ep4QAYkWwgJdlwgUhYsOUQOmyNkwQm4ATskhIxwxsIYZ5VIWfDn7o67Wu+z75lefIKumpoybdsKELovfV8AeMVH3xeAW8aYkYgMOx6/tG376fI+rhDUiBhjRrPZ7HuWZdMu50+n09EY8yPEsBLUuAyzLJuu1+vPPM+rdw4WRZFuNpvp4XAYighBhX95nlfz+fxXh6Mj55dxhGIKKjz9RI31cQ5dHgY15sc5dHn2iRrt4xy6vFRMxfg4hy4UU1CB9lRgLIvX7Ha7DVzeJxQENSC2xWtd12nTNF+rqvopIl2easEiqGHpXLyKiOx2u+l2ux1fr9fEx+X6RFAD1LV4PR6P0RavFFNQgaBCBYIKFQgqVCCoUIGgQgXaU/iraZqBiGTGmK4/wttYJ0GFiIiUZTmo6/rbcrlMkiR5+48NIn7HOgkqRETkcrl8pGk6Xq1W1WKxOL573vdYJ0HFPyaTSdeRThGPY50UU1CBoEIFggoVeKPCGcv21sPWFkGFE7btrWetLYIKJ2zaW6+0tggqnLJobz1sbVFMQQWCChWC/urvc+8VO7fCEmxQ+9x7xc6t8AQbVOl37xU7twITclBFpN+9V+zcCgfFFFQgqFCBoEIFggoVCCpUIKhQIfj2VFeWs5HRLsTVKsqg2s5GxrwQV6sog2r7r78xL8TVKsqg/tF1NjLmhbhaUUxBBYIKFaL+6u+LRceBbsMdBNUxm44D3Yb7CKpjNh0Hug33EVRPunQc6DbcRzEFFQgqVCCoUIGgQgWCChW8Vv2M2sEVb0Fl1A4ueQsqo3ZwyXvDn1E7uEAxBRUIKlQgqFCBoEIFggoVXqr6i6JI3/3B5/M5FREpyzLd7/fj/3le6+/Wem/b86/k6zc4grzSplZGawAAAABJRU5ErkJggg==\"></img></td>\n",
       "      <td id=\"T_f8a80_row3_col5\" class=\"data row3 col5\" >0<br>(0.0%)</td>\n",
       "    </tr>\n",
       "    <tr>\n",
       "      <td id=\"T_f8a80_row4_col0\" class=\"data row4 col0\" >5</td>\n",
       "      <td id=\"T_f8a80_row4_col1\" class=\"data row4 col1\" ><strong>volume</strong><br>[int64]</td>\n",
       "      <td id=\"T_f8a80_row4_col2\" class=\"data row4 col2\" >Mean (sd) : 20866815089.5 (12806782072.4)<br>min < med < max:<br>5331172801.0 < 17544464887.0 < 118992465607.0<br>IQR (CV) : 13572392490.0 (1.6)</td>\n",
       "      <td id=\"T_f8a80_row4_col3\" class=\"data row4 col3\" >365 distinct values</td>\n",
       "      <td id=\"T_f8a80_row4_col4\" class=\"data row4 col4\" ><img src = \"data:image/png;base64, iVBORw0KGgoAAAANSUhEUgAAAKoAAABGCAYAAABc8A97AAAAOXRFWHRTb2Z0d2FyZQBNYXRwbG90bGliIHZlcnNpb24zLjguNCwgaHR0cHM6Ly9tYXRwbG90bGliLm9yZy8fJSN1AAAACXBIWXMAAA9hAAAPYQGoP6dpAAACJ0lEQVR4nO3dsY7aQBRG4TthlwwQ2SAS6GjpUlDyEHnYPAQt74FkVkY4ZkHI2yzRSpsEPBaJ/8n5amagOAIZea5dVVUGtN2Hf/0BgFs8XHuBc65nZt3A/Y9VVZWBa4Gf/hiqc643Ho+/JUkyCtl8t9s9Oee+EyuauvaN2k2SZLRcLss0TQ91Ns7z3K9Wq1GWZV0zI1Q0cvWn38wsTdPDZDL5EbB/L2AN8A4XU5BAqJBAqJBAqJBAqJBAqJBAqJBAqJBAqJBAqJBAqJBAqJBAqJBAqJBAqJBAqJBw043Toc7n86OZJc650C04cwUzu2OoRVE8nk6nr7PZrNPpdGodY7ngzBUu7hbq8Xh88N73F4vFYTqdPtVdz5krvHXXn34zs8FgEHreyowzV3jFxRQkECokECokECokECokECokECokECokECokECokECokECokECokECokECokECokECokECokECokECokECokECokECokECokECok3H1SShMNh6wxYC0irQ216ZA1BqzFpbWhNhmyxoC1+LQ21IsGQ9YYsBYRLqYggVAhgVAhgVAhgVAhgVAhgVAhgVAhofV/+IfiYWxxiTJUHsYWnyhD5WFs8Yky1AsexhaPqENtgnth24VQf4F7YdvnplDzPPd1N97v997MrCgKv9ls+n9zfdP33m63n7z3/fl87obD4XOdtWVZflyv11+yLPvsnNvVfe//2HNVVb/9UngBMRbic55AWwYAAAAASUVORK5CYII=\"></img></td>\n",
       "      <td id=\"T_f8a80_row4_col5\" class=\"data row4 col5\" >0<br>(0.0%)</td>\n",
       "    </tr>\n",
       "    <tr>\n",
       "      <td id=\"T_f8a80_row5_col0\" class=\"data row5 col0\" >6</td>\n",
       "      <td id=\"T_f8a80_row5_col1\" class=\"data row5 col1\" ><strong>dividends</strong><br>[float64]</td>\n",
       "      <td id=\"T_f8a80_row5_col2\" class=\"data row5 col2\" >1. 0.0</td>\n",
       "      <td id=\"T_f8a80_row5_col3\" class=\"data row5 col3\" >365 (100.0%)</td>\n",
       "      <td id=\"T_f8a80_row5_col4\" class=\"data row5 col4\" ><img src = \"data:image/png;base64, iVBORw0KGgoAAAANSUhEUgAAAJsAAAAXCAYAAAAcEz0vAAAAOXRFWHRTb2Z0d2FyZQBNYXRwbG90bGliIHZlcnNpb24zLjguNCwgaHR0cHM6Ly9tYXRwbG90bGliLm9yZy8fJSN1AAAACXBIWXMAAA9hAAAPYQGoP6dpAAAAnUlEQVR4nO3bsQ0CMRBE0TlkoSPx6mTJxbgIUvovYZPjQgJqYCyZ/yqY4Ie7m6SHpLuAHyuttWet9Zg9BOsrtdZjjPGOiGv2GKwrM/ciSRFx9d7P2YOwttvsAfgfxAYbYoMNscGG2GBDbLAhNtgQG2yIDTbEBhtigw2xwYbYYENssCE22BAbbIgNNkX6nuzOHoK1Zea+tdZePLzA4QPFNA/EDSh7IQAAAABJRU5ErkJggg==\"></img></td>\n",
       "      <td id=\"T_f8a80_row5_col5\" class=\"data row5 col5\" >0<br>(0.0%)</td>\n",
       "    </tr>\n",
       "    <tr>\n",
       "      <td id=\"T_f8a80_row6_col0\" class=\"data row6 col0\" >7</td>\n",
       "      <td id=\"T_f8a80_row6_col1\" class=\"data row6 col1\" ><strong>stock splits</strong><br>[float64]</td>\n",
       "      <td id=\"T_f8a80_row6_col2\" class=\"data row6 col2\" >1. 0.0</td>\n",
       "      <td id=\"T_f8a80_row6_col3\" class=\"data row6 col3\" >365 (100.0%)</td>\n",
       "      <td id=\"T_f8a80_row6_col4\" class=\"data row6 col4\" ><img src = \"data:image/png;base64, iVBORw0KGgoAAAANSUhEUgAAAJsAAAAXCAYAAAAcEz0vAAAAOXRFWHRTb2Z0d2FyZQBNYXRwbG90bGliIHZlcnNpb24zLjguNCwgaHR0cHM6Ly9tYXRwbG90bGliLm9yZy8fJSN1AAAACXBIWXMAAA9hAAAPYQGoP6dpAAAAnUlEQVR4nO3bsQ0CMRBE0TlkoSPx6mTJxbgIUvovYZPjQgJqYCyZ/yqY4Ie7m6SHpLuAHyuttWet9Zg9BOsrtdZjjPGOiGv2GKwrM/ciSRFx9d7P2YOwttvsAfgfxAYbYoMNscGG2GBDbLAhNtgQG2yIDTbEBhtigw2xwYbYYENssCE22BAbbIgNNkX6nuzOHoK1Zea+tdZePLzA4QPFNA/EDSh7IQAAAABJRU5ErkJggg==\"></img></td>\n",
       "      <td id=\"T_f8a80_row6_col5\" class=\"data row6 col5\" >0<br>(0.0%)</td>\n",
       "    </tr>\n",
       "    <tr>\n",
       "      <td id=\"T_f8a80_row7_col0\" class=\"data row7 col0\" >8</td>\n",
       "      <td id=\"T_f8a80_row7_col1\" class=\"data row7 col1\" ><strong>date</strong><br>[datetime64[ns, UTC]]</td>\n",
       "      <td id=\"T_f8a80_row7_col2\" class=\"data row7 col2\" >Min: 2022-10-01<br>Max: 2023-09-30<br>Duration: 364 days</td>\n",
       "      <td id=\"T_f8a80_row7_col3\" class=\"data row7 col3\" >365 distinct values</td>\n",
       "      <td id=\"T_f8a80_row7_col4\" class=\"data row7 col4\" ><img src = \"data:image/png;base64, iVBORw0KGgoAAAANSUhEUgAAAJsAAABNCAYAAACxBha+AAAAOXRFWHRTb2Z0d2FyZQBNYXRwbG90bGliIHZlcnNpb24zLjguNCwgaHR0cHM6Ly9tYXRwbG90bGliLm9yZy8fJSN1AAAACXBIWXMAAA9hAAAPYQGoP6dpAAACN0lEQVR4nO3YMY7aUBRG4fcwAwYsW4jEdDQpI6Vw6UVksVlCkFgBRZpUdEiWZQtnEMZxiiRSGga/meFnIOdrzfV9WAeEsG3bGkChd+0D4P9BbJDpP3XRWjsyxgyecd9D27aPrkPqfS9x78/mEvtOxmatHc1ms89hGE5dt5VlmVtrv7i8SfW+l7j3Z3OpfU99sw3CMJymafoYRdG+67KiKPzlchlnWfbOWls6nDMMgiBO07QU7TPm98+In44zxujPejP7VqvVNMuygTHGKTZjjDFRFO3jOP7RdWFVVQ91XX9aLBae53mdD1rXtd80zcfhcPhVsa9pmoeqqj4EQfC91+vVXeeucdZb2ffH6NSFs7G5OhwOfd/3x0mS7Ofzed51brPZTNfr9fh4PHrCfe+TJPnmMnfFs775fee8emx/TSYTp2/EPM9PfiIuuc917t/Z57qVZ/Pa+OsDMsQGGWKDDLFBhtggQ2yQITbIEBtkiA0yxAYZYoMMsUGG2CBDbJAhNsgQG2SIDTLEBhligwyxQYbYIENskCE2yBAbZIgNMsQGGWKDDLFBhtggQ2yQITbIEBtkiA0yxAYZYoMMsUGG2CBDbJAhNsgQG2SIDTLEBhligwyxQYbYIENskCE2yBAbZIgNMsQGGWKDDLFBhtggQ2yQITbIEBtkiA0yxAYZYoMMsUGG2CBDbJAhNsgQG2SIDTLEBhlig0z/3AuKovBdbrjb7XxjjKmqyt9ut+N7m7uls6rnzrXyC1gJfaB8xAG5AAAAAElFTkSuQmCC\"></img></td>\n",
       "      <td id=\"T_f8a80_row7_col5\" class=\"data row7 col5\" >0<br>(0.0%)</td>\n",
       "    </tr>\n",
       "  </tbody>\n",
       "</table>\n"
      ],
      "text/plain": [
       "<pandas.io.formats.style.Styler at 0x7fe115c61670>"
      ]
     },
     "execution_count": 90,
     "metadata": {},
     "output_type": "execute_result"
    }
   ],
   "source": [
    "dfSummary(btc_df)"
   ]
  },
  {
   "cell_type": "code",
   "execution_count": 87,
   "metadata": {},
   "outputs": [
    {
     "data": {
      "application/vnd.plotly.v1+json": {
       "config": {
        "plotlyServerURL": "https://plot.ly"
       },
       "data": [
        {
         "close": [
          19312.095703125,
          19044.107421875,
          19623.580078125,
          20336.84375,
          20160.716796875,
          19955.443359375,
          19546.849609375,
          19416.568359375,
          19446.42578125,
          19141.484375,
          19051.41796875,
          19157.4453125,
          19382.904296875,
          19185.65625,
          19067.634765625,
          19268.09375,
          19550.7578125,
          19334.416015625,
          19139.53515625,
          19053.740234375,
          19172.46875,
          19208.189453125,
          19567.0078125,
          19345.572265625,
          20095.857421875,
          20770.44140625,
          20285.8359375,
          20595.3515625,
          20818.4765625,
          20635.603515625,
          20495.7734375,
          20485.2734375,
          20159.50390625,
          20209.98828125,
          21147.23046875,
          21282.69140625,
          20926.486328125,
          20602.81640625,
          18541.271484375,
          15880.7802734375,
          17586.771484375,
          17034.29296875,
          16799.185546875,
          16353.365234375,
          16618.19921875,
          16884.61328125,
          16669.439453125,
          16687.517578125,
          16697.77734375,
          16711.546875,
          16291.83203125,
          15787.2841796875,
          16189.76953125,
          16610.70703125,
          16604.46484375,
          16521.841796875,
          16464.28125,
          16444.626953125,
          16217.322265625,
          16444.982421875,
          17168.56640625,
          16967.1328125,
          17088.66015625,
          16908.236328125,
          17130.486328125,
          16974.826171875,
          17089.50390625,
          16848.126953125,
          17233.474609375,
          17133.15234375,
          17128.724609375,
          17104.193359375,
          17206.4375,
          17781.318359375,
          17815.650390625,
          17364.865234375,
          16647.484375,
          16795.091796875,
          16757.9765625,
          16439.6796875,
          16906.3046875,
          16817.53515625,
          16830.341796875,
          16796.953125,
          16847.755859375,
          16841.986328125,
          16919.8046875,
          16717.173828125,
          16552.572265625,
          16642.341796875,
          16602.5859375,
          16547.49609375,
          16625.080078125,
          16688.470703125,
          16679.857421875,
          16863.23828125,
          16836.736328125,
          16951.96875,
          16955.078125,
          17091.14453125,
          17196.5546875,
          17446.29296875,
          17934.896484375,
          18869.587890625,
          19909.57421875,
          20976.298828125,
          20880.798828125,
          21169.6328125,
          21161.51953125,
          20688.78125,
          21086.79296875,
          22676.552734375,
          22777.625,
          22720.416015625,
          22934.431640625,
          22636.46875,
          23117.859375,
          23032.77734375,
          23078.728515625,
          23031.08984375,
          23774.56640625,
          22840.138671875,
          23139.283203125,
          23723.76953125,
          23471.87109375,
          23449.322265625,
          23331.84765625,
          22955.666015625,
          22760.109375,
          23264.291015625,
          22939.3984375,
          21819.0390625,
          21651.18359375,
          21870.875,
          21788.203125,
          21808.1015625,
          22220.8046875,
          24307.841796875,
          23623.474609375,
          24565.6015625,
          24641.27734375,
          24327.642578125,
          24829.1484375,
          24436.353515625,
          24188.84375,
          23947.4921875,
          23198.126953125,
          23175.375,
          23561.212890625,
          23522.87109375,
          23147.353515625,
          23646.55078125,
          23475.466796875,
          22362.6796875,
          22353.349609375,
          22435.513671875,
          22429.7578125,
          22219.76953125,
          21718.080078125,
          20363.021484375,
          20187.244140625,
          20632.41015625,
          22163.94921875,
          24197.533203125,
          24746.07421875,
          24375.9609375,
          25052.7890625,
          27423.9296875,
          26965.87890625,
          28038.67578125,
          27767.236328125,
          28175.81640625,
          27307.4375,
          28333.97265625,
          27493.28515625,
          27494.70703125,
          27994.330078125,
          27139.888671875,
          27268.130859375,
          28348.44140625,
          28033.5625,
          28478.484375,
          28411.03515625,
          28199.30859375,
          27790.220703125,
          28168.08984375,
          28177.984375,
          28044.140625,
          27925.859375,
          27947.794921875,
          28333.05078125,
          29652.98046875,
          30235.05859375,
          30139.052734375,
          30399.06640625,
          30485.69921875,
          30318.49609375,
          30315.35546875,
          29445.044921875,
          30397.552734375,
          28822.6796875,
          28245.98828125,
          27276.91015625,
          27817.5,
          27591.384765625,
          27525.33984375,
          28307.59765625,
          28422.701171875,
          29473.787109375,
          29340.26171875,
          29248.48828125,
          29268.806640625,
          28091.568359375,
          28680.537109375,
          29006.30859375,
          28847.7109375,
          29534.384765625,
          28904.623046875,
          28454.978515625,
          27694.2734375,
          27658.775390625,
          27621.755859375,
          27000.7890625,
          26804.990234375,
          26784.078125,
          26930.638671875,
          27192.693359375,
          27036.650390625,
          27398.802734375,
          26832.208984375,
          26890.12890625,
          27129.5859375,
          26753.826171875,
          26851.27734375,
          27225.7265625,
          26334.818359375,
          26476.20703125,
          26719.291015625,
          26868.353515625,
          28085.646484375,
          27745.884765625,
          27702.349609375,
          27219.658203125,
          26819.97265625,
          27249.58984375,
          27075.12890625,
          27119.06640625,
          25760.09765625,
          27238.783203125,
          26345.998046875,
          26508.216796875,
          26480.375,
          25851.240234375,
          25940.16796875,
          25902.5,
          25918.728515625,
          25124.67578125,
          25576.39453125,
          26327.462890625,
          26510.67578125,
          26336.212890625,
          26851.029296875,
          28327.48828125,
          30027.296875,
          29912.28125,
          30695.46875,
          30548.6953125,
          30480.26171875,
          30271.130859375,
          30688.1640625,
          30086.24609375,
          30445.3515625,
          30477.251953125,
          30590.078125,
          30620.76953125,
          31156.439453125,
          30777.58203125,
          30514.166015625,
          29909.337890625,
          30342.265625,
          30292.541015625,
          30171.234375,
          30414.470703125,
          30620.951171875,
          30391.646484375,
          31476.048828125,
          30334.068359375,
          30295.806640625,
          30249.1328125,
          30145.888671875,
          29856.5625,
          29913.923828125,
          29792.015625,
          29908.744140625,
          29771.802734375,
          30084.5390625,
          29176.916015625,
          29227.390625,
          29354.97265625,
          29210.689453125,
          29319.24609375,
          29356.91796875,
          29275.30859375,
          29230.111328125,
          29675.732421875,
          29151.958984375,
          29178.6796875,
          29074.091796875,
          29042.126953125,
          29041.85546875,
          29180.578125,
          29765.4921875,
          29561.494140625,
          29429.591796875,
          29397.71484375,
          29415.96484375,
          29282.9140625,
          29408.443359375,
          29170.34765625,
          28701.779296875,
          26664.55078125,
          26049.556640625,
          26096.205078125,
          26189.583984375,
          26124.140625,
          26031.65625,
          26431.640625,
          26162.373046875,
          26047.66796875,
          26008.462890625,
          26089.693359375,
          26106.150390625,
          27727.392578125,
          27297.265625,
          25931.47265625,
          25800.724609375,
          25868.798828125,
          25969.56640625,
          25812.416015625,
          25779.982421875,
          25753.236328125,
          26240.1953125,
          25905.654296875,
          25895.677734375,
          25832.2265625,
          25162.654296875,
          25833.34375,
          26228.32421875,
          26539.673828125,
          26608.693359375,
          26568.28125,
          26534.1875,
          26754.28125,
          27211.1171875,
          27132.0078125,
          26567.6328125,
          26579.568359375,
          26579.390625,
          26256.826171875,
          26298.48046875,
          26217.25,
          26352.716796875,
          27021.546875,
          26911.720703125,
          26967.916015625
         ],
         "high": [
          19471.154296875,
          19370.30859375,
          19653.54296875,
          20380.34375,
          20343.748046875,
          20408.392578125,
          20041.0859375,
          19601.6953125,
          19542.5390625,
          19515.466796875,
          19241.9609375,
          19203.19921875,
          19453.328125,
          19889.146484375,
          19212.541015625,
          19389.603515625,
          19635.802734375,
          19666.994140625,
          19348.416015625,
          19315.19921875,
          19237.384765625,
          19248.068359375,
          19646.65234375,
          19589.125,
          20348.412109375,
          20938.134765625,
          20854.044921875,
          20724.98046875,
          20988.39453125,
          20917.005859375,
          20795.3203125,
          20647.2890625,
          20742.810546875,
          20382.095703125,
          21209.560546875,
          21446.88671875,
          21345.376953125,
          21053.24609375,
          20664.607421875,
          18590.458984375,
          18054.3125,
          17650.943359375,
          17066.67578125,
          16920.765625,
          17109.32421875,
          17051.962890625,
          16960.294921875,
          16726.439453125,
          16947.05859375,
          16797.876953125,
          16746.779296875,
          16291.2236328125,
          16253.0478515625,
          16638.193359375,
          16771.474609375,
          16603.31640625,
          16666.86328125,
          16594.40625,
          16482.93359375,
          16522.2578125,
          17190.9375,
          17197.498046875,
          17088.66015625,
          17116.041015625,
          17157.767578125,
          17378.15234375,
          17091.86328125,
          17109.376953125,
          17267.916015625,
          17280.546875,
          17216.826171875,
          17245.634765625,
          17212.564453125,
          17930.0859375,
          18318.53125,
          17846.744140625,
          17505.525390625,
          16800.58984375,
          16815.38671875,
          16807.52734375,
          17012.984375,
          16916.80078125,
          16866.673828125,
          16905.21875,
          16864.703125,
          16860.5546875,
          16920.123046875,
          16959.845703125,
          16768.169921875,
          16651.755859375,
          16643.427734375,
          16628.986328125,
          16630.439453125,
          16759.34375,
          16760.447265625,
          16964.5859375,
          16884.021484375,
          16991.994140625,
          16975.017578125,
          17091.14453125,
          17389.95703125,
          17484.720703125,
          17934.896484375,
          19030.087890625,
          19964.322265625,
          21075.142578125,
          20993.748046875,
          21360.875,
          21438.66015625,
          21564.501953125,
          21163.01171875,
          22692.357421875,
          23282.34765625,
          23056.73046875,
          23126.486328125,
          23134.01171875,
          23722.099609375,
          23237.078125,
          23417.720703125,
          23165.896484375,
          23919.890625,
          23789.34765625,
          23225.021484375,
          23764.5390625,
          24167.2109375,
          23678.103515625,
          23556.94921875,
          23423.435546875,
          23119.279296875,
          23310.974609375,
          23367.958984375,
          22996.4375,
          21941.185546875,
          21891.41015625,
          22060.994140625,
          21898.4140625,
          22293.140625,
          24307.841796875,
          25134.1171875,
          24924.041015625,
          24798.8359375,
          25093.0546875,
          25020.458984375,
          25126.8515625,
          24472.33984375,
          24572.08984375,
          24103.705078125,
          23210.2109375,
          23654.3671875,
          23857.890625,
          23585.384765625,
          23880.6328125,
          23739.138671875,
          23479.34765625,
          22405.177734375,
          22613.685546875,
          22584.29296875,
          22527.41796875,
          22268.896484375,
          21802.716796875,
          20370.595703125,
          20792.525390625,
          22185.03125,
          24550.837890625,
          26514.716796875,
          25240.615234375,
          25190.326171875,
          27787.8125,
          27725.953125,
          28440.560546875,
          28527.724609375,
          28439.5625,
          28803.3359375,
          28729.84375,
          28388.4375,
          27791.826171875,
          28178.14453125,
          28037.92578125,
          27460.71875,
          28619.54296875,
          29159.90234375,
          28639.896484375,
          28802.45703125,
          28518.958984375,
          28475.623046875,
          28433.7421875,
          28739.23828125,
          28178.384765625,
          28111.59375,
          28159.86328125,
          28532.830078125,
          29771.46484375,
          30509.083984375,
          30462.48046875,
          30539.845703125,
          31005.607421875,
          30601.740234375,
          30555.537109375,
          30319.197265625,
          30470.302734375,
          30411.0546875,
          29076.400390625,
          28349.96875,
          27872.142578125,
          27820.244140625,
          27979.982421875,
          28371.078125,
          29995.837890625,
          29871.546875,
          29572.791015625,
          29452.455078125,
          29952.029296875,
          29329.935546875,
          28881.298828125,
          29259.533203125,
          29353.185546875,
          29668.908203125,
          29820.126953125,
          29157.517578125,
          28663.271484375,
          27821.400390625,
          28322.6875,
          27621.94140625,
          27055.646484375,
          27030.482421875,
          27150.9765625,
          27646.34765625,
          27299.3046875,
          27465.927734375,
          27466.52734375,
          27128.619140625,
          27155.158203125,
          27265.91796875,
          27045.734375,
          27434.68359375,
          27224.603515625,
          26591.51953125,
          26916.669921875,
          26888.8828125,
          28193.44921875,
          28432.0390625,
          28044.759765625,
          27831.677734375,
          27346.10546875,
          27303.861328125,
          27317.052734375,
          27407.01953125,
          27129.982421875,
          27313.8203125,
          27332.181640625,
          26797.513671875,
          26770.2890625,
          26531.044921875,
          26203.439453125,
          26087.919921875,
          26376.3515625,
          26041.80078125,
          25735.30859375,
          26463.173828125,
          26769.39453125,
          26675.92578125,
          26984.611328125,
          28388.96875,
          30737.330078125,
          30495.998046875,
          31389.5390625,
          30804.1484375,
          31041.271484375,
          30636.029296875,
          31006.787109375,
          30703.279296875,
          30796.25,
          31256.86328125,
          30641.2890625,
          30766.140625,
          31375.61328125,
          31325.197265625,
          30877.330078125,
          31460.052734375,
          30434.64453125,
          30374.4375,
          30427.58984375,
          31026.083984375,
          30788.314453125,
          30959.96484375,
          31814.515625,
          31582.25390625,
          30407.78125,
          30437.560546875,
          30336.400390625,
          30233.65625,
          30184.181640625,
          30195.53125,
          30045.998046875,
          29991.615234375,
          30330.640625,
          30093.39453125,
          29353.16015625,
          29675.552734375,
          29560.966796875,
          29521.513671875,
          29396.84375,
          29443.169921875,
          29489.873046875,
          29675.732421875,
          29987.998046875,
          29375.70703125,
          29302.078125,
          29102.46484375,
          29160.822265625,
          29244.28125,
          30176.796875,
          30093.435546875,
          29688.564453125,
          29517.7734375,
          29465.11328125,
          29441.43359375,
          29660.25390625,
          29439.12109375,
          29221.9765625,
          28745.947265625,
          26808.1953125,
          26249.44921875,
          26260.681640625,
          26220.201171875,
          26135.5078125,
          26786.8984375,
          26554.91015625,
          26248.103515625,
          26107.384765625,
          26165.373046875,
          26198.578125,
          28089.337890625,
          27760.16015625,
          27456.078125,
          26125.869140625,
          25970.28515625,
          26087.1484375,
          26081.525390625,
          25858.375,
          25953.015625,
          26409.302734375,
          26414.005859375,
          25921.9765625,
          25978.130859375,
          25883.947265625,
          26451.939453125,
          26376.11328125,
          26774.623046875,
          26840.498046875,
          26754.76953125,
          26617.998046875,
          27414.734375,
          27488.763671875,
          27379.505859375,
          27152.939453125,
          26726.078125,
          26634.185546875,
          26716.05859375,
          26421.5078125,
          26389.884765625,
          26817.841796875,
          27259.5,
          27225.9375,
          27091.794921875
         ],
         "low": [
          19231.08203125,
          18970.62109375,
          19025.2265625,
          19523.83984375,
          19801.80078125,
          19900.087890625,
          19395.79296875,
          19299.4140625,
          19349.259765625,
          19102.978515625,
          18925.603515625,
          19029.7578125,
          18319.822265625,
          19115.408203125,
          19019.25,
          19068.9140625,
          19173.333984375,
          19144.76953125,
          19127.6875,
          18971.458984375,
          18770.970703125,
          19132.244140625,
          19124.197265625,
          19206.32421875,
          19261.447265625,
          20076.1171875,
          20255.373046875,
          20086.068359375,
          20566.484375,
          20547.462890625,
          20287.458984375,
          20359.845703125,
          20087.134765625,
          20086.240234375,
          20188.01953125,
          21097.634765625,
          20920.19140625,
          20489.97265625,
          17603.544921875,
          15682.6923828125,
          15834.0185546875,
          16543.482421875,
          16651.775390625,
          16320.634765625,
          15872.94140625,
          16542.55078125,
          16430.111328125,
          16460.68359375,
          16564.611328125,
          16570.41015625,
          16248.6923828125,
          15599.046875,
          15656.6064453125,
          16170.5029296875,
          16501.767578125,
          16388.404296875,
          16416.228515625,
          16437.025390625,
          16054.5302734375,
          16139.396484375,
          16445.4765625,
          16888.388671875,
          16877.880859375,
          16888.140625,
          16903.439453125,
          16922.431640625,
          16939.921875,
          16750.55859375,
          16788.783203125,
          17100.8359375,
          17120.68359375,
          17091.8203125,
          16899.39453125,
          17111.763671875,
          17739.513671875,
          17322.58984375,
          16584.701171875,
          16614.029296875,
          16697.8203125,
          16398.13671875,
          16427.8671875,
          16755.912109375,
          16592.408203125,
          16794.458984375,
          16793.52734375,
          16755.25390625,
          16812.369140625,
          16642.072265625,
          16497.556640625,
          16508.68359375,
          16408.474609375,
          16517.51953125,
          16521.234375,
          16572.228515625,
          16622.37109375,
          16667.763671875,
          16790.283203125,
          16716.421875,
          16914.19140625,
          16924.05078125,
          17093.9921875,
          17162.990234375,
          17337.994140625,
          17995.203125,
          18753.1640625,
          19907.828125,
          20606.986328125,
          20715.74609375,
          20978.533203125,
          20541.544921875,
          20685.380859375,
          20919.126953125,
          22511.833984375,
          22387.900390625,
          22654.3046875,
          22549.744140625,
          22406.076171875,
          22911.373046875,
          22654.59375,
          22908.845703125,
          22985.0703125,
          22657.58203125,
          22765.568359375,
          22877.75,
          23468.595703125,
          23279.955078125,
          23291.794921875,
          22841.759765625,
          22692.025390625,
          22756.2578125,
          22731.09765625,
          21773.974609375,
          21539.392578125,
          21618.44921875,
          21682.828125,
          21460.087890625,
          21632.39453125,
          22082.76953125,
          23602.5234375,
          23460.755859375,
          24468.373046875,
          24327.642578125,
          23927.91015625,
          24200.36328125,
          23644.318359375,
          23693.919921875,
          23007.072265625,
          22861.55859375,
          23084.220703125,
          23205.87890625,
          23077.650390625,
          23088.626953125,
          23245.021484375,
          22213.23828125,
          22198.98046875,
          22307.142578125,
          22331.314453125,
          22011.26171875,
          21708.05078125,
          20210.306640625,
          19628.25390625,
          20068.66015625,
          20448.806640625,
          21918.19921875,
          24081.18359375,
          23964.91015625,
          24225.111328125,
          24955.169921875,
          26636.26171875,
          26907.716796875,
          27242.880859375,
          27439.646484375,
          26759.99609375,
          27183.36328125,
          27039.265625,
          27196.234375,
          27445.046875,
          26606.689453125,
          26677.818359375,
          27259.662109375,
          27720.16015625,
          27583.71484375,
          28297.171875,
          27884.087890625,
          27276.720703125,
          27681.3046875,
          27843.763671875,
          27738.759765625,
          27794.03125,
          27883.38671875,
          27828.48046875,
          28189.271484375,
          29609.30078125,
          29725.57421875,
          29878.623046875,
          30044.498046875,
          30245.8828125,
          30157.83203125,
          29275.37109375,
          29154.849609375,
          28669.8984375,
          28037.2578125,
          27177.365234375,
          27169.5703125,
          27400.314453125,
          27070.849609375,
          27207.931640625,
          27324.548828125,
          28402.88671875,
          28929.609375,
          29088.04296875,
          29114.021484375,
          27680.79296875,
          27924.123046875,
          28178.388671875,
          28694.0390625,
          28845.509765625,
          28468.966796875,
          28441.3671875,
          27310.134765625,
          27375.6015625,
          26883.669921875,
          26781.826171875,
          25878.4296875,
          26710.873046875,
          26661.35546875,
          26766.09765625,
          26878.947265625,
          26600.14453125,
          26415.1015625,
          26700.2109375,
          26843.27734375,
          26706.921875,
          26549.734375,
          26816.1796875,
          26106.576171875,
          25890.59375,
          26343.94921875,
          26621.140625,
          26802.751953125,
          27563.876953125,
          27588.501953125,
          26866.453125,
          26671.720703125,
          26574.64453125,
          26958.00390625,
          26968.224609375,
          25445.16796875,
          25434.8671875,
          26146.98828125,
          26246.6640625,
          26339.314453125,
          25501.8359375,
          25668.986328125,
          25675.197265625,
          25728.365234375,
          24902.15234375,
          24797.16796875,
          25245.357421875,
          26174.4921875,
          26325.890625,
          26312.83203125,
          26668.791015625,
          28283.41015625,
          29679.158203125,
          29845.21484375,
          30290.146484375,
          30327.943359375,
          29955.744140625,
          30236.650390625,
          29921.822265625,
          30057.203125,
          29600.275390625,
          30328.865234375,
          30264.01953125,
          30586.513671875,
          30659.35546875,
          30225.61328125,
          29892.2265625,
          29777.28515625,
          30080.16015625,
          30085.591796875,
          29985.39453125,
          30358.09765625,
          30228.8359375,
          30268.3515625,
          29966.38671875,
          30263.462890625,
          30089.669921875,
          29685.783203125,
          29556.427734375,
          29794.26953125,
          29638.095703125,
          29733.8515625,
          29664.12109375,
          29741.52734375,
          28934.294921875,
          29062.43359375,
          29113.912109375,
          29099.3515625,
          29125.845703125,
          29264.166015625,
          29059.501953125,
          29131.578125,
          28657.0234375,
          28946.509765625,
          28959.48828125,
          28885.3359375,
          28957.796875,
          28963.833984375,
          28724.140625,
          29113.814453125,
          29376.80078125,
          29354.447265625,
          29253.517578125,
          29357.587890625,
          29265.806640625,
          29124.10546875,
          29088.853515625,
          28701.779296875,
          25409.111328125,
          25668.921875,
          25802.408203125,
          26004.314453125,
          25846.087890625,
          25520.728515625,
          25804.998046875,
          25914.92578125,
          25786.8125,
          25983.87890625,
          25965.09765625,
          25880.599609375,
          25912.62890625,
          27069.20703125,
          25752.9296875,
          25362.609375,
          25753.09375,
          25817.03125,
          25657.025390625,
          25589.98828125,
          25404.359375,
          25608.201171875,
          25677.48046875,
          25810.494140625,
          25640.26171875,
          24930.296875,
          25133.078125,
          25781.123046875,
          26171.451171875,
          26240.701171875,
          26473.890625,
          26445.07421875,
          26415.515625,
          26681.60546875,
          26864.08203125,
          26389.30078125,
          26495.533203125,
          26520.51953125,
          26221.05078125,
          26011.46875,
          26090.712890625,
          26111.46484375,
          26327.322265625,
          26721.763671875,
          26888.96875
         ],
         "open": [
          19431.10546875,
          19311.849609375,
          19044.068359375,
          19623.583984375,
          20335.900390625,
          20161.0390625,
          19957.55859375,
          19546.328125,
          19417.478515625,
          19446.416015625,
          19139,
          19052.646484375,
          19156.966796875,
          19382.533203125,
          19185.4375,
          19068.9140625,
          19268.5625,
          19550.466796875,
          19335.02734375,
          19138.0859375,
          19053.203125,
          19172.380859375,
          19207.734375,
          19567.76953125,
          19344.96484375,
          20092.236328125,
          20772.802734375,
          20287.95703125,
          20595.103515625,
          20817.982421875,
          20633.6953125,
          20494.8984375,
          20482.958984375,
          20162.689453125,
          20208.76953125,
          21144.83203125,
          21285.056640625,
          20924.62109375,
          20600.671875,
          18543.76171875,
          15883.158203125,
          17583.251953125,
          17036.875,
          16799.72265625,
          16352.0283203125,
          16617.484375,
          16884.341796875,
          16670.42578125,
          16687.912109375,
          16696.220703125,
          16712.919921875,
          16291.2236328125,
          15782.30078125,
          16195.5888671875,
          16611.63671875,
          16602.26953125,
          16521.576171875,
          16463.8828125,
          16440.22265625,
          16217.6396484375,
          16445.4765625,
          17168.001953125,
          16968.68359375,
          17090.09765625,
          16908.169921875,
          17128.89453125,
          16975.23828125,
          17089.505859375,
          16847.349609375,
          17232.1484375,
          17134.220703125,
          17129.7109375,
          17102.5,
          17206.44140625,
          17782.06640625,
          17813.64453125,
          17364.546875,
          16646.982421875,
          16795.609375,
          16759.041015625,
          16441.787109375,
          16904.52734375,
          16818.380859375,
          16829.64453125,
          16796.9765625,
          16847.505859375,
          16842.25,
          16919.291015625,
          16716.400390625,
          16552.322265625,
          16641.330078125,
          16603.673828125,
          16547.9140625,
          16625.509765625,
          16688.84765625,
          16680.205078125,
          16863.47265625,
          16836.47265625,
          16952.1171875,
          16954.146484375,
          17093.9921875,
          17192.94921875,
          17446.359375,
          18117.59375,
          18868.90625,
          19910.537109375,
          20977.484375,
          20882.224609375,
          21175.833984375,
          21161.05078125,
          20686.74609375,
          21085.373046875,
          22677.427734375,
          22777.986328125,
          22721.087890625,
          22929.626953125,
          22639.267578125,
          23108.955078125,
          23030.716796875,
          23079.96484375,
          23031.44921875,
          23774.6484375,
          22840.796875,
          23137.8359375,
          23720.82421875,
          23469.412109375,
          23446.3203125,
          23332.248046875,
          22954.021484375,
          22757.267578125,
          23263.416015625,
          22946.56640625,
          21819.005859375,
          21651.841796875,
          21870.90234375,
          21787,
          21801.822265625,
          22220.5859375,
          24307.349609375,
          23621.283203125,
          24565.296875,
          24640.02734375,
          24336.623046875,
          24833.048828125,
          24437.41796875,
          24190.71875,
          23946.0078125,
          23200.125,
          23174.150390625,
          23561.451171875,
          23521.837890625,
          23150.9296875,
          23647.01953125,
          23476.6328125,
          22362.923828125,
          22354.14453125,
          22436.81640625,
          22428.322265625,
          22216.44140625,
          21720.080078125,
          20367.001953125,
          20187.876953125,
          20628.029296875,
          22156.40625,
          24201.765625,
          24770.92578125,
          24373.45703125,
          25055.123046875,
          27448.1171875,
          26969.50390625,
          28041.6015625,
          27768.392578125,
          28158.720703125,
          27301.95703125,
          28324.111328125,
          27487.337890625,
          27495.5234375,
          27994.068359375,
          27132.888671875,
          27267.03125,
          28350.140625,
          28032.26171875,
          28473.33203125,
          28462.845703125,
          28183.080078125,
          27795.2734375,
          28169.7265625,
          28175.2265625,
          28038.966796875,
          27920.513671875,
          27952.3671875,
          28336.02734375,
          29653.6796875,
          30231.58203125,
          29892.740234375,
          30409.5625,
          30490.75,
          30315.9765625,
          30317.146484375,
          29449.091796875,
          30394.1875,
          28823.68359375,
          28249.23046875,
          27265.89453125,
          27816.14453125,
          27591.73046875,
          27514.873046875,
          28300.05859375,
          28428.46484375,
          29481.013671875,
          29336.56640625,
          29245.515625,
          29227.103515625,
          28087.17578125,
          28680.494140625,
          29031.3046875,
          28851.48046875,
          29538.859375,
          28901.623046875,
          28450.45703125,
          27695.068359375,
          27654.63671875,
          27621.0859375,
          26987.662109375,
          26807.76953125,
          26788.974609375,
          26931.384765625,
          27171.513671875,
          27035.470703125,
          27401.650390625,
          26826.75390625,
          26888.841796875,
          27118.423828125,
          26749.892578125,
          26855.9609375,
          27224.603515625,
          26329.4609375,
          26474.181640625,
          26720.181640625,
          26871.158203125,
          28075.591796875,
          27745.123046875,
          27700.529296875,
          27218.412109375,
          26824.556640625,
          27252.32421875,
          27075.123046875,
          27123.109375,
          25732.109375,
          27235.650390625,
          26347.654296875,
          26505.923828125,
          26481.76171875,
          25854.03125,
          25934.28515625,
          25902.94140625,
          25920.2578125,
          25121.673828125,
          25575.283203125,
          26328.6796875,
          26510.45703125,
          26335.44140625,
          26841.6640625,
          28311.310546875,
          29995.935546875,
          29896.3828125,
          30708.73828125,
          30545.150390625,
          30480.5234375,
          30274.3203125,
          30696.560546875,
          30086.1875,
          30441.353515625,
          30471.84765625,
          30587.26953125,
          30624.515625,
          31156.865234375,
          30778.724609375,
          30507.150390625,
          29907.998046875,
          30346.921875,
          30291.611328125,
          30172.423828125,
          30417.6328125,
          30622.24609375,
          30387.48828125,
          31474.720703125,
          30331.783203125,
          30297.47265625,
          30249.626953125,
          30147.0703125,
          29862.046875,
          29915.25,
          29805.111328125,
          29908.697265625,
          29790.111328125,
          30081.662109375,
          29178.970703125,
          29225.759765625,
          29353.798828125,
          29212.1640625,
          29319.4453125,
          29357.09375,
          29278.314453125,
          29230.873046875,
          29704.146484375,
          29161.8125,
          29174.3828125,
          29075.388671875,
          29043.701171875,
          29038.513671875,
          29180.01953125,
          29766.6953125,
          29563.97265625,
          29424.90234375,
          29399.787109375,
          29416.59375,
          29283.263671875,
          29408.048828125,
          29169.07421875,
          28699.802734375,
          26636.078125,
          26047.83203125,
          26096.861328125,
          26188.69140625,
          26130.748046875,
          26040.474609375,
          26431.51953125,
          26163.6796875,
          26047.234375,
          26008.2421875,
          26089.615234375,
          26102.486328125,
          27726.083984375,
          27301.9296875,
          25934.021484375,
          25800.91015625,
          25869.47265625,
          25968.169921875,
          25814.95703125,
          25783.931640625,
          25748.3125,
          26245.208984375,
          25905.42578125,
          25895.2109375,
          25831.71484375,
          25160.658203125,
          25837.5546875,
          26228.27734375,
          26533.818359375,
          26606.19921875,
          26567.927734375,
          26532.994140625,
          26760.8515625,
          27210.228515625,
          27129.83984375,
          26564.056640625,
          26578.556640625,
          26579.373046875,
          26253.775390625,
          26294.7578125,
          26209.498046875,
          26355.8125,
          27024.841796875,
          26911.689453125
         ],
         "type": "candlestick",
         "x": [
          "2022-10-01T00:00:00+00:00",
          "2022-10-02T00:00:00+00:00",
          "2022-10-03T00:00:00+00:00",
          "2022-10-04T00:00:00+00:00",
          "2022-10-05T00:00:00+00:00",
          "2022-10-06T00:00:00+00:00",
          "2022-10-07T00:00:00+00:00",
          "2022-10-08T00:00:00+00:00",
          "2022-10-09T00:00:00+00:00",
          "2022-10-10T00:00:00+00:00",
          "2022-10-11T00:00:00+00:00",
          "2022-10-12T00:00:00+00:00",
          "2022-10-13T00:00:00+00:00",
          "2022-10-14T00:00:00+00:00",
          "2022-10-15T00:00:00+00:00",
          "2022-10-16T00:00:00+00:00",
          "2022-10-17T00:00:00+00:00",
          "2022-10-18T00:00:00+00:00",
          "2022-10-19T00:00:00+00:00",
          "2022-10-20T00:00:00+00:00",
          "2022-10-21T00:00:00+00:00",
          "2022-10-22T00:00:00+00:00",
          "2022-10-23T00:00:00+00:00",
          "2022-10-24T00:00:00+00:00",
          "2022-10-25T00:00:00+00:00",
          "2022-10-26T00:00:00+00:00",
          "2022-10-27T00:00:00+00:00",
          "2022-10-28T00:00:00+00:00",
          "2022-10-29T00:00:00+00:00",
          "2022-10-30T00:00:00+00:00",
          "2022-10-31T00:00:00+00:00",
          "2022-11-01T00:00:00+00:00",
          "2022-11-02T00:00:00+00:00",
          "2022-11-03T00:00:00+00:00",
          "2022-11-04T00:00:00+00:00",
          "2022-11-05T00:00:00+00:00",
          "2022-11-06T00:00:00+00:00",
          "2022-11-07T00:00:00+00:00",
          "2022-11-08T00:00:00+00:00",
          "2022-11-09T00:00:00+00:00",
          "2022-11-10T00:00:00+00:00",
          "2022-11-11T00:00:00+00:00",
          "2022-11-12T00:00:00+00:00",
          "2022-11-13T00:00:00+00:00",
          "2022-11-14T00:00:00+00:00",
          "2022-11-15T00:00:00+00:00",
          "2022-11-16T00:00:00+00:00",
          "2022-11-17T00:00:00+00:00",
          "2022-11-18T00:00:00+00:00",
          "2022-11-19T00:00:00+00:00",
          "2022-11-20T00:00:00+00:00",
          "2022-11-21T00:00:00+00:00",
          "2022-11-22T00:00:00+00:00",
          "2022-11-23T00:00:00+00:00",
          "2022-11-24T00:00:00+00:00",
          "2022-11-25T00:00:00+00:00",
          "2022-11-26T00:00:00+00:00",
          "2022-11-27T00:00:00+00:00",
          "2022-11-28T00:00:00+00:00",
          "2022-11-29T00:00:00+00:00",
          "2022-11-30T00:00:00+00:00",
          "2022-12-01T00:00:00+00:00",
          "2022-12-02T00:00:00+00:00",
          "2022-12-03T00:00:00+00:00",
          "2022-12-04T00:00:00+00:00",
          "2022-12-05T00:00:00+00:00",
          "2022-12-06T00:00:00+00:00",
          "2022-12-07T00:00:00+00:00",
          "2022-12-08T00:00:00+00:00",
          "2022-12-09T00:00:00+00:00",
          "2022-12-10T00:00:00+00:00",
          "2022-12-11T00:00:00+00:00",
          "2022-12-12T00:00:00+00:00",
          "2022-12-13T00:00:00+00:00",
          "2022-12-14T00:00:00+00:00",
          "2022-12-15T00:00:00+00:00",
          "2022-12-16T00:00:00+00:00",
          "2022-12-17T00:00:00+00:00",
          "2022-12-18T00:00:00+00:00",
          "2022-12-19T00:00:00+00:00",
          "2022-12-20T00:00:00+00:00",
          "2022-12-21T00:00:00+00:00",
          "2022-12-22T00:00:00+00:00",
          "2022-12-23T00:00:00+00:00",
          "2022-12-24T00:00:00+00:00",
          "2022-12-25T00:00:00+00:00",
          "2022-12-26T00:00:00+00:00",
          "2022-12-27T00:00:00+00:00",
          "2022-12-28T00:00:00+00:00",
          "2022-12-29T00:00:00+00:00",
          "2022-12-30T00:00:00+00:00",
          "2022-12-31T00:00:00+00:00",
          "2023-01-01T00:00:00+00:00",
          "2023-01-02T00:00:00+00:00",
          "2023-01-03T00:00:00+00:00",
          "2023-01-04T00:00:00+00:00",
          "2023-01-05T00:00:00+00:00",
          "2023-01-06T00:00:00+00:00",
          "2023-01-07T00:00:00+00:00",
          "2023-01-08T00:00:00+00:00",
          "2023-01-09T00:00:00+00:00",
          "2023-01-10T00:00:00+00:00",
          "2023-01-11T00:00:00+00:00",
          "2023-01-12T00:00:00+00:00",
          "2023-01-13T00:00:00+00:00",
          "2023-01-14T00:00:00+00:00",
          "2023-01-15T00:00:00+00:00",
          "2023-01-16T00:00:00+00:00",
          "2023-01-17T00:00:00+00:00",
          "2023-01-18T00:00:00+00:00",
          "2023-01-19T00:00:00+00:00",
          "2023-01-20T00:00:00+00:00",
          "2023-01-21T00:00:00+00:00",
          "2023-01-22T00:00:00+00:00",
          "2023-01-23T00:00:00+00:00",
          "2023-01-24T00:00:00+00:00",
          "2023-01-25T00:00:00+00:00",
          "2023-01-26T00:00:00+00:00",
          "2023-01-27T00:00:00+00:00",
          "2023-01-28T00:00:00+00:00",
          "2023-01-29T00:00:00+00:00",
          "2023-01-30T00:00:00+00:00",
          "2023-01-31T00:00:00+00:00",
          "2023-02-01T00:00:00+00:00",
          "2023-02-02T00:00:00+00:00",
          "2023-02-03T00:00:00+00:00",
          "2023-02-04T00:00:00+00:00",
          "2023-02-05T00:00:00+00:00",
          "2023-02-06T00:00:00+00:00",
          "2023-02-07T00:00:00+00:00",
          "2023-02-08T00:00:00+00:00",
          "2023-02-09T00:00:00+00:00",
          "2023-02-10T00:00:00+00:00",
          "2023-02-11T00:00:00+00:00",
          "2023-02-12T00:00:00+00:00",
          "2023-02-13T00:00:00+00:00",
          "2023-02-14T00:00:00+00:00",
          "2023-02-15T00:00:00+00:00",
          "2023-02-16T00:00:00+00:00",
          "2023-02-17T00:00:00+00:00",
          "2023-02-18T00:00:00+00:00",
          "2023-02-19T00:00:00+00:00",
          "2023-02-20T00:00:00+00:00",
          "2023-02-21T00:00:00+00:00",
          "2023-02-22T00:00:00+00:00",
          "2023-02-23T00:00:00+00:00",
          "2023-02-24T00:00:00+00:00",
          "2023-02-25T00:00:00+00:00",
          "2023-02-26T00:00:00+00:00",
          "2023-02-27T00:00:00+00:00",
          "2023-02-28T00:00:00+00:00",
          "2023-03-01T00:00:00+00:00",
          "2023-03-02T00:00:00+00:00",
          "2023-03-03T00:00:00+00:00",
          "2023-03-04T00:00:00+00:00",
          "2023-03-05T00:00:00+00:00",
          "2023-03-06T00:00:00+00:00",
          "2023-03-07T00:00:00+00:00",
          "2023-03-08T00:00:00+00:00",
          "2023-03-09T00:00:00+00:00",
          "2023-03-10T00:00:00+00:00",
          "2023-03-11T00:00:00+00:00",
          "2023-03-12T00:00:00+00:00",
          "2023-03-13T00:00:00+00:00",
          "2023-03-14T00:00:00+00:00",
          "2023-03-15T00:00:00+00:00",
          "2023-03-16T00:00:00+00:00",
          "2023-03-17T00:00:00+00:00",
          "2023-03-18T00:00:00+00:00",
          "2023-03-19T00:00:00+00:00",
          "2023-03-20T00:00:00+00:00",
          "2023-03-21T00:00:00+00:00",
          "2023-03-22T00:00:00+00:00",
          "2023-03-23T00:00:00+00:00",
          "2023-03-24T00:00:00+00:00",
          "2023-03-25T00:00:00+00:00",
          "2023-03-26T00:00:00+00:00",
          "2023-03-27T00:00:00+00:00",
          "2023-03-28T00:00:00+00:00",
          "2023-03-29T00:00:00+00:00",
          "2023-03-30T00:00:00+00:00",
          "2023-03-31T00:00:00+00:00",
          "2023-04-01T00:00:00+00:00",
          "2023-04-02T00:00:00+00:00",
          "2023-04-03T00:00:00+00:00",
          "2023-04-04T00:00:00+00:00",
          "2023-04-05T00:00:00+00:00",
          "2023-04-06T00:00:00+00:00",
          "2023-04-07T00:00:00+00:00",
          "2023-04-08T00:00:00+00:00",
          "2023-04-09T00:00:00+00:00",
          "2023-04-10T00:00:00+00:00",
          "2023-04-11T00:00:00+00:00",
          "2023-04-12T00:00:00+00:00",
          "2023-04-13T00:00:00+00:00",
          "2023-04-14T00:00:00+00:00",
          "2023-04-15T00:00:00+00:00",
          "2023-04-16T00:00:00+00:00",
          "2023-04-17T00:00:00+00:00",
          "2023-04-18T00:00:00+00:00",
          "2023-04-19T00:00:00+00:00",
          "2023-04-20T00:00:00+00:00",
          "2023-04-21T00:00:00+00:00",
          "2023-04-22T00:00:00+00:00",
          "2023-04-23T00:00:00+00:00",
          "2023-04-24T00:00:00+00:00",
          "2023-04-25T00:00:00+00:00",
          "2023-04-26T00:00:00+00:00",
          "2023-04-27T00:00:00+00:00",
          "2023-04-28T00:00:00+00:00",
          "2023-04-29T00:00:00+00:00",
          "2023-04-30T00:00:00+00:00",
          "2023-05-01T00:00:00+00:00",
          "2023-05-02T00:00:00+00:00",
          "2023-05-03T00:00:00+00:00",
          "2023-05-04T00:00:00+00:00",
          "2023-05-05T00:00:00+00:00",
          "2023-05-06T00:00:00+00:00",
          "2023-05-07T00:00:00+00:00",
          "2023-05-08T00:00:00+00:00",
          "2023-05-09T00:00:00+00:00",
          "2023-05-10T00:00:00+00:00",
          "2023-05-11T00:00:00+00:00",
          "2023-05-12T00:00:00+00:00",
          "2023-05-13T00:00:00+00:00",
          "2023-05-14T00:00:00+00:00",
          "2023-05-15T00:00:00+00:00",
          "2023-05-16T00:00:00+00:00",
          "2023-05-17T00:00:00+00:00",
          "2023-05-18T00:00:00+00:00",
          "2023-05-19T00:00:00+00:00",
          "2023-05-20T00:00:00+00:00",
          "2023-05-21T00:00:00+00:00",
          "2023-05-22T00:00:00+00:00",
          "2023-05-23T00:00:00+00:00",
          "2023-05-24T00:00:00+00:00",
          "2023-05-25T00:00:00+00:00",
          "2023-05-26T00:00:00+00:00",
          "2023-05-27T00:00:00+00:00",
          "2023-05-28T00:00:00+00:00",
          "2023-05-29T00:00:00+00:00",
          "2023-05-30T00:00:00+00:00",
          "2023-05-31T00:00:00+00:00",
          "2023-06-01T00:00:00+00:00",
          "2023-06-02T00:00:00+00:00",
          "2023-06-03T00:00:00+00:00",
          "2023-06-04T00:00:00+00:00",
          "2023-06-05T00:00:00+00:00",
          "2023-06-06T00:00:00+00:00",
          "2023-06-07T00:00:00+00:00",
          "2023-06-08T00:00:00+00:00",
          "2023-06-09T00:00:00+00:00",
          "2023-06-10T00:00:00+00:00",
          "2023-06-11T00:00:00+00:00",
          "2023-06-12T00:00:00+00:00",
          "2023-06-13T00:00:00+00:00",
          "2023-06-14T00:00:00+00:00",
          "2023-06-15T00:00:00+00:00",
          "2023-06-16T00:00:00+00:00",
          "2023-06-17T00:00:00+00:00",
          "2023-06-18T00:00:00+00:00",
          "2023-06-19T00:00:00+00:00",
          "2023-06-20T00:00:00+00:00",
          "2023-06-21T00:00:00+00:00",
          "2023-06-22T00:00:00+00:00",
          "2023-06-23T00:00:00+00:00",
          "2023-06-24T00:00:00+00:00",
          "2023-06-25T00:00:00+00:00",
          "2023-06-26T00:00:00+00:00",
          "2023-06-27T00:00:00+00:00",
          "2023-06-28T00:00:00+00:00",
          "2023-06-29T00:00:00+00:00",
          "2023-06-30T00:00:00+00:00",
          "2023-07-01T00:00:00+00:00",
          "2023-07-02T00:00:00+00:00",
          "2023-07-03T00:00:00+00:00",
          "2023-07-04T00:00:00+00:00",
          "2023-07-05T00:00:00+00:00",
          "2023-07-06T00:00:00+00:00",
          "2023-07-07T00:00:00+00:00",
          "2023-07-08T00:00:00+00:00",
          "2023-07-09T00:00:00+00:00",
          "2023-07-10T00:00:00+00:00",
          "2023-07-11T00:00:00+00:00",
          "2023-07-12T00:00:00+00:00",
          "2023-07-13T00:00:00+00:00",
          "2023-07-14T00:00:00+00:00",
          "2023-07-15T00:00:00+00:00",
          "2023-07-16T00:00:00+00:00",
          "2023-07-17T00:00:00+00:00",
          "2023-07-18T00:00:00+00:00",
          "2023-07-19T00:00:00+00:00",
          "2023-07-20T00:00:00+00:00",
          "2023-07-21T00:00:00+00:00",
          "2023-07-22T00:00:00+00:00",
          "2023-07-23T00:00:00+00:00",
          "2023-07-24T00:00:00+00:00",
          "2023-07-25T00:00:00+00:00",
          "2023-07-26T00:00:00+00:00",
          "2023-07-27T00:00:00+00:00",
          "2023-07-28T00:00:00+00:00",
          "2023-07-29T00:00:00+00:00",
          "2023-07-30T00:00:00+00:00",
          "2023-07-31T00:00:00+00:00",
          "2023-08-01T00:00:00+00:00",
          "2023-08-02T00:00:00+00:00",
          "2023-08-03T00:00:00+00:00",
          "2023-08-04T00:00:00+00:00",
          "2023-08-05T00:00:00+00:00",
          "2023-08-06T00:00:00+00:00",
          "2023-08-07T00:00:00+00:00",
          "2023-08-08T00:00:00+00:00",
          "2023-08-09T00:00:00+00:00",
          "2023-08-10T00:00:00+00:00",
          "2023-08-11T00:00:00+00:00",
          "2023-08-12T00:00:00+00:00",
          "2023-08-13T00:00:00+00:00",
          "2023-08-14T00:00:00+00:00",
          "2023-08-15T00:00:00+00:00",
          "2023-08-16T00:00:00+00:00",
          "2023-08-17T00:00:00+00:00",
          "2023-08-18T00:00:00+00:00",
          "2023-08-19T00:00:00+00:00",
          "2023-08-20T00:00:00+00:00",
          "2023-08-21T00:00:00+00:00",
          "2023-08-22T00:00:00+00:00",
          "2023-08-23T00:00:00+00:00",
          "2023-08-24T00:00:00+00:00",
          "2023-08-25T00:00:00+00:00",
          "2023-08-26T00:00:00+00:00",
          "2023-08-27T00:00:00+00:00",
          "2023-08-28T00:00:00+00:00",
          "2023-08-29T00:00:00+00:00",
          "2023-08-30T00:00:00+00:00",
          "2023-08-31T00:00:00+00:00",
          "2023-09-01T00:00:00+00:00",
          "2023-09-02T00:00:00+00:00",
          "2023-09-03T00:00:00+00:00",
          "2023-09-04T00:00:00+00:00",
          "2023-09-05T00:00:00+00:00",
          "2023-09-06T00:00:00+00:00",
          "2023-09-07T00:00:00+00:00",
          "2023-09-08T00:00:00+00:00",
          "2023-09-09T00:00:00+00:00",
          "2023-09-10T00:00:00+00:00",
          "2023-09-11T00:00:00+00:00",
          "2023-09-12T00:00:00+00:00",
          "2023-09-13T00:00:00+00:00",
          "2023-09-14T00:00:00+00:00",
          "2023-09-15T00:00:00+00:00",
          "2023-09-16T00:00:00+00:00",
          "2023-09-17T00:00:00+00:00",
          "2023-09-18T00:00:00+00:00",
          "2023-09-19T00:00:00+00:00",
          "2023-09-20T00:00:00+00:00",
          "2023-09-21T00:00:00+00:00",
          "2023-09-22T00:00:00+00:00",
          "2023-09-23T00:00:00+00:00",
          "2023-09-24T00:00:00+00:00",
          "2023-09-25T00:00:00+00:00",
          "2023-09-26T00:00:00+00:00",
          "2023-09-27T00:00:00+00:00",
          "2023-09-28T00:00:00+00:00",
          "2023-09-29T00:00:00+00:00",
          "2023-09-30T00:00:00+00:00"
         ]
        }
       ],
       "layout": {
        "template": {
         "data": {
          "bar": [
           {
            "error_x": {
             "color": "#2a3f5f"
            },
            "error_y": {
             "color": "#2a3f5f"
            },
            "marker": {
             "line": {
              "color": "#E5ECF6",
              "width": 0.5
             },
             "pattern": {
              "fillmode": "overlay",
              "size": 10,
              "solidity": 0.2
             }
            },
            "type": "bar"
           }
          ],
          "barpolar": [
           {
            "marker": {
             "line": {
              "color": "#E5ECF6",
              "width": 0.5
             },
             "pattern": {
              "fillmode": "overlay",
              "size": 10,
              "solidity": 0.2
             }
            },
            "type": "barpolar"
           }
          ],
          "carpet": [
           {
            "aaxis": {
             "endlinecolor": "#2a3f5f",
             "gridcolor": "white",
             "linecolor": "white",
             "minorgridcolor": "white",
             "startlinecolor": "#2a3f5f"
            },
            "baxis": {
             "endlinecolor": "#2a3f5f",
             "gridcolor": "white",
             "linecolor": "white",
             "minorgridcolor": "white",
             "startlinecolor": "#2a3f5f"
            },
            "type": "carpet"
           }
          ],
          "choropleth": [
           {
            "colorbar": {
             "outlinewidth": 0,
             "ticks": ""
            },
            "type": "choropleth"
           }
          ],
          "contour": [
           {
            "colorbar": {
             "outlinewidth": 0,
             "ticks": ""
            },
            "colorscale": [
             [
              0,
              "#0d0887"
             ],
             [
              0.1111111111111111,
              "#46039f"
             ],
             [
              0.2222222222222222,
              "#7201a8"
             ],
             [
              0.3333333333333333,
              "#9c179e"
             ],
             [
              0.4444444444444444,
              "#bd3786"
             ],
             [
              0.5555555555555556,
              "#d8576b"
             ],
             [
              0.6666666666666666,
              "#ed7953"
             ],
             [
              0.7777777777777778,
              "#fb9f3a"
             ],
             [
              0.8888888888888888,
              "#fdca26"
             ],
             [
              1,
              "#f0f921"
             ]
            ],
            "type": "contour"
           }
          ],
          "contourcarpet": [
           {
            "colorbar": {
             "outlinewidth": 0,
             "ticks": ""
            },
            "type": "contourcarpet"
           }
          ],
          "heatmap": [
           {
            "colorbar": {
             "outlinewidth": 0,
             "ticks": ""
            },
            "colorscale": [
             [
              0,
              "#0d0887"
             ],
             [
              0.1111111111111111,
              "#46039f"
             ],
             [
              0.2222222222222222,
              "#7201a8"
             ],
             [
              0.3333333333333333,
              "#9c179e"
             ],
             [
              0.4444444444444444,
              "#bd3786"
             ],
             [
              0.5555555555555556,
              "#d8576b"
             ],
             [
              0.6666666666666666,
              "#ed7953"
             ],
             [
              0.7777777777777778,
              "#fb9f3a"
             ],
             [
              0.8888888888888888,
              "#fdca26"
             ],
             [
              1,
              "#f0f921"
             ]
            ],
            "type": "heatmap"
           }
          ],
          "heatmapgl": [
           {
            "colorbar": {
             "outlinewidth": 0,
             "ticks": ""
            },
            "colorscale": [
             [
              0,
              "#0d0887"
             ],
             [
              0.1111111111111111,
              "#46039f"
             ],
             [
              0.2222222222222222,
              "#7201a8"
             ],
             [
              0.3333333333333333,
              "#9c179e"
             ],
             [
              0.4444444444444444,
              "#bd3786"
             ],
             [
              0.5555555555555556,
              "#d8576b"
             ],
             [
              0.6666666666666666,
              "#ed7953"
             ],
             [
              0.7777777777777778,
              "#fb9f3a"
             ],
             [
              0.8888888888888888,
              "#fdca26"
             ],
             [
              1,
              "#f0f921"
             ]
            ],
            "type": "heatmapgl"
           }
          ],
          "histogram": [
           {
            "marker": {
             "pattern": {
              "fillmode": "overlay",
              "size": 10,
              "solidity": 0.2
             }
            },
            "type": "histogram"
           }
          ],
          "histogram2d": [
           {
            "colorbar": {
             "outlinewidth": 0,
             "ticks": ""
            },
            "colorscale": [
             [
              0,
              "#0d0887"
             ],
             [
              0.1111111111111111,
              "#46039f"
             ],
             [
              0.2222222222222222,
              "#7201a8"
             ],
             [
              0.3333333333333333,
              "#9c179e"
             ],
             [
              0.4444444444444444,
              "#bd3786"
             ],
             [
              0.5555555555555556,
              "#d8576b"
             ],
             [
              0.6666666666666666,
              "#ed7953"
             ],
             [
              0.7777777777777778,
              "#fb9f3a"
             ],
             [
              0.8888888888888888,
              "#fdca26"
             ],
             [
              1,
              "#f0f921"
             ]
            ],
            "type": "histogram2d"
           }
          ],
          "histogram2dcontour": [
           {
            "colorbar": {
             "outlinewidth": 0,
             "ticks": ""
            },
            "colorscale": [
             [
              0,
              "#0d0887"
             ],
             [
              0.1111111111111111,
              "#46039f"
             ],
             [
              0.2222222222222222,
              "#7201a8"
             ],
             [
              0.3333333333333333,
              "#9c179e"
             ],
             [
              0.4444444444444444,
              "#bd3786"
             ],
             [
              0.5555555555555556,
              "#d8576b"
             ],
             [
              0.6666666666666666,
              "#ed7953"
             ],
             [
              0.7777777777777778,
              "#fb9f3a"
             ],
             [
              0.8888888888888888,
              "#fdca26"
             ],
             [
              1,
              "#f0f921"
             ]
            ],
            "type": "histogram2dcontour"
           }
          ],
          "mesh3d": [
           {
            "colorbar": {
             "outlinewidth": 0,
             "ticks": ""
            },
            "type": "mesh3d"
           }
          ],
          "parcoords": [
           {
            "line": {
             "colorbar": {
              "outlinewidth": 0,
              "ticks": ""
             }
            },
            "type": "parcoords"
           }
          ],
          "pie": [
           {
            "automargin": true,
            "type": "pie"
           }
          ],
          "scatter": [
           {
            "fillpattern": {
             "fillmode": "overlay",
             "size": 10,
             "solidity": 0.2
            },
            "type": "scatter"
           }
          ],
          "scatter3d": [
           {
            "line": {
             "colorbar": {
              "outlinewidth": 0,
              "ticks": ""
             }
            },
            "marker": {
             "colorbar": {
              "outlinewidth": 0,
              "ticks": ""
             }
            },
            "type": "scatter3d"
           }
          ],
          "scattercarpet": [
           {
            "marker": {
             "colorbar": {
              "outlinewidth": 0,
              "ticks": ""
             }
            },
            "type": "scattercarpet"
           }
          ],
          "scattergeo": [
           {
            "marker": {
             "colorbar": {
              "outlinewidth": 0,
              "ticks": ""
             }
            },
            "type": "scattergeo"
           }
          ],
          "scattergl": [
           {
            "marker": {
             "colorbar": {
              "outlinewidth": 0,
              "ticks": ""
             }
            },
            "type": "scattergl"
           }
          ],
          "scattermapbox": [
           {
            "marker": {
             "colorbar": {
              "outlinewidth": 0,
              "ticks": ""
             }
            },
            "type": "scattermapbox"
           }
          ],
          "scatterpolar": [
           {
            "marker": {
             "colorbar": {
              "outlinewidth": 0,
              "ticks": ""
             }
            },
            "type": "scatterpolar"
           }
          ],
          "scatterpolargl": [
           {
            "marker": {
             "colorbar": {
              "outlinewidth": 0,
              "ticks": ""
             }
            },
            "type": "scatterpolargl"
           }
          ],
          "scatterternary": [
           {
            "marker": {
             "colorbar": {
              "outlinewidth": 0,
              "ticks": ""
             }
            },
            "type": "scatterternary"
           }
          ],
          "surface": [
           {
            "colorbar": {
             "outlinewidth": 0,
             "ticks": ""
            },
            "colorscale": [
             [
              0,
              "#0d0887"
             ],
             [
              0.1111111111111111,
              "#46039f"
             ],
             [
              0.2222222222222222,
              "#7201a8"
             ],
             [
              0.3333333333333333,
              "#9c179e"
             ],
             [
              0.4444444444444444,
              "#bd3786"
             ],
             [
              0.5555555555555556,
              "#d8576b"
             ],
             [
              0.6666666666666666,
              "#ed7953"
             ],
             [
              0.7777777777777778,
              "#fb9f3a"
             ],
             [
              0.8888888888888888,
              "#fdca26"
             ],
             [
              1,
              "#f0f921"
             ]
            ],
            "type": "surface"
           }
          ],
          "table": [
           {
            "cells": {
             "fill": {
              "color": "#EBF0F8"
             },
             "line": {
              "color": "white"
             }
            },
            "header": {
             "fill": {
              "color": "#C8D4E3"
             },
             "line": {
              "color": "white"
             }
            },
            "type": "table"
           }
          ]
         },
         "layout": {
          "annotationdefaults": {
           "arrowcolor": "#2a3f5f",
           "arrowhead": 0,
           "arrowwidth": 1
          },
          "autotypenumbers": "strict",
          "coloraxis": {
           "colorbar": {
            "outlinewidth": 0,
            "ticks": ""
           }
          },
          "colorscale": {
           "diverging": [
            [
             0,
             "#8e0152"
            ],
            [
             0.1,
             "#c51b7d"
            ],
            [
             0.2,
             "#de77ae"
            ],
            [
             0.3,
             "#f1b6da"
            ],
            [
             0.4,
             "#fde0ef"
            ],
            [
             0.5,
             "#f7f7f7"
            ],
            [
             0.6,
             "#e6f5d0"
            ],
            [
             0.7,
             "#b8e186"
            ],
            [
             0.8,
             "#7fbc41"
            ],
            [
             0.9,
             "#4d9221"
            ],
            [
             1,
             "#276419"
            ]
           ],
           "sequential": [
            [
             0,
             "#0d0887"
            ],
            [
             0.1111111111111111,
             "#46039f"
            ],
            [
             0.2222222222222222,
             "#7201a8"
            ],
            [
             0.3333333333333333,
             "#9c179e"
            ],
            [
             0.4444444444444444,
             "#bd3786"
            ],
            [
             0.5555555555555556,
             "#d8576b"
            ],
            [
             0.6666666666666666,
             "#ed7953"
            ],
            [
             0.7777777777777778,
             "#fb9f3a"
            ],
            [
             0.8888888888888888,
             "#fdca26"
            ],
            [
             1,
             "#f0f921"
            ]
           ],
           "sequentialminus": [
            [
             0,
             "#0d0887"
            ],
            [
             0.1111111111111111,
             "#46039f"
            ],
            [
             0.2222222222222222,
             "#7201a8"
            ],
            [
             0.3333333333333333,
             "#9c179e"
            ],
            [
             0.4444444444444444,
             "#bd3786"
            ],
            [
             0.5555555555555556,
             "#d8576b"
            ],
            [
             0.6666666666666666,
             "#ed7953"
            ],
            [
             0.7777777777777778,
             "#fb9f3a"
            ],
            [
             0.8888888888888888,
             "#fdca26"
            ],
            [
             1,
             "#f0f921"
            ]
           ]
          },
          "colorway": [
           "#636efa",
           "#EF553B",
           "#00cc96",
           "#ab63fa",
           "#FFA15A",
           "#19d3f3",
           "#FF6692",
           "#B6E880",
           "#FF97FF",
           "#FECB52"
          ],
          "font": {
           "color": "#2a3f5f"
          },
          "geo": {
           "bgcolor": "white",
           "lakecolor": "white",
           "landcolor": "#E5ECF6",
           "showlakes": true,
           "showland": true,
           "subunitcolor": "white"
          },
          "hoverlabel": {
           "align": "left"
          },
          "hovermode": "closest",
          "mapbox": {
           "style": "light"
          },
          "paper_bgcolor": "white",
          "plot_bgcolor": "#E5ECF6",
          "polar": {
           "angularaxis": {
            "gridcolor": "white",
            "linecolor": "white",
            "ticks": ""
           },
           "bgcolor": "#E5ECF6",
           "radialaxis": {
            "gridcolor": "white",
            "linecolor": "white",
            "ticks": ""
           }
          },
          "scene": {
           "xaxis": {
            "backgroundcolor": "#E5ECF6",
            "gridcolor": "white",
            "gridwidth": 2,
            "linecolor": "white",
            "showbackground": true,
            "ticks": "",
            "zerolinecolor": "white"
           },
           "yaxis": {
            "backgroundcolor": "#E5ECF6",
            "gridcolor": "white",
            "gridwidth": 2,
            "linecolor": "white",
            "showbackground": true,
            "ticks": "",
            "zerolinecolor": "white"
           },
           "zaxis": {
            "backgroundcolor": "#E5ECF6",
            "gridcolor": "white",
            "gridwidth": 2,
            "linecolor": "white",
            "showbackground": true,
            "ticks": "",
            "zerolinecolor": "white"
           }
          },
          "shapedefaults": {
           "line": {
            "color": "#2a3f5f"
           }
          },
          "ternary": {
           "aaxis": {
            "gridcolor": "white",
            "linecolor": "white",
            "ticks": ""
           },
           "baxis": {
            "gridcolor": "white",
            "linecolor": "white",
            "ticks": ""
           },
           "bgcolor": "#E5ECF6",
           "caxis": {
            "gridcolor": "white",
            "linecolor": "white",
            "ticks": ""
           }
          },
          "title": {
           "x": 0.05
          },
          "xaxis": {
           "automargin": true,
           "gridcolor": "white",
           "linecolor": "white",
           "ticks": "",
           "title": {
            "standoff": 15
           },
           "zerolinecolor": "white",
           "zerolinewidth": 2
          },
          "yaxis": {
           "automargin": true,
           "gridcolor": "white",
           "linecolor": "white",
           "ticks": "",
           "title": {
            "standoff": 15
           },
           "zerolinecolor": "white",
           "zerolinewidth": 2
          }
         }
        },
        "title": {
         "text": "BTC/USD"
        },
        "xaxis": {
         "title": {
          "text": "Date"
         }
        },
        "yaxis": {
         "title": {
          "text": "Closing Price (USD)"
         }
        }
       }
      },
      "text/html": [
       "<div>                            <div id=\"f07e1d87-84c8-4ae2-ab59-a9cc273e85da\" class=\"plotly-graph-div\" style=\"height:525px; width:100%;\"></div>            <script type=\"text/javascript\">                require([\"plotly\"], function(Plotly) {                    window.PLOTLYENV=window.PLOTLYENV || {};                                    if (document.getElementById(\"f07e1d87-84c8-4ae2-ab59-a9cc273e85da\")) {                    Plotly.newPlot(                        \"f07e1d87-84c8-4ae2-ab59-a9cc273e85da\",                        [{\"close\":[19312.095703125,19044.107421875,19623.580078125,20336.84375,20160.716796875,19955.443359375,19546.849609375,19416.568359375,19446.42578125,19141.484375,19051.41796875,19157.4453125,19382.904296875,19185.65625,19067.634765625,19268.09375,19550.7578125,19334.416015625,19139.53515625,19053.740234375,19172.46875,19208.189453125,19567.0078125,19345.572265625,20095.857421875,20770.44140625,20285.8359375,20595.3515625,20818.4765625,20635.603515625,20495.7734375,20485.2734375,20159.50390625,20209.98828125,21147.23046875,21282.69140625,20926.486328125,20602.81640625,18541.271484375,15880.7802734375,17586.771484375,17034.29296875,16799.185546875,16353.365234375,16618.19921875,16884.61328125,16669.439453125,16687.517578125,16697.77734375,16711.546875,16291.83203125,15787.2841796875,16189.76953125,16610.70703125,16604.46484375,16521.841796875,16464.28125,16444.626953125,16217.322265625,16444.982421875,17168.56640625,16967.1328125,17088.66015625,16908.236328125,17130.486328125,16974.826171875,17089.50390625,16848.126953125,17233.474609375,17133.15234375,17128.724609375,17104.193359375,17206.4375,17781.318359375,17815.650390625,17364.865234375,16647.484375,16795.091796875,16757.9765625,16439.6796875,16906.3046875,16817.53515625,16830.341796875,16796.953125,16847.755859375,16841.986328125,16919.8046875,16717.173828125,16552.572265625,16642.341796875,16602.5859375,16547.49609375,16625.080078125,16688.470703125,16679.857421875,16863.23828125,16836.736328125,16951.96875,16955.078125,17091.14453125,17196.5546875,17446.29296875,17934.896484375,18869.587890625,19909.57421875,20976.298828125,20880.798828125,21169.6328125,21161.51953125,20688.78125,21086.79296875,22676.552734375,22777.625,22720.416015625,22934.431640625,22636.46875,23117.859375,23032.77734375,23078.728515625,23031.08984375,23774.56640625,22840.138671875,23139.283203125,23723.76953125,23471.87109375,23449.322265625,23331.84765625,22955.666015625,22760.109375,23264.291015625,22939.3984375,21819.0390625,21651.18359375,21870.875,21788.203125,21808.1015625,22220.8046875,24307.841796875,23623.474609375,24565.6015625,24641.27734375,24327.642578125,24829.1484375,24436.353515625,24188.84375,23947.4921875,23198.126953125,23175.375,23561.212890625,23522.87109375,23147.353515625,23646.55078125,23475.466796875,22362.6796875,22353.349609375,22435.513671875,22429.7578125,22219.76953125,21718.080078125,20363.021484375,20187.244140625,20632.41015625,22163.94921875,24197.533203125,24746.07421875,24375.9609375,25052.7890625,27423.9296875,26965.87890625,28038.67578125,27767.236328125,28175.81640625,27307.4375,28333.97265625,27493.28515625,27494.70703125,27994.330078125,27139.888671875,27268.130859375,28348.44140625,28033.5625,28478.484375,28411.03515625,28199.30859375,27790.220703125,28168.08984375,28177.984375,28044.140625,27925.859375,27947.794921875,28333.05078125,29652.98046875,30235.05859375,30139.052734375,30399.06640625,30485.69921875,30318.49609375,30315.35546875,29445.044921875,30397.552734375,28822.6796875,28245.98828125,27276.91015625,27817.5,27591.384765625,27525.33984375,28307.59765625,28422.701171875,29473.787109375,29340.26171875,29248.48828125,29268.806640625,28091.568359375,28680.537109375,29006.30859375,28847.7109375,29534.384765625,28904.623046875,28454.978515625,27694.2734375,27658.775390625,27621.755859375,27000.7890625,26804.990234375,26784.078125,26930.638671875,27192.693359375,27036.650390625,27398.802734375,26832.208984375,26890.12890625,27129.5859375,26753.826171875,26851.27734375,27225.7265625,26334.818359375,26476.20703125,26719.291015625,26868.353515625,28085.646484375,27745.884765625,27702.349609375,27219.658203125,26819.97265625,27249.58984375,27075.12890625,27119.06640625,25760.09765625,27238.783203125,26345.998046875,26508.216796875,26480.375,25851.240234375,25940.16796875,25902.5,25918.728515625,25124.67578125,25576.39453125,26327.462890625,26510.67578125,26336.212890625,26851.029296875,28327.48828125,30027.296875,29912.28125,30695.46875,30548.6953125,30480.26171875,30271.130859375,30688.1640625,30086.24609375,30445.3515625,30477.251953125,30590.078125,30620.76953125,31156.439453125,30777.58203125,30514.166015625,29909.337890625,30342.265625,30292.541015625,30171.234375,30414.470703125,30620.951171875,30391.646484375,31476.048828125,30334.068359375,30295.806640625,30249.1328125,30145.888671875,29856.5625,29913.923828125,29792.015625,29908.744140625,29771.802734375,30084.5390625,29176.916015625,29227.390625,29354.97265625,29210.689453125,29319.24609375,29356.91796875,29275.30859375,29230.111328125,29675.732421875,29151.958984375,29178.6796875,29074.091796875,29042.126953125,29041.85546875,29180.578125,29765.4921875,29561.494140625,29429.591796875,29397.71484375,29415.96484375,29282.9140625,29408.443359375,29170.34765625,28701.779296875,26664.55078125,26049.556640625,26096.205078125,26189.583984375,26124.140625,26031.65625,26431.640625,26162.373046875,26047.66796875,26008.462890625,26089.693359375,26106.150390625,27727.392578125,27297.265625,25931.47265625,25800.724609375,25868.798828125,25969.56640625,25812.416015625,25779.982421875,25753.236328125,26240.1953125,25905.654296875,25895.677734375,25832.2265625,25162.654296875,25833.34375,26228.32421875,26539.673828125,26608.693359375,26568.28125,26534.1875,26754.28125,27211.1171875,27132.0078125,26567.6328125,26579.568359375,26579.390625,26256.826171875,26298.48046875,26217.25,26352.716796875,27021.546875,26911.720703125,26967.916015625],\"high\":[19471.154296875,19370.30859375,19653.54296875,20380.34375,20343.748046875,20408.392578125,20041.0859375,19601.6953125,19542.5390625,19515.466796875,19241.9609375,19203.19921875,19453.328125,19889.146484375,19212.541015625,19389.603515625,19635.802734375,19666.994140625,19348.416015625,19315.19921875,19237.384765625,19248.068359375,19646.65234375,19589.125,20348.412109375,20938.134765625,20854.044921875,20724.98046875,20988.39453125,20917.005859375,20795.3203125,20647.2890625,20742.810546875,20382.095703125,21209.560546875,21446.88671875,21345.376953125,21053.24609375,20664.607421875,18590.458984375,18054.3125,17650.943359375,17066.67578125,16920.765625,17109.32421875,17051.962890625,16960.294921875,16726.439453125,16947.05859375,16797.876953125,16746.779296875,16291.2236328125,16253.0478515625,16638.193359375,16771.474609375,16603.31640625,16666.86328125,16594.40625,16482.93359375,16522.2578125,17190.9375,17197.498046875,17088.66015625,17116.041015625,17157.767578125,17378.15234375,17091.86328125,17109.376953125,17267.916015625,17280.546875,17216.826171875,17245.634765625,17212.564453125,17930.0859375,18318.53125,17846.744140625,17505.525390625,16800.58984375,16815.38671875,16807.52734375,17012.984375,16916.80078125,16866.673828125,16905.21875,16864.703125,16860.5546875,16920.123046875,16959.845703125,16768.169921875,16651.755859375,16643.427734375,16628.986328125,16630.439453125,16759.34375,16760.447265625,16964.5859375,16884.021484375,16991.994140625,16975.017578125,17091.14453125,17389.95703125,17484.720703125,17934.896484375,19030.087890625,19964.322265625,21075.142578125,20993.748046875,21360.875,21438.66015625,21564.501953125,21163.01171875,22692.357421875,23282.34765625,23056.73046875,23126.486328125,23134.01171875,23722.099609375,23237.078125,23417.720703125,23165.896484375,23919.890625,23789.34765625,23225.021484375,23764.5390625,24167.2109375,23678.103515625,23556.94921875,23423.435546875,23119.279296875,23310.974609375,23367.958984375,22996.4375,21941.185546875,21891.41015625,22060.994140625,21898.4140625,22293.140625,24307.841796875,25134.1171875,24924.041015625,24798.8359375,25093.0546875,25020.458984375,25126.8515625,24472.33984375,24572.08984375,24103.705078125,23210.2109375,23654.3671875,23857.890625,23585.384765625,23880.6328125,23739.138671875,23479.34765625,22405.177734375,22613.685546875,22584.29296875,22527.41796875,22268.896484375,21802.716796875,20370.595703125,20792.525390625,22185.03125,24550.837890625,26514.716796875,25240.615234375,25190.326171875,27787.8125,27725.953125,28440.560546875,28527.724609375,28439.5625,28803.3359375,28729.84375,28388.4375,27791.826171875,28178.14453125,28037.92578125,27460.71875,28619.54296875,29159.90234375,28639.896484375,28802.45703125,28518.958984375,28475.623046875,28433.7421875,28739.23828125,28178.384765625,28111.59375,28159.86328125,28532.830078125,29771.46484375,30509.083984375,30462.48046875,30539.845703125,31005.607421875,30601.740234375,30555.537109375,30319.197265625,30470.302734375,30411.0546875,29076.400390625,28349.96875,27872.142578125,27820.244140625,27979.982421875,28371.078125,29995.837890625,29871.546875,29572.791015625,29452.455078125,29952.029296875,29329.935546875,28881.298828125,29259.533203125,29353.185546875,29668.908203125,29820.126953125,29157.517578125,28663.271484375,27821.400390625,28322.6875,27621.94140625,27055.646484375,27030.482421875,27150.9765625,27646.34765625,27299.3046875,27465.927734375,27466.52734375,27128.619140625,27155.158203125,27265.91796875,27045.734375,27434.68359375,27224.603515625,26591.51953125,26916.669921875,26888.8828125,28193.44921875,28432.0390625,28044.759765625,27831.677734375,27346.10546875,27303.861328125,27317.052734375,27407.01953125,27129.982421875,27313.8203125,27332.181640625,26797.513671875,26770.2890625,26531.044921875,26203.439453125,26087.919921875,26376.3515625,26041.80078125,25735.30859375,26463.173828125,26769.39453125,26675.92578125,26984.611328125,28388.96875,30737.330078125,30495.998046875,31389.5390625,30804.1484375,31041.271484375,30636.029296875,31006.787109375,30703.279296875,30796.25,31256.86328125,30641.2890625,30766.140625,31375.61328125,31325.197265625,30877.330078125,31460.052734375,30434.64453125,30374.4375,30427.58984375,31026.083984375,30788.314453125,30959.96484375,31814.515625,31582.25390625,30407.78125,30437.560546875,30336.400390625,30233.65625,30184.181640625,30195.53125,30045.998046875,29991.615234375,30330.640625,30093.39453125,29353.16015625,29675.552734375,29560.966796875,29521.513671875,29396.84375,29443.169921875,29489.873046875,29675.732421875,29987.998046875,29375.70703125,29302.078125,29102.46484375,29160.822265625,29244.28125,30176.796875,30093.435546875,29688.564453125,29517.7734375,29465.11328125,29441.43359375,29660.25390625,29439.12109375,29221.9765625,28745.947265625,26808.1953125,26249.44921875,26260.681640625,26220.201171875,26135.5078125,26786.8984375,26554.91015625,26248.103515625,26107.384765625,26165.373046875,26198.578125,28089.337890625,27760.16015625,27456.078125,26125.869140625,25970.28515625,26087.1484375,26081.525390625,25858.375,25953.015625,26409.302734375,26414.005859375,25921.9765625,25978.130859375,25883.947265625,26451.939453125,26376.11328125,26774.623046875,26840.498046875,26754.76953125,26617.998046875,27414.734375,27488.763671875,27379.505859375,27152.939453125,26726.078125,26634.185546875,26716.05859375,26421.5078125,26389.884765625,26817.841796875,27259.5,27225.9375,27091.794921875],\"low\":[19231.08203125,18970.62109375,19025.2265625,19523.83984375,19801.80078125,19900.087890625,19395.79296875,19299.4140625,19349.259765625,19102.978515625,18925.603515625,19029.7578125,18319.822265625,19115.408203125,19019.25,19068.9140625,19173.333984375,19144.76953125,19127.6875,18971.458984375,18770.970703125,19132.244140625,19124.197265625,19206.32421875,19261.447265625,20076.1171875,20255.373046875,20086.068359375,20566.484375,20547.462890625,20287.458984375,20359.845703125,20087.134765625,20086.240234375,20188.01953125,21097.634765625,20920.19140625,20489.97265625,17603.544921875,15682.6923828125,15834.0185546875,16543.482421875,16651.775390625,16320.634765625,15872.94140625,16542.55078125,16430.111328125,16460.68359375,16564.611328125,16570.41015625,16248.6923828125,15599.046875,15656.6064453125,16170.5029296875,16501.767578125,16388.404296875,16416.228515625,16437.025390625,16054.5302734375,16139.396484375,16445.4765625,16888.388671875,16877.880859375,16888.140625,16903.439453125,16922.431640625,16939.921875,16750.55859375,16788.783203125,17100.8359375,17120.68359375,17091.8203125,16899.39453125,17111.763671875,17739.513671875,17322.58984375,16584.701171875,16614.029296875,16697.8203125,16398.13671875,16427.8671875,16755.912109375,16592.408203125,16794.458984375,16793.52734375,16755.25390625,16812.369140625,16642.072265625,16497.556640625,16508.68359375,16408.474609375,16517.51953125,16521.234375,16572.228515625,16622.37109375,16667.763671875,16790.283203125,16716.421875,16914.19140625,16924.05078125,17093.9921875,17162.990234375,17337.994140625,17995.203125,18753.1640625,19907.828125,20606.986328125,20715.74609375,20978.533203125,20541.544921875,20685.380859375,20919.126953125,22511.833984375,22387.900390625,22654.3046875,22549.744140625,22406.076171875,22911.373046875,22654.59375,22908.845703125,22985.0703125,22657.58203125,22765.568359375,22877.75,23468.595703125,23279.955078125,23291.794921875,22841.759765625,22692.025390625,22756.2578125,22731.09765625,21773.974609375,21539.392578125,21618.44921875,21682.828125,21460.087890625,21632.39453125,22082.76953125,23602.5234375,23460.755859375,24468.373046875,24327.642578125,23927.91015625,24200.36328125,23644.318359375,23693.919921875,23007.072265625,22861.55859375,23084.220703125,23205.87890625,23077.650390625,23088.626953125,23245.021484375,22213.23828125,22198.98046875,22307.142578125,22331.314453125,22011.26171875,21708.05078125,20210.306640625,19628.25390625,20068.66015625,20448.806640625,21918.19921875,24081.18359375,23964.91015625,24225.111328125,24955.169921875,26636.26171875,26907.716796875,27242.880859375,27439.646484375,26759.99609375,27183.36328125,27039.265625,27196.234375,27445.046875,26606.689453125,26677.818359375,27259.662109375,27720.16015625,27583.71484375,28297.171875,27884.087890625,27276.720703125,27681.3046875,27843.763671875,27738.759765625,27794.03125,27883.38671875,27828.48046875,28189.271484375,29609.30078125,29725.57421875,29878.623046875,30044.498046875,30245.8828125,30157.83203125,29275.37109375,29154.849609375,28669.8984375,28037.2578125,27177.365234375,27169.5703125,27400.314453125,27070.849609375,27207.931640625,27324.548828125,28402.88671875,28929.609375,29088.04296875,29114.021484375,27680.79296875,27924.123046875,28178.388671875,28694.0390625,28845.509765625,28468.966796875,28441.3671875,27310.134765625,27375.6015625,26883.669921875,26781.826171875,25878.4296875,26710.873046875,26661.35546875,26766.09765625,26878.947265625,26600.14453125,26415.1015625,26700.2109375,26843.27734375,26706.921875,26549.734375,26816.1796875,26106.576171875,25890.59375,26343.94921875,26621.140625,26802.751953125,27563.876953125,27588.501953125,26866.453125,26671.720703125,26574.64453125,26958.00390625,26968.224609375,25445.16796875,25434.8671875,26146.98828125,26246.6640625,26339.314453125,25501.8359375,25668.986328125,25675.197265625,25728.365234375,24902.15234375,24797.16796875,25245.357421875,26174.4921875,26325.890625,26312.83203125,26668.791015625,28283.41015625,29679.158203125,29845.21484375,30290.146484375,30327.943359375,29955.744140625,30236.650390625,29921.822265625,30057.203125,29600.275390625,30328.865234375,30264.01953125,30586.513671875,30659.35546875,30225.61328125,29892.2265625,29777.28515625,30080.16015625,30085.591796875,29985.39453125,30358.09765625,30228.8359375,30268.3515625,29966.38671875,30263.462890625,30089.669921875,29685.783203125,29556.427734375,29794.26953125,29638.095703125,29733.8515625,29664.12109375,29741.52734375,28934.294921875,29062.43359375,29113.912109375,29099.3515625,29125.845703125,29264.166015625,29059.501953125,29131.578125,28657.0234375,28946.509765625,28959.48828125,28885.3359375,28957.796875,28963.833984375,28724.140625,29113.814453125,29376.80078125,29354.447265625,29253.517578125,29357.587890625,29265.806640625,29124.10546875,29088.853515625,28701.779296875,25409.111328125,25668.921875,25802.408203125,26004.314453125,25846.087890625,25520.728515625,25804.998046875,25914.92578125,25786.8125,25983.87890625,25965.09765625,25880.599609375,25912.62890625,27069.20703125,25752.9296875,25362.609375,25753.09375,25817.03125,25657.025390625,25589.98828125,25404.359375,25608.201171875,25677.48046875,25810.494140625,25640.26171875,24930.296875,25133.078125,25781.123046875,26171.451171875,26240.701171875,26473.890625,26445.07421875,26415.515625,26681.60546875,26864.08203125,26389.30078125,26495.533203125,26520.51953125,26221.05078125,26011.46875,26090.712890625,26111.46484375,26327.322265625,26721.763671875,26888.96875],\"open\":[19431.10546875,19311.849609375,19044.068359375,19623.583984375,20335.900390625,20161.0390625,19957.55859375,19546.328125,19417.478515625,19446.416015625,19139.0,19052.646484375,19156.966796875,19382.533203125,19185.4375,19068.9140625,19268.5625,19550.466796875,19335.02734375,19138.0859375,19053.203125,19172.380859375,19207.734375,19567.76953125,19344.96484375,20092.236328125,20772.802734375,20287.95703125,20595.103515625,20817.982421875,20633.6953125,20494.8984375,20482.958984375,20162.689453125,20208.76953125,21144.83203125,21285.056640625,20924.62109375,20600.671875,18543.76171875,15883.158203125,17583.251953125,17036.875,16799.72265625,16352.0283203125,16617.484375,16884.341796875,16670.42578125,16687.912109375,16696.220703125,16712.919921875,16291.2236328125,15782.30078125,16195.5888671875,16611.63671875,16602.26953125,16521.576171875,16463.8828125,16440.22265625,16217.6396484375,16445.4765625,17168.001953125,16968.68359375,17090.09765625,16908.169921875,17128.89453125,16975.23828125,17089.505859375,16847.349609375,17232.1484375,17134.220703125,17129.7109375,17102.5,17206.44140625,17782.06640625,17813.64453125,17364.546875,16646.982421875,16795.609375,16759.041015625,16441.787109375,16904.52734375,16818.380859375,16829.64453125,16796.9765625,16847.505859375,16842.25,16919.291015625,16716.400390625,16552.322265625,16641.330078125,16603.673828125,16547.9140625,16625.509765625,16688.84765625,16680.205078125,16863.47265625,16836.47265625,16952.1171875,16954.146484375,17093.9921875,17192.94921875,17446.359375,18117.59375,18868.90625,19910.537109375,20977.484375,20882.224609375,21175.833984375,21161.05078125,20686.74609375,21085.373046875,22677.427734375,22777.986328125,22721.087890625,22929.626953125,22639.267578125,23108.955078125,23030.716796875,23079.96484375,23031.44921875,23774.6484375,22840.796875,23137.8359375,23720.82421875,23469.412109375,23446.3203125,23332.248046875,22954.021484375,22757.267578125,23263.416015625,22946.56640625,21819.005859375,21651.841796875,21870.90234375,21787.0,21801.822265625,22220.5859375,24307.349609375,23621.283203125,24565.296875,24640.02734375,24336.623046875,24833.048828125,24437.41796875,24190.71875,23946.0078125,23200.125,23174.150390625,23561.451171875,23521.837890625,23150.9296875,23647.01953125,23476.6328125,22362.923828125,22354.14453125,22436.81640625,22428.322265625,22216.44140625,21720.080078125,20367.001953125,20187.876953125,20628.029296875,22156.40625,24201.765625,24770.92578125,24373.45703125,25055.123046875,27448.1171875,26969.50390625,28041.6015625,27768.392578125,28158.720703125,27301.95703125,28324.111328125,27487.337890625,27495.5234375,27994.068359375,27132.888671875,27267.03125,28350.140625,28032.26171875,28473.33203125,28462.845703125,28183.080078125,27795.2734375,28169.7265625,28175.2265625,28038.966796875,27920.513671875,27952.3671875,28336.02734375,29653.6796875,30231.58203125,29892.740234375,30409.5625,30490.75,30315.9765625,30317.146484375,29449.091796875,30394.1875,28823.68359375,28249.23046875,27265.89453125,27816.14453125,27591.73046875,27514.873046875,28300.05859375,28428.46484375,29481.013671875,29336.56640625,29245.515625,29227.103515625,28087.17578125,28680.494140625,29031.3046875,28851.48046875,29538.859375,28901.623046875,28450.45703125,27695.068359375,27654.63671875,27621.0859375,26987.662109375,26807.76953125,26788.974609375,26931.384765625,27171.513671875,27035.470703125,27401.650390625,26826.75390625,26888.841796875,27118.423828125,26749.892578125,26855.9609375,27224.603515625,26329.4609375,26474.181640625,26720.181640625,26871.158203125,28075.591796875,27745.123046875,27700.529296875,27218.412109375,26824.556640625,27252.32421875,27075.123046875,27123.109375,25732.109375,27235.650390625,26347.654296875,26505.923828125,26481.76171875,25854.03125,25934.28515625,25902.94140625,25920.2578125,25121.673828125,25575.283203125,26328.6796875,26510.45703125,26335.44140625,26841.6640625,28311.310546875,29995.935546875,29896.3828125,30708.73828125,30545.150390625,30480.5234375,30274.3203125,30696.560546875,30086.1875,30441.353515625,30471.84765625,30587.26953125,30624.515625,31156.865234375,30778.724609375,30507.150390625,29907.998046875,30346.921875,30291.611328125,30172.423828125,30417.6328125,30622.24609375,30387.48828125,31474.720703125,30331.783203125,30297.47265625,30249.626953125,30147.0703125,29862.046875,29915.25,29805.111328125,29908.697265625,29790.111328125,30081.662109375,29178.970703125,29225.759765625,29353.798828125,29212.1640625,29319.4453125,29357.09375,29278.314453125,29230.873046875,29704.146484375,29161.8125,29174.3828125,29075.388671875,29043.701171875,29038.513671875,29180.01953125,29766.6953125,29563.97265625,29424.90234375,29399.787109375,29416.59375,29283.263671875,29408.048828125,29169.07421875,28699.802734375,26636.078125,26047.83203125,26096.861328125,26188.69140625,26130.748046875,26040.474609375,26431.51953125,26163.6796875,26047.234375,26008.2421875,26089.615234375,26102.486328125,27726.083984375,27301.9296875,25934.021484375,25800.91015625,25869.47265625,25968.169921875,25814.95703125,25783.931640625,25748.3125,26245.208984375,25905.42578125,25895.2109375,25831.71484375,25160.658203125,25837.5546875,26228.27734375,26533.818359375,26606.19921875,26567.927734375,26532.994140625,26760.8515625,27210.228515625,27129.83984375,26564.056640625,26578.556640625,26579.373046875,26253.775390625,26294.7578125,26209.498046875,26355.8125,27024.841796875,26911.689453125],\"x\":[\"2022-10-01T00:00:00+00:00\",\"2022-10-02T00:00:00+00:00\",\"2022-10-03T00:00:00+00:00\",\"2022-10-04T00:00:00+00:00\",\"2022-10-05T00:00:00+00:00\",\"2022-10-06T00:00:00+00:00\",\"2022-10-07T00:00:00+00:00\",\"2022-10-08T00:00:00+00:00\",\"2022-10-09T00:00:00+00:00\",\"2022-10-10T00:00:00+00:00\",\"2022-10-11T00:00:00+00:00\",\"2022-10-12T00:00:00+00:00\",\"2022-10-13T00:00:00+00:00\",\"2022-10-14T00:00:00+00:00\",\"2022-10-15T00:00:00+00:00\",\"2022-10-16T00:00:00+00:00\",\"2022-10-17T00:00:00+00:00\",\"2022-10-18T00:00:00+00:00\",\"2022-10-19T00:00:00+00:00\",\"2022-10-20T00:00:00+00:00\",\"2022-10-21T00:00:00+00:00\",\"2022-10-22T00:00:00+00:00\",\"2022-10-23T00:00:00+00:00\",\"2022-10-24T00:00:00+00:00\",\"2022-10-25T00:00:00+00:00\",\"2022-10-26T00:00:00+00:00\",\"2022-10-27T00:00:00+00:00\",\"2022-10-28T00:00:00+00:00\",\"2022-10-29T00:00:00+00:00\",\"2022-10-30T00:00:00+00:00\",\"2022-10-31T00:00:00+00:00\",\"2022-11-01T00:00:00+00:00\",\"2022-11-02T00:00:00+00:00\",\"2022-11-03T00:00:00+00:00\",\"2022-11-04T00:00:00+00:00\",\"2022-11-05T00:00:00+00:00\",\"2022-11-06T00:00:00+00:00\",\"2022-11-07T00:00:00+00:00\",\"2022-11-08T00:00:00+00:00\",\"2022-11-09T00:00:00+00:00\",\"2022-11-10T00:00:00+00:00\",\"2022-11-11T00:00:00+00:00\",\"2022-11-12T00:00:00+00:00\",\"2022-11-13T00:00:00+00:00\",\"2022-11-14T00:00:00+00:00\",\"2022-11-15T00:00:00+00:00\",\"2022-11-16T00:00:00+00:00\",\"2022-11-17T00:00:00+00:00\",\"2022-11-18T00:00:00+00:00\",\"2022-11-19T00:00:00+00:00\",\"2022-11-20T00:00:00+00:00\",\"2022-11-21T00:00:00+00:00\",\"2022-11-22T00:00:00+00:00\",\"2022-11-23T00:00:00+00:00\",\"2022-11-24T00:00:00+00:00\",\"2022-11-25T00:00:00+00:00\",\"2022-11-26T00:00:00+00:00\",\"2022-11-27T00:00:00+00:00\",\"2022-11-28T00:00:00+00:00\",\"2022-11-29T00:00:00+00:00\",\"2022-11-30T00:00:00+00:00\",\"2022-12-01T00:00:00+00:00\",\"2022-12-02T00:00:00+00:00\",\"2022-12-03T00:00:00+00:00\",\"2022-12-04T00:00:00+00:00\",\"2022-12-05T00:00:00+00:00\",\"2022-12-06T00:00:00+00:00\",\"2022-12-07T00:00:00+00:00\",\"2022-12-08T00:00:00+00:00\",\"2022-12-09T00:00:00+00:00\",\"2022-12-10T00:00:00+00:00\",\"2022-12-11T00:00:00+00:00\",\"2022-12-12T00:00:00+00:00\",\"2022-12-13T00:00:00+00:00\",\"2022-12-14T00:00:00+00:00\",\"2022-12-15T00:00:00+00:00\",\"2022-12-16T00:00:00+00:00\",\"2022-12-17T00:00:00+00:00\",\"2022-12-18T00:00:00+00:00\",\"2022-12-19T00:00:00+00:00\",\"2022-12-20T00:00:00+00:00\",\"2022-12-21T00:00:00+00:00\",\"2022-12-22T00:00:00+00:00\",\"2022-12-23T00:00:00+00:00\",\"2022-12-24T00:00:00+00:00\",\"2022-12-25T00:00:00+00:00\",\"2022-12-26T00:00:00+00:00\",\"2022-12-27T00:00:00+00:00\",\"2022-12-28T00:00:00+00:00\",\"2022-12-29T00:00:00+00:00\",\"2022-12-30T00:00:00+00:00\",\"2022-12-31T00:00:00+00:00\",\"2023-01-01T00:00:00+00:00\",\"2023-01-02T00:00:00+00:00\",\"2023-01-03T00:00:00+00:00\",\"2023-01-04T00:00:00+00:00\",\"2023-01-05T00:00:00+00:00\",\"2023-01-06T00:00:00+00:00\",\"2023-01-07T00:00:00+00:00\",\"2023-01-08T00:00:00+00:00\",\"2023-01-09T00:00:00+00:00\",\"2023-01-10T00:00:00+00:00\",\"2023-01-11T00:00:00+00:00\",\"2023-01-12T00:00:00+00:00\",\"2023-01-13T00:00:00+00:00\",\"2023-01-14T00:00:00+00:00\",\"2023-01-15T00:00:00+00:00\",\"2023-01-16T00:00:00+00:00\",\"2023-01-17T00:00:00+00:00\",\"2023-01-18T00:00:00+00:00\",\"2023-01-19T00:00:00+00:00\",\"2023-01-20T00:00:00+00:00\",\"2023-01-21T00:00:00+00:00\",\"2023-01-22T00:00:00+00:00\",\"2023-01-23T00:00:00+00:00\",\"2023-01-24T00:00:00+00:00\",\"2023-01-25T00:00:00+00:00\",\"2023-01-26T00:00:00+00:00\",\"2023-01-27T00:00:00+00:00\",\"2023-01-28T00:00:00+00:00\",\"2023-01-29T00:00:00+00:00\",\"2023-01-30T00:00:00+00:00\",\"2023-01-31T00:00:00+00:00\",\"2023-02-01T00:00:00+00:00\",\"2023-02-02T00:00:00+00:00\",\"2023-02-03T00:00:00+00:00\",\"2023-02-04T00:00:00+00:00\",\"2023-02-05T00:00:00+00:00\",\"2023-02-06T00:00:00+00:00\",\"2023-02-07T00:00:00+00:00\",\"2023-02-08T00:00:00+00:00\",\"2023-02-09T00:00:00+00:00\",\"2023-02-10T00:00:00+00:00\",\"2023-02-11T00:00:00+00:00\",\"2023-02-12T00:00:00+00:00\",\"2023-02-13T00:00:00+00:00\",\"2023-02-14T00:00:00+00:00\",\"2023-02-15T00:00:00+00:00\",\"2023-02-16T00:00:00+00:00\",\"2023-02-17T00:00:00+00:00\",\"2023-02-18T00:00:00+00:00\",\"2023-02-19T00:00:00+00:00\",\"2023-02-20T00:00:00+00:00\",\"2023-02-21T00:00:00+00:00\",\"2023-02-22T00:00:00+00:00\",\"2023-02-23T00:00:00+00:00\",\"2023-02-24T00:00:00+00:00\",\"2023-02-25T00:00:00+00:00\",\"2023-02-26T00:00:00+00:00\",\"2023-02-27T00:00:00+00:00\",\"2023-02-28T00:00:00+00:00\",\"2023-03-01T00:00:00+00:00\",\"2023-03-02T00:00:00+00:00\",\"2023-03-03T00:00:00+00:00\",\"2023-03-04T00:00:00+00:00\",\"2023-03-05T00:00:00+00:00\",\"2023-03-06T00:00:00+00:00\",\"2023-03-07T00:00:00+00:00\",\"2023-03-08T00:00:00+00:00\",\"2023-03-09T00:00:00+00:00\",\"2023-03-10T00:00:00+00:00\",\"2023-03-11T00:00:00+00:00\",\"2023-03-12T00:00:00+00:00\",\"2023-03-13T00:00:00+00:00\",\"2023-03-14T00:00:00+00:00\",\"2023-03-15T00:00:00+00:00\",\"2023-03-16T00:00:00+00:00\",\"2023-03-17T00:00:00+00:00\",\"2023-03-18T00:00:00+00:00\",\"2023-03-19T00:00:00+00:00\",\"2023-03-20T00:00:00+00:00\",\"2023-03-21T00:00:00+00:00\",\"2023-03-22T00:00:00+00:00\",\"2023-03-23T00:00:00+00:00\",\"2023-03-24T00:00:00+00:00\",\"2023-03-25T00:00:00+00:00\",\"2023-03-26T00:00:00+00:00\",\"2023-03-27T00:00:00+00:00\",\"2023-03-28T00:00:00+00:00\",\"2023-03-29T00:00:00+00:00\",\"2023-03-30T00:00:00+00:00\",\"2023-03-31T00:00:00+00:00\",\"2023-04-01T00:00:00+00:00\",\"2023-04-02T00:00:00+00:00\",\"2023-04-03T00:00:00+00:00\",\"2023-04-04T00:00:00+00:00\",\"2023-04-05T00:00:00+00:00\",\"2023-04-06T00:00:00+00:00\",\"2023-04-07T00:00:00+00:00\",\"2023-04-08T00:00:00+00:00\",\"2023-04-09T00:00:00+00:00\",\"2023-04-10T00:00:00+00:00\",\"2023-04-11T00:00:00+00:00\",\"2023-04-12T00:00:00+00:00\",\"2023-04-13T00:00:00+00:00\",\"2023-04-14T00:00:00+00:00\",\"2023-04-15T00:00:00+00:00\",\"2023-04-16T00:00:00+00:00\",\"2023-04-17T00:00:00+00:00\",\"2023-04-18T00:00:00+00:00\",\"2023-04-19T00:00:00+00:00\",\"2023-04-20T00:00:00+00:00\",\"2023-04-21T00:00:00+00:00\",\"2023-04-22T00:00:00+00:00\",\"2023-04-23T00:00:00+00:00\",\"2023-04-24T00:00:00+00:00\",\"2023-04-25T00:00:00+00:00\",\"2023-04-26T00:00:00+00:00\",\"2023-04-27T00:00:00+00:00\",\"2023-04-28T00:00:00+00:00\",\"2023-04-29T00:00:00+00:00\",\"2023-04-30T00:00:00+00:00\",\"2023-05-01T00:00:00+00:00\",\"2023-05-02T00:00:00+00:00\",\"2023-05-03T00:00:00+00:00\",\"2023-05-04T00:00:00+00:00\",\"2023-05-05T00:00:00+00:00\",\"2023-05-06T00:00:00+00:00\",\"2023-05-07T00:00:00+00:00\",\"2023-05-08T00:00:00+00:00\",\"2023-05-09T00:00:00+00:00\",\"2023-05-10T00:00:00+00:00\",\"2023-05-11T00:00:00+00:00\",\"2023-05-12T00:00:00+00:00\",\"2023-05-13T00:00:00+00:00\",\"2023-05-14T00:00:00+00:00\",\"2023-05-15T00:00:00+00:00\",\"2023-05-16T00:00:00+00:00\",\"2023-05-17T00:00:00+00:00\",\"2023-05-18T00:00:00+00:00\",\"2023-05-19T00:00:00+00:00\",\"2023-05-20T00:00:00+00:00\",\"2023-05-21T00:00:00+00:00\",\"2023-05-22T00:00:00+00:00\",\"2023-05-23T00:00:00+00:00\",\"2023-05-24T00:00:00+00:00\",\"2023-05-25T00:00:00+00:00\",\"2023-05-26T00:00:00+00:00\",\"2023-05-27T00:00:00+00:00\",\"2023-05-28T00:00:00+00:00\",\"2023-05-29T00:00:00+00:00\",\"2023-05-30T00:00:00+00:00\",\"2023-05-31T00:00:00+00:00\",\"2023-06-01T00:00:00+00:00\",\"2023-06-02T00:00:00+00:00\",\"2023-06-03T00:00:00+00:00\",\"2023-06-04T00:00:00+00:00\",\"2023-06-05T00:00:00+00:00\",\"2023-06-06T00:00:00+00:00\",\"2023-06-07T00:00:00+00:00\",\"2023-06-08T00:00:00+00:00\",\"2023-06-09T00:00:00+00:00\",\"2023-06-10T00:00:00+00:00\",\"2023-06-11T00:00:00+00:00\",\"2023-06-12T00:00:00+00:00\",\"2023-06-13T00:00:00+00:00\",\"2023-06-14T00:00:00+00:00\",\"2023-06-15T00:00:00+00:00\",\"2023-06-16T00:00:00+00:00\",\"2023-06-17T00:00:00+00:00\",\"2023-06-18T00:00:00+00:00\",\"2023-06-19T00:00:00+00:00\",\"2023-06-20T00:00:00+00:00\",\"2023-06-21T00:00:00+00:00\",\"2023-06-22T00:00:00+00:00\",\"2023-06-23T00:00:00+00:00\",\"2023-06-24T00:00:00+00:00\",\"2023-06-25T00:00:00+00:00\",\"2023-06-26T00:00:00+00:00\",\"2023-06-27T00:00:00+00:00\",\"2023-06-28T00:00:00+00:00\",\"2023-06-29T00:00:00+00:00\",\"2023-06-30T00:00:00+00:00\",\"2023-07-01T00:00:00+00:00\",\"2023-07-02T00:00:00+00:00\",\"2023-07-03T00:00:00+00:00\",\"2023-07-04T00:00:00+00:00\",\"2023-07-05T00:00:00+00:00\",\"2023-07-06T00:00:00+00:00\",\"2023-07-07T00:00:00+00:00\",\"2023-07-08T00:00:00+00:00\",\"2023-07-09T00:00:00+00:00\",\"2023-07-10T00:00:00+00:00\",\"2023-07-11T00:00:00+00:00\",\"2023-07-12T00:00:00+00:00\",\"2023-07-13T00:00:00+00:00\",\"2023-07-14T00:00:00+00:00\",\"2023-07-15T00:00:00+00:00\",\"2023-07-16T00:00:00+00:00\",\"2023-07-17T00:00:00+00:00\",\"2023-07-18T00:00:00+00:00\",\"2023-07-19T00:00:00+00:00\",\"2023-07-20T00:00:00+00:00\",\"2023-07-21T00:00:00+00:00\",\"2023-07-22T00:00:00+00:00\",\"2023-07-23T00:00:00+00:00\",\"2023-07-24T00:00:00+00:00\",\"2023-07-25T00:00:00+00:00\",\"2023-07-26T00:00:00+00:00\",\"2023-07-27T00:00:00+00:00\",\"2023-07-28T00:00:00+00:00\",\"2023-07-29T00:00:00+00:00\",\"2023-07-30T00:00:00+00:00\",\"2023-07-31T00:00:00+00:00\",\"2023-08-01T00:00:00+00:00\",\"2023-08-02T00:00:00+00:00\",\"2023-08-03T00:00:00+00:00\",\"2023-08-04T00:00:00+00:00\",\"2023-08-05T00:00:00+00:00\",\"2023-08-06T00:00:00+00:00\",\"2023-08-07T00:00:00+00:00\",\"2023-08-08T00:00:00+00:00\",\"2023-08-09T00:00:00+00:00\",\"2023-08-10T00:00:00+00:00\",\"2023-08-11T00:00:00+00:00\",\"2023-08-12T00:00:00+00:00\",\"2023-08-13T00:00:00+00:00\",\"2023-08-14T00:00:00+00:00\",\"2023-08-15T00:00:00+00:00\",\"2023-08-16T00:00:00+00:00\",\"2023-08-17T00:00:00+00:00\",\"2023-08-18T00:00:00+00:00\",\"2023-08-19T00:00:00+00:00\",\"2023-08-20T00:00:00+00:00\",\"2023-08-21T00:00:00+00:00\",\"2023-08-22T00:00:00+00:00\",\"2023-08-23T00:00:00+00:00\",\"2023-08-24T00:00:00+00:00\",\"2023-08-25T00:00:00+00:00\",\"2023-08-26T00:00:00+00:00\",\"2023-08-27T00:00:00+00:00\",\"2023-08-28T00:00:00+00:00\",\"2023-08-29T00:00:00+00:00\",\"2023-08-30T00:00:00+00:00\",\"2023-08-31T00:00:00+00:00\",\"2023-09-01T00:00:00+00:00\",\"2023-09-02T00:00:00+00:00\",\"2023-09-03T00:00:00+00:00\",\"2023-09-04T00:00:00+00:00\",\"2023-09-05T00:00:00+00:00\",\"2023-09-06T00:00:00+00:00\",\"2023-09-07T00:00:00+00:00\",\"2023-09-08T00:00:00+00:00\",\"2023-09-09T00:00:00+00:00\",\"2023-09-10T00:00:00+00:00\",\"2023-09-11T00:00:00+00:00\",\"2023-09-12T00:00:00+00:00\",\"2023-09-13T00:00:00+00:00\",\"2023-09-14T00:00:00+00:00\",\"2023-09-15T00:00:00+00:00\",\"2023-09-16T00:00:00+00:00\",\"2023-09-17T00:00:00+00:00\",\"2023-09-18T00:00:00+00:00\",\"2023-09-19T00:00:00+00:00\",\"2023-09-20T00:00:00+00:00\",\"2023-09-21T00:00:00+00:00\",\"2023-09-22T00:00:00+00:00\",\"2023-09-23T00:00:00+00:00\",\"2023-09-24T00:00:00+00:00\",\"2023-09-25T00:00:00+00:00\",\"2023-09-26T00:00:00+00:00\",\"2023-09-27T00:00:00+00:00\",\"2023-09-28T00:00:00+00:00\",\"2023-09-29T00:00:00+00:00\",\"2023-09-30T00:00:00+00:00\"],\"type\":\"candlestick\"}],                        {\"template\":{\"data\":{\"histogram2dcontour\":[{\"type\":\"histogram2dcontour\",\"colorbar\":{\"outlinewidth\":0,\"ticks\":\"\"},\"colorscale\":[[0.0,\"#0d0887\"],[0.1111111111111111,\"#46039f\"],[0.2222222222222222,\"#7201a8\"],[0.3333333333333333,\"#9c179e\"],[0.4444444444444444,\"#bd3786\"],[0.5555555555555556,\"#d8576b\"],[0.6666666666666666,\"#ed7953\"],[0.7777777777777778,\"#fb9f3a\"],[0.8888888888888888,\"#fdca26\"],[1.0,\"#f0f921\"]]}],\"choropleth\":[{\"type\":\"choropleth\",\"colorbar\":{\"outlinewidth\":0,\"ticks\":\"\"}}],\"histogram2d\":[{\"type\":\"histogram2d\",\"colorbar\":{\"outlinewidth\":0,\"ticks\":\"\"},\"colorscale\":[[0.0,\"#0d0887\"],[0.1111111111111111,\"#46039f\"],[0.2222222222222222,\"#7201a8\"],[0.3333333333333333,\"#9c179e\"],[0.4444444444444444,\"#bd3786\"],[0.5555555555555556,\"#d8576b\"],[0.6666666666666666,\"#ed7953\"],[0.7777777777777778,\"#fb9f3a\"],[0.8888888888888888,\"#fdca26\"],[1.0,\"#f0f921\"]]}],\"heatmap\":[{\"type\":\"heatmap\",\"colorbar\":{\"outlinewidth\":0,\"ticks\":\"\"},\"colorscale\":[[0.0,\"#0d0887\"],[0.1111111111111111,\"#46039f\"],[0.2222222222222222,\"#7201a8\"],[0.3333333333333333,\"#9c179e\"],[0.4444444444444444,\"#bd3786\"],[0.5555555555555556,\"#d8576b\"],[0.6666666666666666,\"#ed7953\"],[0.7777777777777778,\"#fb9f3a\"],[0.8888888888888888,\"#fdca26\"],[1.0,\"#f0f921\"]]}],\"heatmapgl\":[{\"type\":\"heatmapgl\",\"colorbar\":{\"outlinewidth\":0,\"ticks\":\"\"},\"colorscale\":[[0.0,\"#0d0887\"],[0.1111111111111111,\"#46039f\"],[0.2222222222222222,\"#7201a8\"],[0.3333333333333333,\"#9c179e\"],[0.4444444444444444,\"#bd3786\"],[0.5555555555555556,\"#d8576b\"],[0.6666666666666666,\"#ed7953\"],[0.7777777777777778,\"#fb9f3a\"],[0.8888888888888888,\"#fdca26\"],[1.0,\"#f0f921\"]]}],\"contourcarpet\":[{\"type\":\"contourcarpet\",\"colorbar\":{\"outlinewidth\":0,\"ticks\":\"\"}}],\"contour\":[{\"type\":\"contour\",\"colorbar\":{\"outlinewidth\":0,\"ticks\":\"\"},\"colorscale\":[[0.0,\"#0d0887\"],[0.1111111111111111,\"#46039f\"],[0.2222222222222222,\"#7201a8\"],[0.3333333333333333,\"#9c179e\"],[0.4444444444444444,\"#bd3786\"],[0.5555555555555556,\"#d8576b\"],[0.6666666666666666,\"#ed7953\"],[0.7777777777777778,\"#fb9f3a\"],[0.8888888888888888,\"#fdca26\"],[1.0,\"#f0f921\"]]}],\"surface\":[{\"type\":\"surface\",\"colorbar\":{\"outlinewidth\":0,\"ticks\":\"\"},\"colorscale\":[[0.0,\"#0d0887\"],[0.1111111111111111,\"#46039f\"],[0.2222222222222222,\"#7201a8\"],[0.3333333333333333,\"#9c179e\"],[0.4444444444444444,\"#bd3786\"],[0.5555555555555556,\"#d8576b\"],[0.6666666666666666,\"#ed7953\"],[0.7777777777777778,\"#fb9f3a\"],[0.8888888888888888,\"#fdca26\"],[1.0,\"#f0f921\"]]}],\"mesh3d\":[{\"type\":\"mesh3d\",\"colorbar\":{\"outlinewidth\":0,\"ticks\":\"\"}}],\"scatter\":[{\"fillpattern\":{\"fillmode\":\"overlay\",\"size\":10,\"solidity\":0.2},\"type\":\"scatter\"}],\"parcoords\":[{\"type\":\"parcoords\",\"line\":{\"colorbar\":{\"outlinewidth\":0,\"ticks\":\"\"}}}],\"scatterpolargl\":[{\"type\":\"scatterpolargl\",\"marker\":{\"colorbar\":{\"outlinewidth\":0,\"ticks\":\"\"}}}],\"bar\":[{\"error_x\":{\"color\":\"#2a3f5f\"},\"error_y\":{\"color\":\"#2a3f5f\"},\"marker\":{\"line\":{\"color\":\"#E5ECF6\",\"width\":0.5},\"pattern\":{\"fillmode\":\"overlay\",\"size\":10,\"solidity\":0.2}},\"type\":\"bar\"}],\"scattergeo\":[{\"type\":\"scattergeo\",\"marker\":{\"colorbar\":{\"outlinewidth\":0,\"ticks\":\"\"}}}],\"scatterpolar\":[{\"type\":\"scatterpolar\",\"marker\":{\"colorbar\":{\"outlinewidth\":0,\"ticks\":\"\"}}}],\"histogram\":[{\"marker\":{\"pattern\":{\"fillmode\":\"overlay\",\"size\":10,\"solidity\":0.2}},\"type\":\"histogram\"}],\"scattergl\":[{\"type\":\"scattergl\",\"marker\":{\"colorbar\":{\"outlinewidth\":0,\"ticks\":\"\"}}}],\"scatter3d\":[{\"type\":\"scatter3d\",\"line\":{\"colorbar\":{\"outlinewidth\":0,\"ticks\":\"\"}},\"marker\":{\"colorbar\":{\"outlinewidth\":0,\"ticks\":\"\"}}}],\"scattermapbox\":[{\"type\":\"scattermapbox\",\"marker\":{\"colorbar\":{\"outlinewidth\":0,\"ticks\":\"\"}}}],\"scatterternary\":[{\"type\":\"scatterternary\",\"marker\":{\"colorbar\":{\"outlinewidth\":0,\"ticks\":\"\"}}}],\"scattercarpet\":[{\"type\":\"scattercarpet\",\"marker\":{\"colorbar\":{\"outlinewidth\":0,\"ticks\":\"\"}}}],\"carpet\":[{\"aaxis\":{\"endlinecolor\":\"#2a3f5f\",\"gridcolor\":\"white\",\"linecolor\":\"white\",\"minorgridcolor\":\"white\",\"startlinecolor\":\"#2a3f5f\"},\"baxis\":{\"endlinecolor\":\"#2a3f5f\",\"gridcolor\":\"white\",\"linecolor\":\"white\",\"minorgridcolor\":\"white\",\"startlinecolor\":\"#2a3f5f\"},\"type\":\"carpet\"}],\"table\":[{\"cells\":{\"fill\":{\"color\":\"#EBF0F8\"},\"line\":{\"color\":\"white\"}},\"header\":{\"fill\":{\"color\":\"#C8D4E3\"},\"line\":{\"color\":\"white\"}},\"type\":\"table\"}],\"barpolar\":[{\"marker\":{\"line\":{\"color\":\"#E5ECF6\",\"width\":0.5},\"pattern\":{\"fillmode\":\"overlay\",\"size\":10,\"solidity\":0.2}},\"type\":\"barpolar\"}],\"pie\":[{\"automargin\":true,\"type\":\"pie\"}]},\"layout\":{\"autotypenumbers\":\"strict\",\"colorway\":[\"#636efa\",\"#EF553B\",\"#00cc96\",\"#ab63fa\",\"#FFA15A\",\"#19d3f3\",\"#FF6692\",\"#B6E880\",\"#FF97FF\",\"#FECB52\"],\"font\":{\"color\":\"#2a3f5f\"},\"hovermode\":\"closest\",\"hoverlabel\":{\"align\":\"left\"},\"paper_bgcolor\":\"white\",\"plot_bgcolor\":\"#E5ECF6\",\"polar\":{\"bgcolor\":\"#E5ECF6\",\"angularaxis\":{\"gridcolor\":\"white\",\"linecolor\":\"white\",\"ticks\":\"\"},\"radialaxis\":{\"gridcolor\":\"white\",\"linecolor\":\"white\",\"ticks\":\"\"}},\"ternary\":{\"bgcolor\":\"#E5ECF6\",\"aaxis\":{\"gridcolor\":\"white\",\"linecolor\":\"white\",\"ticks\":\"\"},\"baxis\":{\"gridcolor\":\"white\",\"linecolor\":\"white\",\"ticks\":\"\"},\"caxis\":{\"gridcolor\":\"white\",\"linecolor\":\"white\",\"ticks\":\"\"}},\"coloraxis\":{\"colorbar\":{\"outlinewidth\":0,\"ticks\":\"\"}},\"colorscale\":{\"sequential\":[[0.0,\"#0d0887\"],[0.1111111111111111,\"#46039f\"],[0.2222222222222222,\"#7201a8\"],[0.3333333333333333,\"#9c179e\"],[0.4444444444444444,\"#bd3786\"],[0.5555555555555556,\"#d8576b\"],[0.6666666666666666,\"#ed7953\"],[0.7777777777777778,\"#fb9f3a\"],[0.8888888888888888,\"#fdca26\"],[1.0,\"#f0f921\"]],\"sequentialminus\":[[0.0,\"#0d0887\"],[0.1111111111111111,\"#46039f\"],[0.2222222222222222,\"#7201a8\"],[0.3333333333333333,\"#9c179e\"],[0.4444444444444444,\"#bd3786\"],[0.5555555555555556,\"#d8576b\"],[0.6666666666666666,\"#ed7953\"],[0.7777777777777778,\"#fb9f3a\"],[0.8888888888888888,\"#fdca26\"],[1.0,\"#f0f921\"]],\"diverging\":[[0,\"#8e0152\"],[0.1,\"#c51b7d\"],[0.2,\"#de77ae\"],[0.3,\"#f1b6da\"],[0.4,\"#fde0ef\"],[0.5,\"#f7f7f7\"],[0.6,\"#e6f5d0\"],[0.7,\"#b8e186\"],[0.8,\"#7fbc41\"],[0.9,\"#4d9221\"],[1,\"#276419\"]]},\"xaxis\":{\"gridcolor\":\"white\",\"linecolor\":\"white\",\"ticks\":\"\",\"title\":{\"standoff\":15},\"zerolinecolor\":\"white\",\"automargin\":true,\"zerolinewidth\":2},\"yaxis\":{\"gridcolor\":\"white\",\"linecolor\":\"white\",\"ticks\":\"\",\"title\":{\"standoff\":15},\"zerolinecolor\":\"white\",\"automargin\":true,\"zerolinewidth\":2},\"scene\":{\"xaxis\":{\"backgroundcolor\":\"#E5ECF6\",\"gridcolor\":\"white\",\"linecolor\":\"white\",\"showbackground\":true,\"ticks\":\"\",\"zerolinecolor\":\"white\",\"gridwidth\":2},\"yaxis\":{\"backgroundcolor\":\"#E5ECF6\",\"gridcolor\":\"white\",\"linecolor\":\"white\",\"showbackground\":true,\"ticks\":\"\",\"zerolinecolor\":\"white\",\"gridwidth\":2},\"zaxis\":{\"backgroundcolor\":\"#E5ECF6\",\"gridcolor\":\"white\",\"linecolor\":\"white\",\"showbackground\":true,\"ticks\":\"\",\"zerolinecolor\":\"white\",\"gridwidth\":2}},\"shapedefaults\":{\"line\":{\"color\":\"#2a3f5f\"}},\"annotationdefaults\":{\"arrowcolor\":\"#2a3f5f\",\"arrowhead\":0,\"arrowwidth\":1},\"geo\":{\"bgcolor\":\"white\",\"landcolor\":\"#E5ECF6\",\"subunitcolor\":\"white\",\"showland\":true,\"showlakes\":true,\"lakecolor\":\"white\"},\"title\":{\"x\":0.05},\"mapbox\":{\"style\":\"light\"}}},\"title\":{\"text\":\"BTC\\u002fUSD\"},\"xaxis\":{\"title\":{\"text\":\"Date\"}},\"yaxis\":{\"title\":{\"text\":\"Closing Price (USD)\"}}},                        {\"responsive\": true}                    ).then(function(){\n",
       "                            \n",
       "var gd = document.getElementById('f07e1d87-84c8-4ae2-ab59-a9cc273e85da');\n",
       "var x = new MutationObserver(function (mutations, observer) {{\n",
       "        var display = window.getComputedStyle(gd).display;\n",
       "        if (!display || display === 'none') {{\n",
       "            console.log([gd, 'removed!']);\n",
       "            Plotly.purge(gd);\n",
       "            observer.disconnect();\n",
       "        }}\n",
       "}});\n",
       "\n",
       "// Listen for the removal of the full notebook cells\n",
       "var notebookContainer = gd.closest('#notebook-container');\n",
       "if (notebookContainer) {{\n",
       "    x.observe(notebookContainer, {childList: true});\n",
       "}}\n",
       "\n",
       "// Listen for the clearing of the current output cell\n",
       "var outputEl = gd.closest('.output');\n",
       "if (outputEl) {{\n",
       "    x.observe(outputEl, {childList: true});\n",
       "}}\n",
       "\n",
       "                        })                };                });            </script>        </div>"
      ]
     },
     "metadata": {},
     "output_type": "display_data"
    }
   ],
   "source": [
    "plot_candle_chart(btc_df, title='BTC/USD', y_title='Closing Price (USD)')"
   ]
  },
  {
   "cell_type": "code",
   "execution_count": null,
   "metadata": {},
   "outputs": [],
   "source": [
    "\n"
   ]
  }
 ],
 "metadata": {
  "kernelspec": {
   "display_name": "base",
   "language": "python",
   "name": "python3"
  },
  "language_info": {
   "codemirror_mode": {
    "name": "ipython",
    "version": 3
   },
   "file_extension": ".py",
   "mimetype": "text/x-python",
   "name": "python",
   "nbconvert_exporter": "python",
   "pygments_lexer": "ipython3",
   "version": "3.12.2"
  }
 },
 "nbformat": 4,
 "nbformat_minor": 2
}
