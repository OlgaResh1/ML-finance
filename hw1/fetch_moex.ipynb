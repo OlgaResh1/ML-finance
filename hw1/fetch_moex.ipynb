{
 "cells": [
  {
   "cell_type": "code",
   "execution_count": 4,
   "metadata": {},
   "outputs": [],
   "source": [
    "import requests\n",
    "import pandas as pd\n"
   ]
  },
  {
   "cell_type": "code",
   "execution_count": 5,
   "metadata": {},
   "outputs": [],
   "source": [
    "\n",
    "\"\"\"\n",
    "Fetch MOEX(ticker, date range)\n",
    "\n",
    ":param ticker: str, stock ticker symbol (e.g., 'SBER', 'LKOH')\n",
    ":param start_date: str, start date in 'YYYY-MM-DD' format\n",
    ":param end_date: str, end date in 'YYYY-MM-DD' format\n",
    ":return: pandas.DataFrame, stock data\n",
    "\"\"\"\n",
    "\n",
    "def fetch_moex_data(ticker, start_date, end_date):\n",
    "    # API endpoint for MOEX data\n",
    "    url = f\"https://iss.moex.com/iss/history/engines/stock/markets/shares/boards/TQBR/securities/{ticker}.json\"\n",
    "    params = {\n",
    "        \"from\": start_date,\n",
    "        \"till\": end_date,\n",
    "        \"start\": 0\n",
    "    }\n",
    "    response = requests.get(url, params=params)\n",
    "    data = response.json()\n",
    "    \n",
    "    history_data = data['history']['data']\n",
    "    columns = data['history']['columns']\n",
    "    df = pd.DataFrame(history_data, columns=columns)\n",
    "    \n",
    "    df['TRADEDATE'] = pd.to_datetime(df['TRADEDATE'])\n",
    "    df['CLOSE'] = pd.to_numeric(df['CLOSE'])\n",
    "    \n",
    "    df.columns = df.columns.str.lower()\n",
    "\n",
    "    df = df.rename(columns={'tradedate': 'date'})\n",
    "\n",
    "    return df"
   ]
  }
 ],
 "metadata": {
  "kernelspec": {
   "display_name": "base",
   "language": "python",
   "name": "python3"
  },
  "language_info": {
   "codemirror_mode": {
    "name": "ipython",
    "version": 3
   },
   "file_extension": ".py",
   "mimetype": "text/x-python",
   "name": "python",
   "nbconvert_exporter": "python",
   "pygments_lexer": "ipython3",
   "version": "3.12.2"
  }
 },
 "nbformat": 4,
 "nbformat_minor": 2
}
