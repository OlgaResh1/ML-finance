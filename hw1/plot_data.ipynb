{
 "cells": [
  {
   "cell_type": "code",
   "execution_count": 1,
   "metadata": {},
   "outputs": [],
   "source": [
    "import plotly.express as px\n",
    "import plotly.graph_objs as go"
   ]
  },
  {
   "cell_type": "code",
   "execution_count": 2,
   "metadata": {},
   "outputs": [],
   "source": [
    "def plot_data(df, title, x_title='Date', y_title='Price'):\n",
    "    fig = go.Figure(data=[go.Scatter(x=df['date'], y=df['close'], mode='lines')])\n",
    "    fig.update_layout(title=title,\n",
    "                      xaxis_title=x_title,\n",
    "                      yaxis_title=y_title)\n",
    "    fig.show()"
   ]
  },
  {
   "cell_type": "code",
   "execution_count": 3,
   "metadata": {},
   "outputs": [],
   "source": [
    "def plot_candle_chart(df, title, x_title='Date', y_title='Price'):\n",
    "    fig = go.Figure([go.Candlestick(x=df['date'], \n",
    "                                open=df['open'],\n",
    "                                high=df['high'],\n",
    "                                low=df['low'],\n",
    "                                close=df['close'])])\n",
    "    fig.update_layout(title=title,\n",
    "                      xaxis_title=x_title,\n",
    "                      yaxis_title=y_title)\n",
    "\n",
    "    fig.show()"
   ]
  }
 ],
 "metadata": {
  "kernelspec": {
   "display_name": "base",
   "language": "python",
   "name": "python3"
  },
  "language_info": {
   "codemirror_mode": {
    "name": "ipython",
    "version": 3
   },
   "file_extension": ".py",
   "mimetype": "text/x-python",
   "name": "python",
   "nbconvert_exporter": "python",
   "pygments_lexer": "ipython3",
   "version": "3.12.2"
  }
 },
 "nbformat": 4,
 "nbformat_minor": 2
}
