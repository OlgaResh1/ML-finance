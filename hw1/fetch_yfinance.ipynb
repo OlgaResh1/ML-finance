{
 "cells": [
  {
   "cell_type": "code",
   "execution_count": 4,
   "metadata": {},
   "outputs": [],
   "source": [
    "import yfinance as yf\n"
   ]
  },
  {
   "cell_type": "code",
   "execution_count": 5,
   "metadata": {},
   "outputs": [],
   "source": [
    "\n",
    "def fetch_yfinance_data(ticker='BTC-USD', start_date='2022-10-01', end_date='2023-10-01'):\n",
    "    # Fetch data using yfinance\n",
    "    data = yf.Ticker(ticker)\n",
    "    df = data.history(start=start_date, end=end_date)\n",
    "    \n",
    "    df.columns = df.columns.str.lower()\n",
    "    \n",
    "    df['date'] = df.index\n",
    "    \n",
    "    return df"
   ]
  }
 ],
 "metadata": {
  "kernelspec": {
   "display_name": "base",
   "language": "python",
   "name": "python3"
  },
  "language_info": {
   "codemirror_mode": {
    "name": "ipython",
    "version": 3
   },
   "file_extension": ".py",
   "mimetype": "text/x-python",
   "name": "python",
   "nbconvert_exporter": "python",
   "pygments_lexer": "ipython3",
   "version": "3.12.2"
  }
 },
 "nbformat": 4,
 "nbformat_minor": 2
}
